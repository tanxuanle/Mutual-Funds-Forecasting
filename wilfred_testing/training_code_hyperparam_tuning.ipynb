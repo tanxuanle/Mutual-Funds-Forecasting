{
 "cells": [
  {
   "cell_type": "code",
   "execution_count": 1,
   "metadata": {},
   "outputs": [
    {
     "data": {
      "text/plain": [
       "Index(['crsp_fundno', 'date', 'mth_return', 'exp_ratio', 'turn_ratio',\n",
       "       'normalised_flow', 'gdp_to_debt_ratio', 'gdp_growth_rate', 'unm_rate',\n",
       "       'infl_rate', 'mktrf', 'smb', 'hml', 'rmw', 'cma', 'rf', 'umd',\n",
       "       'excess_return', 'rolling_sharpe', 'mkt_return', 'rolling_alpha_3f',\n",
       "       'rolling_alpha_4f', 'rolling_alpha_5f', 'shortrun_momentum'],\n",
       "      dtype='object')"
      ]
     },
     "execution_count": 1,
     "metadata": {},
     "output_type": "execute_result"
    }
   ],
   "source": [
    "import pandas as pd\n",
    "import bisect\n",
    "from sklearn.preprocessing import StandardScaler\n",
    "from sklearn.neural_network import MLPRegressor\n",
    "from sklearn.linear_model import LinearRegression\n",
    "from sklearn.linear_model import Ridge, RidgeCV, Lasso, LassoCV, ElasticNet, ElasticNetCV, SGDRegressor\n",
    "from sklearn.ensemble import RandomForestRegressor\n",
    "\n",
    "df = pd.read_csv(\"df_ff_factors_010225.csv\")\n",
    "df = df.drop(columns=[\"Unnamed: 0\",\"crsp_portno\"])\n",
    "df = df.sort_values(by='date')\n",
    "df.columns"
   ]
  },
  {
   "cell_type": "code",
   "execution_count": 2,
   "metadata": {},
   "outputs": [
    {
     "data": {
      "text/html": [
       "<div>\n",
       "<style scoped>\n",
       "    .dataframe tbody tr th:only-of-type {\n",
       "        vertical-align: middle;\n",
       "    }\n",
       "\n",
       "    .dataframe tbody tr th {\n",
       "        vertical-align: top;\n",
       "    }\n",
       "\n",
       "    .dataframe thead th {\n",
       "        text-align: right;\n",
       "    }\n",
       "</style>\n",
       "<table border=\"1\" class=\"dataframe\">\n",
       "  <thead>\n",
       "    <tr style=\"text-align: right;\">\n",
       "      <th></th>\n",
       "      <th>rolling_sharpe</th>\n",
       "    </tr>\n",
       "  </thead>\n",
       "  <tbody>\n",
       "    <tr>\n",
       "      <th>43632</th>\n",
       "      <td>2.216452</td>\n",
       "    </tr>\n",
       "    <tr>\n",
       "      <th>43633</th>\n",
       "      <td>3.058133</td>\n",
       "    </tr>\n",
       "    <tr>\n",
       "      <th>13748</th>\n",
       "      <td>-0.536935</td>\n",
       "    </tr>\n",
       "    <tr>\n",
       "      <th>43634</th>\n",
       "      <td>1.604677</td>\n",
       "    </tr>\n",
       "    <tr>\n",
       "      <th>13749</th>\n",
       "      <td>0.429084</td>\n",
       "    </tr>\n",
       "    <tr>\n",
       "      <th>...</th>\n",
       "      <td>...</td>\n",
       "    </tr>\n",
       "    <tr>\n",
       "      <th>3031</th>\n",
       "      <td>1.619481</td>\n",
       "    </tr>\n",
       "    <tr>\n",
       "      <th>1960</th>\n",
       "      <td>0.691406</td>\n",
       "    </tr>\n",
       "    <tr>\n",
       "      <th>2113</th>\n",
       "      <td>0.691738</td>\n",
       "    </tr>\n",
       "    <tr>\n",
       "      <th>1842</th>\n",
       "      <td>0.676394</td>\n",
       "    </tr>\n",
       "    <tr>\n",
       "      <th>1901</th>\n",
       "      <td>0.631615</td>\n",
       "    </tr>\n",
       "  </tbody>\n",
       "</table>\n",
       "<p>54349 rows × 1 columns</p>\n",
       "</div>"
      ],
      "text/plain": [
       "       rolling_sharpe\n",
       "43632        2.216452\n",
       "43633        3.058133\n",
       "13748       -0.536935\n",
       "43634        1.604677\n",
       "13749        0.429084\n",
       "...               ...\n",
       "3031         1.619481\n",
       "1960         0.691406\n",
       "2113         0.691738\n",
       "1842         0.676394\n",
       "1901         0.631615\n",
       "\n",
       "[54349 rows x 1 columns]"
      ]
     },
     "execution_count": 2,
     "metadata": {},
     "output_type": "execute_result"
    }
   ],
   "source": [
    "# Generate Lagged Dataset\n",
    "def create_lagged_dataset(dataset, lag, target_var, id):\n",
    "    lagged_dataset = dataset.copy()\n",
    "    columns_list = list(lagged_dataset.columns)\n",
    "    data_join = {}\n",
    "    for column in columns_list:\n",
    "        if column == target_var:\n",
    "            data_join[column] = lagged_dataset[column]\n",
    "        for n in range(1,lag+1):\n",
    "            data_join[F'{column}_L{n}'] = lagged_dataset.groupby(id)[column].shift(n)\n",
    "    lagged_dataset = pd.concat(data_join.values(), axis=1, ignore_index = True)\n",
    "    lagged_dataset.columns = data_join.keys()\n",
    "    return lagged_dataset.dropna()\n",
    "\n",
    "# Generate Stepped Dataset for Training\n",
    "## Steps is the number of months ahead that we are forecasting, e.g. step=2 is 2 months ahead.\n",
    "## Note step=1 results in no change to dataset, i.e. use generated lagged variables to forecast current. \n",
    "def create_stepped_dataset(dataset, step, target_var, id):\n",
    "    \n",
    "    shifted_dataset = dataset.copy()\n",
    "    shifted_dataset['shifted_target'] = shifted_dataset.groupby(id)[target_var].shift(-step + 1)\n",
    "    \n",
    "    # Drop rows where the shifted target is NaN (these occur due to the shift operation)\n",
    "    shifted_dataset = shifted_dataset.dropna(subset=['shifted_target'])\n",
    "    \n",
    "    # Separate the features (X) and the target (y)\n",
    "    X = shifted_dataset.drop(columns=[target_var, 'shifted_target'])\n",
    "    y = shifted_dataset[['shifted_target']]\n",
    "    y = y.rename(columns={'shifted_target':target_var})\n",
    "    return X, y\n",
    "\n",
    "x = create_lagged_dataset(df, lag = 1, target_var='rolling_sharpe', id = 'crsp_fundno')\n",
    "test_step = create_stepped_dataset(x, step=1, target_var='rolling_sharpe', id = 'crsp_fundno_L1')[1]\n",
    "test_step"
   ]
  },
  {
   "cell_type": "code",
   "execution_count": 3,
   "metadata": {},
   "outputs": [
    {
     "data": {
      "text/plain": [
       "array([[1.        , 0.16425066],\n",
       "       [0.16425066, 1.        ]])"
      ]
     },
     "execution_count": 3,
     "metadata": {},
     "output_type": "execute_result"
    }
   ],
   "source": [
    "import numpy as np\n",
    "corr = np.corrcoef(df['rolling_alpha_5f'], df['rolling_sharpe'])\n",
    "corr # 0.164 --> can use!"
   ]
  },
  {
   "cell_type": "markdown",
   "metadata": {},
   "source": [
    "3-Factor Model: mktrf, SMB, HML\n",
    "4-Factor Model: mktrf, SMB, HML, UMD\n",
    "5-Factor Model: mktrf, SMB, HML, RMW, CMA"
   ]
  },
  {
   "cell_type": "code",
   "execution_count": 4,
   "metadata": {},
   "outputs": [
    {
     "data": {
      "text/html": [
       "<div>\n",
       "<style scoped>\n",
       "    .dataframe tbody tr th:only-of-type {\n",
       "        vertical-align: middle;\n",
       "    }\n",
       "\n",
       "    .dataframe tbody tr th {\n",
       "        vertical-align: top;\n",
       "    }\n",
       "\n",
       "    .dataframe thead th {\n",
       "        text-align: right;\n",
       "    }\n",
       "</style>\n",
       "<table border=\"1\" class=\"dataframe\">\n",
       "  <thead>\n",
       "    <tr style=\"text-align: right;\">\n",
       "      <th></th>\n",
       "      <th>crsp_fundno</th>\n",
       "      <th>date</th>\n",
       "      <th>exp_ratio</th>\n",
       "      <th>turn_ratio</th>\n",
       "      <th>normalised_flow</th>\n",
       "      <th>gdp_to_debt_ratio</th>\n",
       "      <th>gdp_growth_rate</th>\n",
       "      <th>unm_rate</th>\n",
       "      <th>infl_rate</th>\n",
       "      <th>mktrf</th>\n",
       "      <th>smb</th>\n",
       "      <th>hml</th>\n",
       "      <th>umd</th>\n",
       "      <th>excess_return</th>\n",
       "      <th>rolling_sharpe</th>\n",
       "      <th>rolling_alpha_3f</th>\n",
       "      <th>rolling_alpha_4f</th>\n",
       "      <th>rolling_alpha_5f</th>\n",
       "      <th>shortrun_momentum</th>\n",
       "    </tr>\n",
       "  </thead>\n",
       "  <tbody>\n",
       "    <tr>\n",
       "      <th>43631</th>\n",
       "      <td>32553.0</td>\n",
       "      <td>1993-08-31</td>\n",
       "      <td>0.0162</td>\n",
       "      <td>0.15</td>\n",
       "      <td>0.009529</td>\n",
       "      <td>64.101</td>\n",
       "      <td>3.5225</td>\n",
       "      <td>6.8</td>\n",
       "      <td>2.90</td>\n",
       "      <td>0.0371</td>\n",
       "      <td>0.0010</td>\n",
       "      <td>0.0013</td>\n",
       "      <td>0.0265</td>\n",
       "      <td>0.068910</td>\n",
       "      <td>3.248937</td>\n",
       "      <td>0.068910</td>\n",
       "      <td>0.068910</td>\n",
       "      <td>0.068910</td>\n",
       "      <td>0.012866</td>\n",
       "    </tr>\n",
       "    <tr>\n",
       "      <th>43632</th>\n",
       "      <td>32553.0</td>\n",
       "      <td>1993-09-30</td>\n",
       "      <td>0.0162</td>\n",
       "      <td>0.15</td>\n",
       "      <td>0.014881</td>\n",
       "      <td>64.101</td>\n",
       "      <td>3.5225</td>\n",
       "      <td>6.7</td>\n",
       "      <td>2.90</td>\n",
       "      <td>-0.0012</td>\n",
       "      <td>0.0298</td>\n",
       "      <td>-0.0031</td>\n",
       "      <td>0.0337</td>\n",
       "      <td>-0.004108</td>\n",
       "      <td>2.216452</td>\n",
       "      <td>-0.004108</td>\n",
       "      <td>-0.004108</td>\n",
       "      <td>-0.004108</td>\n",
       "      <td>-0.009113</td>\n",
       "    </tr>\n",
       "    <tr>\n",
       "      <th>43633</th>\n",
       "      <td>32553.0</td>\n",
       "      <td>1993-10-29</td>\n",
       "      <td>0.0162</td>\n",
       "      <td>0.15</td>\n",
       "      <td>0.030641</td>\n",
       "      <td>64.669</td>\n",
       "      <td>3.5225</td>\n",
       "      <td>6.8</td>\n",
       "      <td>2.90</td>\n",
       "      <td>0.0141</td>\n",
       "      <td>0.0189</td>\n",
       "      <td>-0.0276</td>\n",
       "      <td>-0.0272</td>\n",
       "      <td>0.040962</td>\n",
       "      <td>3.058133</td>\n",
       "      <td>0.040962</td>\n",
       "      <td>0.040962</td>\n",
       "      <td>0.040962</td>\n",
       "      <td>0.000383</td>\n",
       "    </tr>\n",
       "    <tr>\n",
       "      <th>13747</th>\n",
       "      <td>12051.0</td>\n",
       "      <td>1993-10-29</td>\n",
       "      <td>0.0188</td>\n",
       "      <td>0.77</td>\n",
       "      <td>0.070030</td>\n",
       "      <td>64.669</td>\n",
       "      <td>3.5225</td>\n",
       "      <td>6.8</td>\n",
       "      <td>2.90</td>\n",
       "      <td>0.0141</td>\n",
       "      <td>0.0189</td>\n",
       "      <td>-0.0276</td>\n",
       "      <td>-0.0272</td>\n",
       "      <td>0.034690</td>\n",
       "      <td>5.744340</td>\n",
       "      <td>0.034690</td>\n",
       "      <td>0.034690</td>\n",
       "      <td>0.034690</td>\n",
       "      <td>0.013103</td>\n",
       "    </tr>\n",
       "    <tr>\n",
       "      <th>13748</th>\n",
       "      <td>12051.0</td>\n",
       "      <td>1993-11-30</td>\n",
       "      <td>0.0188</td>\n",
       "      <td>0.77</td>\n",
       "      <td>0.000259</td>\n",
       "      <td>64.669</td>\n",
       "      <td>3.5225</td>\n",
       "      <td>6.6</td>\n",
       "      <td>2.90</td>\n",
       "      <td>-0.0189</td>\n",
       "      <td>-0.0127</td>\n",
       "      <td>-0.0074</td>\n",
       "      <td>-0.0474</td>\n",
       "      <td>-0.075999</td>\n",
       "      <td>-0.536935</td>\n",
       "      <td>-0.075999</td>\n",
       "      <td>-0.075999</td>\n",
       "      <td>-0.075999</td>\n",
       "      <td>-0.026033</td>\n",
       "    </tr>\n",
       "    <tr>\n",
       "      <th>...</th>\n",
       "      <td>...</td>\n",
       "      <td>...</td>\n",
       "      <td>...</td>\n",
       "      <td>...</td>\n",
       "      <td>...</td>\n",
       "      <td>...</td>\n",
       "      <td>...</td>\n",
       "      <td>...</td>\n",
       "      <td>...</td>\n",
       "      <td>...</td>\n",
       "      <td>...</td>\n",
       "      <td>...</td>\n",
       "      <td>...</td>\n",
       "      <td>...</td>\n",
       "      <td>...</td>\n",
       "      <td>...</td>\n",
       "      <td>...</td>\n",
       "      <td>...</td>\n",
       "      <td>...</td>\n",
       "    </tr>\n",
       "    <tr>\n",
       "      <th>3031</th>\n",
       "      <td>4610.0</td>\n",
       "      <td>2024-06-28</td>\n",
       "      <td>0.0217</td>\n",
       "      <td>0.23</td>\n",
       "      <td>-0.650182</td>\n",
       "      <td>120.040</td>\n",
       "      <td>2.5427</td>\n",
       "      <td>4.1</td>\n",
       "      <td>3.35</td>\n",
       "      <td>0.0070</td>\n",
       "      <td>-0.0568</td>\n",
       "      <td>-0.0247</td>\n",
       "      <td>0.0508</td>\n",
       "      <td>0.078518</td>\n",
       "      <td>1.619481</td>\n",
       "      <td>0.001428</td>\n",
       "      <td>0.002329</td>\n",
       "      <td>0.003201</td>\n",
       "      <td>-0.025985</td>\n",
       "    </tr>\n",
       "    <tr>\n",
       "      <th>1960</th>\n",
       "      <td>4330.0</td>\n",
       "      <td>2024-07-31</td>\n",
       "      <td>0.0077</td>\n",
       "      <td>0.31</td>\n",
       "      <td>-0.022800</td>\n",
       "      <td>120.731</td>\n",
       "      <td>2.5427</td>\n",
       "      <td>4.2</td>\n",
       "      <td>3.35</td>\n",
       "      <td>0.0070</td>\n",
       "      <td>-0.0568</td>\n",
       "      <td>-0.0247</td>\n",
       "      <td>0.0508</td>\n",
       "      <td>0.028784</td>\n",
       "      <td>0.691406</td>\n",
       "      <td>0.004765</td>\n",
       "      <td>0.005643</td>\n",
       "      <td>0.010978</td>\n",
       "      <td>-0.024241</td>\n",
       "    </tr>\n",
       "    <tr>\n",
       "      <th>2113</th>\n",
       "      <td>4333.0</td>\n",
       "      <td>2024-07-31</td>\n",
       "      <td>0.0076</td>\n",
       "      <td>0.31</td>\n",
       "      <td>-0.402964</td>\n",
       "      <td>120.731</td>\n",
       "      <td>2.5427</td>\n",
       "      <td>4.2</td>\n",
       "      <td>3.35</td>\n",
       "      <td>0.0070</td>\n",
       "      <td>-0.0568</td>\n",
       "      <td>-0.0247</td>\n",
       "      <td>0.0508</td>\n",
       "      <td>0.028779</td>\n",
       "      <td>0.691738</td>\n",
       "      <td>0.004733</td>\n",
       "      <td>0.005601</td>\n",
       "      <td>0.010953</td>\n",
       "      <td>-0.024228</td>\n",
       "    </tr>\n",
       "    <tr>\n",
       "      <th>1842</th>\n",
       "      <td>4327.0</td>\n",
       "      <td>2024-07-31</td>\n",
       "      <td>0.0102</td>\n",
       "      <td>0.31</td>\n",
       "      <td>-0.032107</td>\n",
       "      <td>120.731</td>\n",
       "      <td>2.5427</td>\n",
       "      <td>4.2</td>\n",
       "      <td>3.35</td>\n",
       "      <td>0.0070</td>\n",
       "      <td>-0.0568</td>\n",
       "      <td>-0.0247</td>\n",
       "      <td>0.0508</td>\n",
       "      <td>0.028569</td>\n",
       "      <td>0.676394</td>\n",
       "      <td>0.004506</td>\n",
       "      <td>0.005384</td>\n",
       "      <td>0.010697</td>\n",
       "      <td>-0.024451</td>\n",
       "    </tr>\n",
       "    <tr>\n",
       "      <th>1901</th>\n",
       "      <td>4329.0</td>\n",
       "      <td>2024-07-31</td>\n",
       "      <td>0.0178</td>\n",
       "      <td>0.31</td>\n",
       "      <td>-1.025886</td>\n",
       "      <td>120.731</td>\n",
       "      <td>2.5427</td>\n",
       "      <td>4.2</td>\n",
       "      <td>3.35</td>\n",
       "      <td>0.0070</td>\n",
       "      <td>-0.0568</td>\n",
       "      <td>-0.0247</td>\n",
       "      <td>0.0508</td>\n",
       "      <td>0.027821</td>\n",
       "      <td>0.631615</td>\n",
       "      <td>0.003868</td>\n",
       "      <td>0.004746</td>\n",
       "      <td>0.010018</td>\n",
       "      <td>-0.025131</td>\n",
       "    </tr>\n",
       "  </tbody>\n",
       "</table>\n",
       "<p>54718 rows × 19 columns</p>\n",
       "</div>"
      ],
      "text/plain": [
       "       crsp_fundno        date  exp_ratio  turn_ratio  normalised_flow  \\\n",
       "43631      32553.0  1993-08-31     0.0162        0.15         0.009529   \n",
       "43632      32553.0  1993-09-30     0.0162        0.15         0.014881   \n",
       "43633      32553.0  1993-10-29     0.0162        0.15         0.030641   \n",
       "13747      12051.0  1993-10-29     0.0188        0.77         0.070030   \n",
       "13748      12051.0  1993-11-30     0.0188        0.77         0.000259   \n",
       "...            ...         ...        ...         ...              ...   \n",
       "3031        4610.0  2024-06-28     0.0217        0.23        -0.650182   \n",
       "1960        4330.0  2024-07-31     0.0077        0.31        -0.022800   \n",
       "2113        4333.0  2024-07-31     0.0076        0.31        -0.402964   \n",
       "1842        4327.0  2024-07-31     0.0102        0.31        -0.032107   \n",
       "1901        4329.0  2024-07-31     0.0178        0.31        -1.025886   \n",
       "\n",
       "       gdp_to_debt_ratio  gdp_growth_rate  unm_rate  infl_rate   mktrf  \\\n",
       "43631             64.101           3.5225       6.8       2.90  0.0371   \n",
       "43632             64.101           3.5225       6.7       2.90 -0.0012   \n",
       "43633             64.669           3.5225       6.8       2.90  0.0141   \n",
       "13747             64.669           3.5225       6.8       2.90  0.0141   \n",
       "13748             64.669           3.5225       6.6       2.90 -0.0189   \n",
       "...                  ...              ...       ...        ...     ...   \n",
       "3031             120.040           2.5427       4.1       3.35  0.0070   \n",
       "1960             120.731           2.5427       4.2       3.35  0.0070   \n",
       "2113             120.731           2.5427       4.2       3.35  0.0070   \n",
       "1842             120.731           2.5427       4.2       3.35  0.0070   \n",
       "1901             120.731           2.5427       4.2       3.35  0.0070   \n",
       "\n",
       "          smb     hml     umd  excess_return  rolling_sharpe  \\\n",
       "43631  0.0010  0.0013  0.0265       0.068910        3.248937   \n",
       "43632  0.0298 -0.0031  0.0337      -0.004108        2.216452   \n",
       "43633  0.0189 -0.0276 -0.0272       0.040962        3.058133   \n",
       "13747  0.0189 -0.0276 -0.0272       0.034690        5.744340   \n",
       "13748 -0.0127 -0.0074 -0.0474      -0.075999       -0.536935   \n",
       "...       ...     ...     ...            ...             ...   \n",
       "3031  -0.0568 -0.0247  0.0508       0.078518        1.619481   \n",
       "1960  -0.0568 -0.0247  0.0508       0.028784        0.691406   \n",
       "2113  -0.0568 -0.0247  0.0508       0.028779        0.691738   \n",
       "1842  -0.0568 -0.0247  0.0508       0.028569        0.676394   \n",
       "1901  -0.0568 -0.0247  0.0508       0.027821        0.631615   \n",
       "\n",
       "       rolling_alpha_3f  rolling_alpha_4f  rolling_alpha_5f  shortrun_momentum  \n",
       "43631          0.068910          0.068910          0.068910           0.012866  \n",
       "43632         -0.004108         -0.004108         -0.004108          -0.009113  \n",
       "43633          0.040962          0.040962          0.040962           0.000383  \n",
       "13747          0.034690          0.034690          0.034690           0.013103  \n",
       "13748         -0.075999         -0.075999         -0.075999          -0.026033  \n",
       "...                 ...               ...               ...                ...  \n",
       "3031           0.001428          0.002329          0.003201          -0.025985  \n",
       "1960           0.004765          0.005643          0.010978          -0.024241  \n",
       "2113           0.004733          0.005601          0.010953          -0.024228  \n",
       "1842           0.004506          0.005384          0.010697          -0.024451  \n",
       "1901           0.003868          0.004746          0.010018          -0.025131  \n",
       "\n",
       "[54718 rows x 19 columns]"
      ]
     },
     "execution_count": 4,
     "metadata": {},
     "output_type": "execute_result"
    }
   ],
   "source": [
    "df_3_factor = df.drop(columns=['mkt_return','umd','cma','rmw','mth_return','rf'])\n",
    "df_3_factor = df[['date','mth_return','exp_ratio','turn_ratio','mktrf', 'smb', 'hml']]\n",
    "df_4_factor = df.drop(columns=['mkt_return','cma','rmw','mth_return','rf'])\n",
    "df_5_factor = df.drop(columns=['mkt_return','umd','mth_return','rf'])\n",
    "df_4_factor"
   ]
  },
  {
   "cell_type": "code",
   "execution_count": 3,
   "metadata": {},
   "outputs": [
    {
     "data": {
      "text/html": [
       "<div>\n",
       "<style scoped>\n",
       "    .dataframe tbody tr th:only-of-type {\n",
       "        vertical-align: middle;\n",
       "    }\n",
       "\n",
       "    .dataframe tbody tr th {\n",
       "        vertical-align: top;\n",
       "    }\n",
       "\n",
       "    .dataframe thead th {\n",
       "        text-align: right;\n",
       "    }\n",
       "</style>\n",
       "<table border=\"1\" class=\"dataframe\">\n",
       "  <thead>\n",
       "    <tr style=\"text-align: right;\">\n",
       "      <th></th>\n",
       "      <th>crsp_fundno</th>\n",
       "      <th>date</th>\n",
       "      <th>mth_return</th>\n",
       "      <th>gdp_to_debt_ratio</th>\n",
       "      <th>gdp_growth_rate</th>\n",
       "      <th>unm_rate</th>\n",
       "      <th>infl_rate</th>\n",
       "      <th>mktrf</th>\n",
       "      <th>smb</th>\n",
       "      <th>hml</th>\n",
       "      <th>...</th>\n",
       "      <th>excess_return</th>\n",
       "      <th>rolling_sharpe</th>\n",
       "      <th>mkt_return</th>\n",
       "      <th>rolling_alpha_3f</th>\n",
       "      <th>rolling_alpha_4f</th>\n",
       "      <th>rolling_alpha_5f</th>\n",
       "      <th>demeaned_exp_ratio</th>\n",
       "      <th>demeaned_turn_ratio</th>\n",
       "      <th>demeaned_normalised_flow</th>\n",
       "      <th>demeaned_shortrun_momentum</th>\n",
       "    </tr>\n",
       "  </thead>\n",
       "  <tbody>\n",
       "    <tr>\n",
       "      <th>43631</th>\n",
       "      <td>32553.0</td>\n",
       "      <td>1993-08-31</td>\n",
       "      <td>0.068935</td>\n",
       "      <td>64.101</td>\n",
       "      <td>3.5225</td>\n",
       "      <td>6.8</td>\n",
       "      <td>2.9</td>\n",
       "      <td>0.0371</td>\n",
       "      <td>0.0010</td>\n",
       "      <td>0.0013</td>\n",
       "      <td>...</td>\n",
       "      <td>0.068910</td>\n",
       "      <td>3.248937</td>\n",
       "      <td>0.056070</td>\n",
       "      <td>0.068910</td>\n",
       "      <td>0.068910</td>\n",
       "      <td>0.068910</td>\n",
       "      <td>0.000025</td>\n",
       "      <td>-0.464384</td>\n",
       "      <td>0.001507</td>\n",
       "      <td>0.020627</td>\n",
       "    </tr>\n",
       "    <tr>\n",
       "      <th>43632</th>\n",
       "      <td>32553.0</td>\n",
       "      <td>1993-09-30</td>\n",
       "      <td>-0.004082</td>\n",
       "      <td>64.101</td>\n",
       "      <td>3.5225</td>\n",
       "      <td>6.7</td>\n",
       "      <td>2.9</td>\n",
       "      <td>-0.0012</td>\n",
       "      <td>0.0298</td>\n",
       "      <td>-0.0031</td>\n",
       "      <td>...</td>\n",
       "      <td>-0.004108</td>\n",
       "      <td>2.216452</td>\n",
       "      <td>0.027009</td>\n",
       "      <td>-0.004108</td>\n",
       "      <td>-0.004108</td>\n",
       "      <td>-0.004108</td>\n",
       "      <td>0.000025</td>\n",
       "      <td>-0.464384</td>\n",
       "      <td>0.006859</td>\n",
       "      <td>-0.001352</td>\n",
       "    </tr>\n",
       "    <tr>\n",
       "      <th>43633</th>\n",
       "      <td>32553.0</td>\n",
       "      <td>1993-10-29</td>\n",
       "      <td>0.040984</td>\n",
       "      <td>64.669</td>\n",
       "      <td>3.5225</td>\n",
       "      <td>6.8</td>\n",
       "      <td>2.9</td>\n",
       "      <td>0.0141</td>\n",
       "      <td>0.0189</td>\n",
       "      <td>-0.0276</td>\n",
       "      <td>...</td>\n",
       "      <td>0.040962</td>\n",
       "      <td>3.058133</td>\n",
       "      <td>0.021609</td>\n",
       "      <td>0.040962</td>\n",
       "      <td>0.040962</td>\n",
       "      <td>0.040962</td>\n",
       "      <td>0.000025</td>\n",
       "      <td>-0.464384</td>\n",
       "      <td>0.022620</td>\n",
       "      <td>0.008144</td>\n",
       "    </tr>\n",
       "    <tr>\n",
       "      <th>13747</th>\n",
       "      <td>12051.0</td>\n",
       "      <td>1993-10-29</td>\n",
       "      <td>0.034712</td>\n",
       "      <td>64.669</td>\n",
       "      <td>3.5225</td>\n",
       "      <td>6.8</td>\n",
       "      <td>2.9</td>\n",
       "      <td>0.0141</td>\n",
       "      <td>0.0189</td>\n",
       "      <td>-0.0276</td>\n",
       "      <td>...</td>\n",
       "      <td>0.034690</td>\n",
       "      <td>5.744340</td>\n",
       "      <td>0.021609</td>\n",
       "      <td>0.034690</td>\n",
       "      <td>0.034690</td>\n",
       "      <td>0.034690</td>\n",
       "      <td>0.007662</td>\n",
       "      <td>-0.699757</td>\n",
       "      <td>0.066601</td>\n",
       "      <td>0.016976</td>\n",
       "    </tr>\n",
       "    <tr>\n",
       "      <th>13748</th>\n",
       "      <td>12051.0</td>\n",
       "      <td>1993-11-30</td>\n",
       "      <td>-0.075974</td>\n",
       "      <td>64.669</td>\n",
       "      <td>3.5225</td>\n",
       "      <td>6.6</td>\n",
       "      <td>2.9</td>\n",
       "      <td>-0.0189</td>\n",
       "      <td>-0.0127</td>\n",
       "      <td>-0.0074</td>\n",
       "      <td>...</td>\n",
       "      <td>-0.075999</td>\n",
       "      <td>-0.536935</td>\n",
       "      <td>-0.010806</td>\n",
       "      <td>-0.075999</td>\n",
       "      <td>-0.075999</td>\n",
       "      <td>-0.075999</td>\n",
       "      <td>0.007662</td>\n",
       "      <td>-0.699757</td>\n",
       "      <td>-0.003170</td>\n",
       "      <td>-0.022160</td>\n",
       "    </tr>\n",
       "  </tbody>\n",
       "</table>\n",
       "<p>5 rows × 24 columns</p>\n",
       "</div>"
      ],
      "text/plain": [
       "       crsp_fundno        date  mth_return  gdp_to_debt_ratio  \\\n",
       "43631      32553.0  1993-08-31    0.068935             64.101   \n",
       "43632      32553.0  1993-09-30   -0.004082             64.101   \n",
       "43633      32553.0  1993-10-29    0.040984             64.669   \n",
       "13747      12051.0  1993-10-29    0.034712             64.669   \n",
       "13748      12051.0  1993-11-30   -0.075974             64.669   \n",
       "\n",
       "       gdp_growth_rate  unm_rate  infl_rate   mktrf     smb     hml  ...  \\\n",
       "43631           3.5225       6.8        2.9  0.0371  0.0010  0.0013  ...   \n",
       "43632           3.5225       6.7        2.9 -0.0012  0.0298 -0.0031  ...   \n",
       "43633           3.5225       6.8        2.9  0.0141  0.0189 -0.0276  ...   \n",
       "13747           3.5225       6.8        2.9  0.0141  0.0189 -0.0276  ...   \n",
       "13748           3.5225       6.6        2.9 -0.0189 -0.0127 -0.0074  ...   \n",
       "\n",
       "       excess_return  rolling_sharpe  mkt_return  rolling_alpha_3f  \\\n",
       "43631       0.068910        3.248937    0.056070          0.068910   \n",
       "43632      -0.004108        2.216452    0.027009         -0.004108   \n",
       "43633       0.040962        3.058133    0.021609          0.040962   \n",
       "13747       0.034690        5.744340    0.021609          0.034690   \n",
       "13748      -0.075999       -0.536935   -0.010806         -0.075999   \n",
       "\n",
       "       rolling_alpha_4f  rolling_alpha_5f  demeaned_exp_ratio  \\\n",
       "43631          0.068910          0.068910            0.000025   \n",
       "43632         -0.004108         -0.004108            0.000025   \n",
       "43633          0.040962          0.040962            0.000025   \n",
       "13747          0.034690          0.034690            0.007662   \n",
       "13748         -0.075999         -0.075999            0.007662   \n",
       "\n",
       "       demeaned_turn_ratio  demeaned_normalised_flow  \\\n",
       "43631            -0.464384                  0.001507   \n",
       "43632            -0.464384                  0.006859   \n",
       "43633            -0.464384                  0.022620   \n",
       "13747            -0.699757                  0.066601   \n",
       "13748            -0.699757                 -0.003170   \n",
       "\n",
       "       demeaned_shortrun_momentum  \n",
       "43631                    0.020627  \n",
       "43632                   -0.001352  \n",
       "43633                    0.008144  \n",
       "13747                    0.016976  \n",
       "13748                   -0.022160  \n",
       "\n",
       "[5 rows x 24 columns]"
      ]
     },
     "execution_count": 3,
     "metadata": {},
     "output_type": "execute_result"
    }
   ],
   "source": [
    "def demeaning_fund_char(dataset, id, characteristic):\n",
    "    for col in characteristic:\n",
    "        dataset[f'demeaned_{col}'] = dataset[col] - dataset.groupby(id)[col].transform('mean')\n",
    "    return dataset\n",
    "\n",
    "char_to_demean = [\"exp_ratio\", \"turn_ratio\", \"normalised_flow\", \"shortrun_momentum\"]\n",
    "df = demeaning_fund_char(df, id=\"crsp_fundno\", characteristic = char_to_demean)\n",
    "df = df.drop(columns = char_to_demean)   # drop original columns\n",
    "df.head()"
   ]
  },
  {
   "cell_type": "code",
   "execution_count": 4,
   "metadata": {},
   "outputs": [],
   "source": [
    "def create_naive(dataset, step, target_var):\n",
    "    naive = dataset.copy()\n",
    "    naive[target_var + '_naive'] = naive.groupby('crsp_fundno')[target_var].shift(step)\n",
    "    return naive\n",
    "\n",
    "# Generates next date\n",
    "def generate_next_date(list_of_dates, date):\n",
    "    return list_of_dates[list_of_dates > date].min()\n",
    "\n",
    "\n",
    "def process_factor_model(X_factor, y_factor, train_end, test_date):\n",
    "    X_train = X_factor[X_factor['date_L1'] <= train_end].drop(columns='date_L1')\n",
    "    X_test = X_factor[X_factor['date_L1'] == test_date].drop(columns='date_L1')\n",
    "\n",
    "    y_train = y_factor.loc[X_train.index]\n",
    "    y_test = y_factor.loc[X_test.index]\n",
    "    \n",
    "    scaler = StandardScaler()\n",
    "    X_train_scaled = scaler.fit_transform(X_train)\n",
    "    X_test_scaled = scaler.transform(X_test)\n",
    "\n",
    "    return X_train_scaled, X_test_scaled, y_train, y_test\n",
    "\n",
    "# create_naive(df, step = 1, target_var='rolling_sharpe')"
   ]
  },
  {
   "cell_type": "code",
   "execution_count": 6,
   "metadata": {},
   "outputs": [
    {
     "data": {
      "text/html": [
       "<div>\n",
       "<style scoped>\n",
       "    .dataframe tbody tr th:only-of-type {\n",
       "        vertical-align: middle;\n",
       "    }\n",
       "\n",
       "    .dataframe tbody tr th {\n",
       "        vertical-align: top;\n",
       "    }\n",
       "\n",
       "    .dataframe thead th {\n",
       "        text-align: right;\n",
       "    }\n",
       "</style>\n",
       "<table border=\"1\" class=\"dataframe\">\n",
       "  <thead>\n",
       "    <tr style=\"text-align: right;\">\n",
       "      <th></th>\n",
       "      <th>crsp_fundno</th>\n",
       "      <th>date</th>\n",
       "      <th>mth_return</th>\n",
       "      <th>gdp_to_debt_ratio</th>\n",
       "      <th>gdp_growth_rate</th>\n",
       "      <th>unm_rate</th>\n",
       "      <th>infl_rate</th>\n",
       "      <th>mktrf</th>\n",
       "      <th>smb</th>\n",
       "      <th>hml</th>\n",
       "      <th>...</th>\n",
       "      <th>excess_return</th>\n",
       "      <th>rolling_sharpe</th>\n",
       "      <th>mkt_return</th>\n",
       "      <th>rolling_alpha_3f</th>\n",
       "      <th>rolling_alpha_4f</th>\n",
       "      <th>rolling_alpha_5f</th>\n",
       "      <th>demeaned_exp_ratio</th>\n",
       "      <th>demeaned_turn_ratio</th>\n",
       "      <th>demeaned_normalised_flow</th>\n",
       "      <th>demeaned_shortrun_momentum</th>\n",
       "    </tr>\n",
       "  </thead>\n",
       "  <tbody>\n",
       "    <tr>\n",
       "      <th>43631</th>\n",
       "      <td>32553.0</td>\n",
       "      <td>1993-08-31</td>\n",
       "      <td>0.068935</td>\n",
       "      <td>64.101</td>\n",
       "      <td>3.5225</td>\n",
       "      <td>6.8</td>\n",
       "      <td>2.90</td>\n",
       "      <td>0.0371</td>\n",
       "      <td>0.0010</td>\n",
       "      <td>0.0013</td>\n",
       "      <td>...</td>\n",
       "      <td>0.068910</td>\n",
       "      <td>3.248937</td>\n",
       "      <td>0.056070</td>\n",
       "      <td>0.068910</td>\n",
       "      <td>0.068910</td>\n",
       "      <td>0.068910</td>\n",
       "      <td>0.000025</td>\n",
       "      <td>-0.464384</td>\n",
       "      <td>0.001507</td>\n",
       "      <td>0.020627</td>\n",
       "    </tr>\n",
       "    <tr>\n",
       "      <th>43632</th>\n",
       "      <td>32553.0</td>\n",
       "      <td>1993-09-30</td>\n",
       "      <td>-0.004082</td>\n",
       "      <td>64.101</td>\n",
       "      <td>3.5225</td>\n",
       "      <td>6.7</td>\n",
       "      <td>2.90</td>\n",
       "      <td>-0.0012</td>\n",
       "      <td>0.0298</td>\n",
       "      <td>-0.0031</td>\n",
       "      <td>...</td>\n",
       "      <td>-0.004108</td>\n",
       "      <td>2.216452</td>\n",
       "      <td>0.027009</td>\n",
       "      <td>-0.004108</td>\n",
       "      <td>-0.004108</td>\n",
       "      <td>-0.004108</td>\n",
       "      <td>0.000025</td>\n",
       "      <td>-0.464384</td>\n",
       "      <td>0.006859</td>\n",
       "      <td>-0.001352</td>\n",
       "    </tr>\n",
       "    <tr>\n",
       "      <th>43633</th>\n",
       "      <td>32553.0</td>\n",
       "      <td>1993-10-29</td>\n",
       "      <td>0.040984</td>\n",
       "      <td>64.669</td>\n",
       "      <td>3.5225</td>\n",
       "      <td>6.8</td>\n",
       "      <td>2.90</td>\n",
       "      <td>0.0141</td>\n",
       "      <td>0.0189</td>\n",
       "      <td>-0.0276</td>\n",
       "      <td>...</td>\n",
       "      <td>0.040962</td>\n",
       "      <td>3.058133</td>\n",
       "      <td>0.021609</td>\n",
       "      <td>0.040962</td>\n",
       "      <td>0.040962</td>\n",
       "      <td>0.040962</td>\n",
       "      <td>0.000025</td>\n",
       "      <td>-0.464384</td>\n",
       "      <td>0.022620</td>\n",
       "      <td>0.008144</td>\n",
       "    </tr>\n",
       "    <tr>\n",
       "      <th>13747</th>\n",
       "      <td>12051.0</td>\n",
       "      <td>1993-10-29</td>\n",
       "      <td>0.034712</td>\n",
       "      <td>64.669</td>\n",
       "      <td>3.5225</td>\n",
       "      <td>6.8</td>\n",
       "      <td>2.90</td>\n",
       "      <td>0.0141</td>\n",
       "      <td>0.0189</td>\n",
       "      <td>-0.0276</td>\n",
       "      <td>...</td>\n",
       "      <td>0.034690</td>\n",
       "      <td>5.744340</td>\n",
       "      <td>0.021609</td>\n",
       "      <td>0.034690</td>\n",
       "      <td>0.034690</td>\n",
       "      <td>0.034690</td>\n",
       "      <td>0.007662</td>\n",
       "      <td>-0.699757</td>\n",
       "      <td>0.066601</td>\n",
       "      <td>0.016976</td>\n",
       "    </tr>\n",
       "    <tr>\n",
       "      <th>13748</th>\n",
       "      <td>12051.0</td>\n",
       "      <td>1993-11-30</td>\n",
       "      <td>-0.075974</td>\n",
       "      <td>64.669</td>\n",
       "      <td>3.5225</td>\n",
       "      <td>6.6</td>\n",
       "      <td>2.90</td>\n",
       "      <td>-0.0189</td>\n",
       "      <td>-0.0127</td>\n",
       "      <td>-0.0074</td>\n",
       "      <td>...</td>\n",
       "      <td>-0.075999</td>\n",
       "      <td>-0.536935</td>\n",
       "      <td>-0.010806</td>\n",
       "      <td>-0.075999</td>\n",
       "      <td>-0.075999</td>\n",
       "      <td>-0.075999</td>\n",
       "      <td>0.007662</td>\n",
       "      <td>-0.699757</td>\n",
       "      <td>-0.003170</td>\n",
       "      <td>-0.022160</td>\n",
       "    </tr>\n",
       "    <tr>\n",
       "      <th>...</th>\n",
       "      <td>...</td>\n",
       "      <td>...</td>\n",
       "      <td>...</td>\n",
       "      <td>...</td>\n",
       "      <td>...</td>\n",
       "      <td>...</td>\n",
       "      <td>...</td>\n",
       "      <td>...</td>\n",
       "      <td>...</td>\n",
       "      <td>...</td>\n",
       "      <td>...</td>\n",
       "      <td>...</td>\n",
       "      <td>...</td>\n",
       "      <td>...</td>\n",
       "      <td>...</td>\n",
       "      <td>...</td>\n",
       "      <td>...</td>\n",
       "      <td>...</td>\n",
       "      <td>...</td>\n",
       "      <td>...</td>\n",
       "      <td>...</td>\n",
       "    </tr>\n",
       "    <tr>\n",
       "      <th>3031</th>\n",
       "      <td>4610.0</td>\n",
       "      <td>2024-06-28</td>\n",
       "      <td>0.078565</td>\n",
       "      <td>120.040</td>\n",
       "      <td>2.5427</td>\n",
       "      <td>4.1</td>\n",
       "      <td>3.35</td>\n",
       "      <td>0.0070</td>\n",
       "      <td>-0.0568</td>\n",
       "      <td>-0.0247</td>\n",
       "      <td>...</td>\n",
       "      <td>0.078518</td>\n",
       "      <td>1.619481</td>\n",
       "      <td>0.055058</td>\n",
       "      <td>0.001428</td>\n",
       "      <td>0.002329</td>\n",
       "      <td>0.003201</td>\n",
       "      <td>-0.001211</td>\n",
       "      <td>-1.434538</td>\n",
       "      <td>-0.575797</td>\n",
       "      <td>-0.025378</td>\n",
       "    </tr>\n",
       "    <tr>\n",
       "      <th>1960</th>\n",
       "      <td>4330.0</td>\n",
       "      <td>2024-07-31</td>\n",
       "      <td>0.028831</td>\n",
       "      <td>120.731</td>\n",
       "      <td>2.5427</td>\n",
       "      <td>4.2</td>\n",
       "      <td>3.35</td>\n",
       "      <td>0.0070</td>\n",
       "      <td>-0.0568</td>\n",
       "      <td>-0.0247</td>\n",
       "      <td>...</td>\n",
       "      <td>0.028784</td>\n",
       "      <td>0.691406</td>\n",
       "      <td>0.055058</td>\n",
       "      <td>0.004765</td>\n",
       "      <td>0.005643</td>\n",
       "      <td>0.010978</td>\n",
       "      <td>-0.000815</td>\n",
       "      <td>-0.039661</td>\n",
       "      <td>-0.033919</td>\n",
       "      <td>-0.013655</td>\n",
       "    </tr>\n",
       "    <tr>\n",
       "      <th>2113</th>\n",
       "      <td>4333.0</td>\n",
       "      <td>2024-07-31</td>\n",
       "      <td>0.028826</td>\n",
       "      <td>120.731</td>\n",
       "      <td>2.5427</td>\n",
       "      <td>4.2</td>\n",
       "      <td>3.35</td>\n",
       "      <td>0.0070</td>\n",
       "      <td>-0.0568</td>\n",
       "      <td>-0.0247</td>\n",
       "      <td>...</td>\n",
       "      <td>0.028779</td>\n",
       "      <td>0.691738</td>\n",
       "      <td>0.055058</td>\n",
       "      <td>0.004733</td>\n",
       "      <td>0.005601</td>\n",
       "      <td>0.010953</td>\n",
       "      <td>-0.000737</td>\n",
       "      <td>-0.039661</td>\n",
       "      <td>-0.817815</td>\n",
       "      <td>-0.013661</td>\n",
       "    </tr>\n",
       "    <tr>\n",
       "      <th>1842</th>\n",
       "      <td>4327.0</td>\n",
       "      <td>2024-07-31</td>\n",
       "      <td>0.028616</td>\n",
       "      <td>120.731</td>\n",
       "      <td>2.5427</td>\n",
       "      <td>4.2</td>\n",
       "      <td>3.35</td>\n",
       "      <td>0.0070</td>\n",
       "      <td>-0.0568</td>\n",
       "      <td>-0.0247</td>\n",
       "      <td>...</td>\n",
       "      <td>0.028569</td>\n",
       "      <td>0.676394</td>\n",
       "      <td>0.055058</td>\n",
       "      <td>0.004506</td>\n",
       "      <td>0.005384</td>\n",
       "      <td>0.010697</td>\n",
       "      <td>-0.000815</td>\n",
       "      <td>-0.039661</td>\n",
       "      <td>-0.042810</td>\n",
       "      <td>-0.013657</td>\n",
       "    </tr>\n",
       "    <tr>\n",
       "      <th>1901</th>\n",
       "      <td>4329.0</td>\n",
       "      <td>2024-07-31</td>\n",
       "      <td>0.027868</td>\n",
       "      <td>120.731</td>\n",
       "      <td>2.5427</td>\n",
       "      <td>4.2</td>\n",
       "      <td>3.35</td>\n",
       "      <td>0.0070</td>\n",
       "      <td>-0.0568</td>\n",
       "      <td>-0.0247</td>\n",
       "      <td>...</td>\n",
       "      <td>0.027821</td>\n",
       "      <td>0.631615</td>\n",
       "      <td>0.055058</td>\n",
       "      <td>0.003868</td>\n",
       "      <td>0.004746</td>\n",
       "      <td>0.010018</td>\n",
       "      <td>-0.000754</td>\n",
       "      <td>-0.039661</td>\n",
       "      <td>-1.419450</td>\n",
       "      <td>-0.013705</td>\n",
       "    </tr>\n",
       "  </tbody>\n",
       "</table>\n",
       "<p>54718 rows × 24 columns</p>\n",
       "</div>"
      ],
      "text/plain": [
       "       crsp_fundno        date  mth_return  gdp_to_debt_ratio  \\\n",
       "43631      32553.0  1993-08-31    0.068935             64.101   \n",
       "43632      32553.0  1993-09-30   -0.004082             64.101   \n",
       "43633      32553.0  1993-10-29    0.040984             64.669   \n",
       "13747      12051.0  1993-10-29    0.034712             64.669   \n",
       "13748      12051.0  1993-11-30   -0.075974             64.669   \n",
       "...            ...         ...         ...                ...   \n",
       "3031        4610.0  2024-06-28    0.078565            120.040   \n",
       "1960        4330.0  2024-07-31    0.028831            120.731   \n",
       "2113        4333.0  2024-07-31    0.028826            120.731   \n",
       "1842        4327.0  2024-07-31    0.028616            120.731   \n",
       "1901        4329.0  2024-07-31    0.027868            120.731   \n",
       "\n",
       "       gdp_growth_rate  unm_rate  infl_rate   mktrf     smb     hml  ...  \\\n",
       "43631           3.5225       6.8       2.90  0.0371  0.0010  0.0013  ...   \n",
       "43632           3.5225       6.7       2.90 -0.0012  0.0298 -0.0031  ...   \n",
       "43633           3.5225       6.8       2.90  0.0141  0.0189 -0.0276  ...   \n",
       "13747           3.5225       6.8       2.90  0.0141  0.0189 -0.0276  ...   \n",
       "13748           3.5225       6.6       2.90 -0.0189 -0.0127 -0.0074  ...   \n",
       "...                ...       ...        ...     ...     ...     ...  ...   \n",
       "3031            2.5427       4.1       3.35  0.0070 -0.0568 -0.0247  ...   \n",
       "1960            2.5427       4.2       3.35  0.0070 -0.0568 -0.0247  ...   \n",
       "2113            2.5427       4.2       3.35  0.0070 -0.0568 -0.0247  ...   \n",
       "1842            2.5427       4.2       3.35  0.0070 -0.0568 -0.0247  ...   \n",
       "1901            2.5427       4.2       3.35  0.0070 -0.0568 -0.0247  ...   \n",
       "\n",
       "       excess_return  rolling_sharpe  mkt_return  rolling_alpha_3f  \\\n",
       "43631       0.068910        3.248937    0.056070          0.068910   \n",
       "43632      -0.004108        2.216452    0.027009         -0.004108   \n",
       "43633       0.040962        3.058133    0.021609          0.040962   \n",
       "13747       0.034690        5.744340    0.021609          0.034690   \n",
       "13748      -0.075999       -0.536935   -0.010806         -0.075999   \n",
       "...              ...             ...         ...               ...   \n",
       "3031        0.078518        1.619481    0.055058          0.001428   \n",
       "1960        0.028784        0.691406    0.055058          0.004765   \n",
       "2113        0.028779        0.691738    0.055058          0.004733   \n",
       "1842        0.028569        0.676394    0.055058          0.004506   \n",
       "1901        0.027821        0.631615    0.055058          0.003868   \n",
       "\n",
       "       rolling_alpha_4f  rolling_alpha_5f  demeaned_exp_ratio  \\\n",
       "43631          0.068910          0.068910            0.000025   \n",
       "43632         -0.004108         -0.004108            0.000025   \n",
       "43633          0.040962          0.040962            0.000025   \n",
       "13747          0.034690          0.034690            0.007662   \n",
       "13748         -0.075999         -0.075999            0.007662   \n",
       "...                 ...               ...                 ...   \n",
       "3031           0.002329          0.003201           -0.001211   \n",
       "1960           0.005643          0.010978           -0.000815   \n",
       "2113           0.005601          0.010953           -0.000737   \n",
       "1842           0.005384          0.010697           -0.000815   \n",
       "1901           0.004746          0.010018           -0.000754   \n",
       "\n",
       "       demeaned_turn_ratio  demeaned_normalised_flow  \\\n",
       "43631            -0.464384                  0.001507   \n",
       "43632            -0.464384                  0.006859   \n",
       "43633            -0.464384                  0.022620   \n",
       "13747            -0.699757                  0.066601   \n",
       "13748            -0.699757                 -0.003170   \n",
       "...                    ...                       ...   \n",
       "3031             -1.434538                 -0.575797   \n",
       "1960             -0.039661                 -0.033919   \n",
       "2113             -0.039661                 -0.817815   \n",
       "1842             -0.039661                 -0.042810   \n",
       "1901             -0.039661                 -1.419450   \n",
       "\n",
       "       demeaned_shortrun_momentum  \n",
       "43631                    0.020627  \n",
       "43632                   -0.001352  \n",
       "43633                    0.008144  \n",
       "13747                    0.016976  \n",
       "13748                   -0.022160  \n",
       "...                           ...  \n",
       "3031                    -0.025378  \n",
       "1960                    -0.013655  \n",
       "2113                    -0.013661  \n",
       "1842                    -0.013657  \n",
       "1901                    -0.013705  \n",
       "\n",
       "[54718 rows x 24 columns]"
      ]
     },
     "execution_count": 6,
     "metadata": {},
     "output_type": "execute_result"
    }
   ],
   "source": [
    "df"
   ]
  },
  {
   "cell_type": "code",
   "execution_count": 20,
   "metadata": {},
   "outputs": [
    {
     "name": "stdout",
     "output_type": "stream",
     "text": [
      "Input dimension: 14\n"
     ]
    },
    {
     "name": "stderr",
     "output_type": "stream",
     "text": [
      "C:\\Users\\wjlwi\\AppData\\Local\\Packages\\PythonSoftwareFoundation.Python.3.10_qbz5n2kfra8p0\\LocalCache\\local-packages\\Python310\\site-packages\\torch\\nn\\modules\\loss.py:538: UserWarning: Using a target size (torch.Size([38144, 1, 1])) that is different to the input size (torch.Size([38144, 1])). This will likely lead to incorrect results due to broadcasting. Please ensure they have the same size.\n",
      "  return F.mse_loss(input, target, reduction=self.reduction)\n"
     ]
    },
    {
     "name": "stdout",
     "output_type": "stream",
     "text": [
      "Epoch [10/100], Loss: 3.5145\n",
      "Epoch [20/100], Loss: 2.9529\n",
      "Epoch [30/100], Loss: 2.2953\n",
      "Epoch [40/100], Loss: 2.0239\n",
      "Epoch [50/100], Loss: 2.0227\n",
      "Epoch [60/100], Loss: 2.0208\n"
     ]
    },
    {
     "ename": "KeyboardInterrupt",
     "evalue": "",
     "output_type": "error",
     "traceback": [
      "\u001b[1;31m---------------------------------------------------------------------------\u001b[0m",
      "\u001b[1;31mKeyboardInterrupt\u001b[0m                         Traceback (most recent call last)",
      "Cell \u001b[1;32mIn[20], line 135\u001b[0m\n\u001b[0;32m    133\u001b[0m optimizer\u001b[38;5;241m.\u001b[39mzero_grad()\n\u001b[0;32m    134\u001b[0m predictions \u001b[38;5;241m=\u001b[39m model(features_train_tensor)  \u001b[38;5;66;03m# Forward pass\u001b[39;00m\n\u001b[1;32m--> 135\u001b[0m loss \u001b[38;5;241m=\u001b[39m \u001b[43mcriterion\u001b[49m\u001b[43m(\u001b[49m\u001b[43mpredictions\u001b[49m\u001b[43m,\u001b[49m\u001b[43m \u001b[49m\u001b[43mtargets_train_tensor\u001b[49m\u001b[43m)\u001b[49m  \u001b[38;5;66;03m# Compute loss\u001b[39;00m\n\u001b[0;32m    136\u001b[0m loss\u001b[38;5;241m.\u001b[39mbackward()  \u001b[38;5;66;03m# Backpropagation\u001b[39;00m\n\u001b[0;32m    137\u001b[0m optimizer\u001b[38;5;241m.\u001b[39mstep()  \u001b[38;5;66;03m# Update weights\u001b[39;00m\n",
      "File \u001b[1;32m~\\AppData\\Local\\Packages\\PythonSoftwareFoundation.Python.3.10_qbz5n2kfra8p0\\LocalCache\\local-packages\\Python310\\site-packages\\torch\\nn\\modules\\module.py:1553\u001b[0m, in \u001b[0;36mModule._wrapped_call_impl\u001b[1;34m(self, *args, **kwargs)\u001b[0m\n\u001b[0;32m   1551\u001b[0m     \u001b[38;5;28;01mreturn\u001b[39;00m \u001b[38;5;28mself\u001b[39m\u001b[38;5;241m.\u001b[39m_compiled_call_impl(\u001b[38;5;241m*\u001b[39margs, \u001b[38;5;241m*\u001b[39m\u001b[38;5;241m*\u001b[39mkwargs)  \u001b[38;5;66;03m# type: ignore[misc]\u001b[39;00m\n\u001b[0;32m   1552\u001b[0m \u001b[38;5;28;01melse\u001b[39;00m:\n\u001b[1;32m-> 1553\u001b[0m     \u001b[38;5;28;01mreturn\u001b[39;00m \u001b[38;5;28mself\u001b[39m\u001b[38;5;241m.\u001b[39m_call_impl(\u001b[38;5;241m*\u001b[39margs, \u001b[38;5;241m*\u001b[39m\u001b[38;5;241m*\u001b[39mkwargs)\n",
      "File \u001b[1;32m~\\AppData\\Local\\Packages\\PythonSoftwareFoundation.Python.3.10_qbz5n2kfra8p0\\LocalCache\\local-packages\\Python310\\site-packages\\torch\\nn\\modules\\module.py:1562\u001b[0m, in \u001b[0;36mModule._call_impl\u001b[1;34m(self, *args, **kwargs)\u001b[0m\n\u001b[0;32m   1557\u001b[0m \u001b[38;5;66;03m# If we don't have any hooks, we want to skip the rest of the logic in\u001b[39;00m\n\u001b[0;32m   1558\u001b[0m \u001b[38;5;66;03m# this function, and just call forward.\u001b[39;00m\n\u001b[0;32m   1559\u001b[0m \u001b[38;5;28;01mif\u001b[39;00m \u001b[38;5;129;01mnot\u001b[39;00m (\u001b[38;5;28mself\u001b[39m\u001b[38;5;241m.\u001b[39m_backward_hooks \u001b[38;5;129;01mor\u001b[39;00m \u001b[38;5;28mself\u001b[39m\u001b[38;5;241m.\u001b[39m_backward_pre_hooks \u001b[38;5;129;01mor\u001b[39;00m \u001b[38;5;28mself\u001b[39m\u001b[38;5;241m.\u001b[39m_forward_hooks \u001b[38;5;129;01mor\u001b[39;00m \u001b[38;5;28mself\u001b[39m\u001b[38;5;241m.\u001b[39m_forward_pre_hooks\n\u001b[0;32m   1560\u001b[0m         \u001b[38;5;129;01mor\u001b[39;00m _global_backward_pre_hooks \u001b[38;5;129;01mor\u001b[39;00m _global_backward_hooks\n\u001b[0;32m   1561\u001b[0m         \u001b[38;5;129;01mor\u001b[39;00m _global_forward_hooks \u001b[38;5;129;01mor\u001b[39;00m _global_forward_pre_hooks):\n\u001b[1;32m-> 1562\u001b[0m     \u001b[38;5;28;01mreturn\u001b[39;00m forward_call(\u001b[38;5;241m*\u001b[39margs, \u001b[38;5;241m*\u001b[39m\u001b[38;5;241m*\u001b[39mkwargs)\n\u001b[0;32m   1564\u001b[0m \u001b[38;5;28;01mtry\u001b[39;00m:\n\u001b[0;32m   1565\u001b[0m     result \u001b[38;5;241m=\u001b[39m \u001b[38;5;28;01mNone\u001b[39;00m\n",
      "File \u001b[1;32m~\\AppData\\Local\\Packages\\PythonSoftwareFoundation.Python.3.10_qbz5n2kfra8p0\\LocalCache\\local-packages\\Python310\\site-packages\\torch\\nn\\modules\\loss.py:538\u001b[0m, in \u001b[0;36mMSELoss.forward\u001b[1;34m(self, input, target)\u001b[0m\n\u001b[0;32m    537\u001b[0m \u001b[38;5;28;01mdef\u001b[39;00m \u001b[38;5;21mforward\u001b[39m(\u001b[38;5;28mself\u001b[39m, \u001b[38;5;28minput\u001b[39m: Tensor, target: Tensor) \u001b[38;5;241m-\u001b[39m\u001b[38;5;241m>\u001b[39m Tensor:\n\u001b[1;32m--> 538\u001b[0m     \u001b[38;5;28;01mreturn\u001b[39;00m \u001b[43mF\u001b[49m\u001b[38;5;241;43m.\u001b[39;49m\u001b[43mmse_loss\u001b[49m\u001b[43m(\u001b[49m\u001b[38;5;28;43minput\u001b[39;49m\u001b[43m,\u001b[49m\u001b[43m \u001b[49m\u001b[43mtarget\u001b[49m\u001b[43m,\u001b[49m\u001b[43m \u001b[49m\u001b[43mreduction\u001b[49m\u001b[38;5;241;43m=\u001b[39;49m\u001b[38;5;28;43mself\u001b[39;49m\u001b[38;5;241;43m.\u001b[39;49m\u001b[43mreduction\u001b[49m\u001b[43m)\u001b[49m\n",
      "File \u001b[1;32m~\\AppData\\Local\\Packages\\PythonSoftwareFoundation.Python.3.10_qbz5n2kfra8p0\\LocalCache\\local-packages\\Python310\\site-packages\\torch\\nn\\functional.py:3384\u001b[0m, in \u001b[0;36mmse_loss\u001b[1;34m(input, target, size_average, reduce, reduction)\u001b[0m\n\u001b[0;32m   3381\u001b[0m     reduction \u001b[38;5;241m=\u001b[39m _Reduction\u001b[38;5;241m.\u001b[39mlegacy_get_string(size_average, reduce)\n\u001b[0;32m   3383\u001b[0m expanded_input, expanded_target \u001b[38;5;241m=\u001b[39m torch\u001b[38;5;241m.\u001b[39mbroadcast_tensors(\u001b[38;5;28minput\u001b[39m, target)\n\u001b[1;32m-> 3384\u001b[0m \u001b[38;5;28;01mreturn\u001b[39;00m \u001b[43mtorch\u001b[49m\u001b[38;5;241;43m.\u001b[39;49m\u001b[43m_C\u001b[49m\u001b[38;5;241;43m.\u001b[39;49m\u001b[43m_nn\u001b[49m\u001b[38;5;241;43m.\u001b[39;49m\u001b[43mmse_loss\u001b[49m\u001b[43m(\u001b[49m\u001b[43mexpanded_input\u001b[49m\u001b[43m,\u001b[49m\u001b[43m \u001b[49m\u001b[43mexpanded_target\u001b[49m\u001b[43m,\u001b[49m\u001b[43m \u001b[49m\u001b[43m_Reduction\u001b[49m\u001b[38;5;241;43m.\u001b[39;49m\u001b[43mget_enum\u001b[49m\u001b[43m(\u001b[49m\u001b[43mreduction\u001b[49m\u001b[43m)\u001b[49m\u001b[43m)\u001b[49m\n",
      "\u001b[1;31mKeyboardInterrupt\u001b[0m: "
     ]
    }
   ],
   "source": [
    "import torch\n",
    "import torch.nn as nn\n",
    "import torch.optim as optim\n",
    "import pandas as pd\n",
    "import numpy as np\n",
    "from sklearn.metrics import mean_squared_error\n",
    "\n",
    "\n",
    "df['date'] = pd.to_datetime(df['date']) # converting to date format\n",
    "dataset = df.sort_values(by='date')\n",
    "\n",
    "# Factor Models\n",
    "df_3_factor = dataset.drop(columns=['mkt_return','umd','cma','rmw','mth_return','rf','rolling_alpha_4f','rolling_alpha_5f'])\n",
    "df_4_factor = dataset.drop(columns=['mkt_return','cma','rmw','mth_return','rf','rolling_alpha_3f','rolling_alpha_5f'])\n",
    "df_5_factor = dataset.drop(columns=['mkt_return','umd','mth_return','rf','rolling_alpha_3f','rolling_alpha_4f'])\n",
    "\n",
    "# Creating Lagged and Stepped Datasets\n",
    "X_dataset_3f, y_dataset_3f = create_stepped_dataset(create_lagged_dataset(df_3_factor, lag=1,target_var='rolling_sharpe', id = 'crsp_fundno'),step=1,target_var='rolling_sharpe', id = 'crsp_fundno_L1')\n",
    "X_dataset_4f, y_dataset_4f = create_stepped_dataset(create_lagged_dataset(df_4_factor, lag=1,target_var='rolling_sharpe', id = 'crsp_fundno'),step=1,target_var='rolling_sharpe', id = 'crsp_fundno_L1')\n",
    "X_dataset_5f, y_dataset_5f = create_stepped_dataset(create_lagged_dataset(df_5_factor, lag=1,target_var='rolling_sharpe', id = 'crsp_fundno'),step=1,target_var='rolling_sharpe', id = 'crsp_fundno_L1')\n",
    "\n",
    "X_dataset_3f = X_dataset_3f.drop(columns=['crsp_fundno_L1'], errors='ignore')\n",
    "X_dataset_4f = X_dataset_4f.drop(columns=['crsp_fundno_L1'], errors='ignore')\n",
    "X_dataset_5f = X_dataset_5f.drop(columns=['crsp_fundno_L1'], errors='ignore')\n",
    "\n",
    "list_of_dates = pd.to_datetime(X_dataset_3f['date_L1'])\n",
    "percentile_70 = list_of_dates.quantile(0.7)\n",
    "train_end = list_of_dates.loc[(list_of_dates - percentile_70).abs().idxmin()]\n",
    "# train_end\n",
    "\n",
    "X_train = X_dataset_3f[X_dataset_3f['date_L1']<=train_end].drop(columns='date_L1')\n",
    "X_test = X_dataset_3f[X_dataset_3f['date_L1']>train_end].drop(columns='date_L1')\n",
    "\n",
    "y_train = y_dataset_3f.loc[X_train.index]\n",
    "y_test = y_dataset_3f.loc[X_test.index]\n",
    "# X_train\n",
    "\n",
    "criterion = nn.MSELoss()  # Loss function for regression\n",
    "df_features_train = X_train\n",
    "df_features_test = X_test\n",
    "\n",
    "# Convert Data to Tensors\n",
    "features_train_tensor = torch.tensor(df_features_train.values, dtype=torch.float32)\n",
    "features_test_tensor = torch.tensor(df_features_test.values, dtype=torch.float32)\n",
    "\n",
    "targets_train_tensor = torch.tensor(y_train.values, dtype=torch.float32).unsqueeze(1)\n",
    "targets_test_tensor = torch.tensor(y_test.values, dtype=torch.float32).unsqueeze(1)\n",
    "\n",
    "# Handle NaNs and Infs\n",
    "features_train_tensor = torch.nan_to_num(features_train_tensor, nan=0.0, posinf=0.0, neginf=0.0)\n",
    "features_test_tensor = torch.nan_to_num(features_test_tensor, nan=0.0, posinf=0.0, neginf=0.0)\n",
    "\n",
    "# List of Hyperparameters\n",
    "neurons_num = [[64,32], [128,64]]\n",
    "epochs_list = [100, 200, 300]\n",
    "lr_list = [0.005, 0.01]\n",
    "iter = ['sgd']\n",
    "                    \n",
    "# Store the results of MSE for each combination of epochs and learning rates\n",
    "best_mse = float('inf')\n",
    "best_epochs = None\n",
    "best_lr = None\n",
    "best_iter = None\n",
    "# neurons_pair=[32,16]\n",
    "for iter_method in iter:\n",
    "    for neurons_pair in neurons_num:\n",
    "        class FundNN(nn.Module):\n",
    "            def __init__(self, input_dim):\n",
    "                super(FundNN, self).__init__()\n",
    "                self.fc1 = nn.Linear(input_dim, neurons_pair[0])  # Hidden Layer 1\n",
    "                self.fc2 = nn.Linear(neurons_pair[0], neurons_pair[1])  # Hidden Layer 2\n",
    "                self.fc3 = nn.Linear(neurons_pair[1], 1)  # Output Layer (Regression)\n",
    "                self.relu = nn.ReLU()\n",
    "                \n",
    "            def forward(self, features):\n",
    "                x = self.relu(self.fc1(features))\n",
    "                x = self.relu(self.fc2(x))\n",
    "                x = self.fc3(x)  # Output regression prediction\n",
    "                return x\n",
    "\n",
    "        input_dim = features_train_tensor.shape[1]  # Updated to include fund IDs\n",
    "        print(\"Input dimension:\", input_dim)\n",
    "        # num_epochs = 100\n",
    "        # lr=0.01\n",
    "        for num_epochs in epochs_list:\n",
    "            for lr in lr_list:\n",
    "                # Initialize model and optimizer\n",
    "                model = FundNN(input_dim)  # Ensure model is re-initialized\n",
    "                if iter_method == 'adam':\n",
    "                    optimizer = optim.Adam(model.parameters(), lr=lr)\n",
    "                else:\n",
    "                    optimizer = optim.SGD(model.parameters(), lr=lr)\n",
    "\n",
    "                # Training loop for the current combination of epochs and learning rate\n",
    "                for epoch in range(num_epochs):\n",
    "                    optimizer.zero_grad()\n",
    "                    predictions = model(features_train_tensor)  # Forward pass\n",
    "                    loss = criterion(predictions, targets_train_tensor)  # Compute loss\n",
    "                    loss.backward()  # Backpropagation\n",
    "                    optimizer.step()  # Update weights\n",
    "                    \n",
    "                    if (epoch + 1) % 10 == 0:\n",
    "                        print(f'Epoch [{epoch+1}/{num_epochs}], Loss: {loss.item():.4f}')\n",
    "\n",
    "                # After training, calculate the MSE on the validation or test set\n",
    "                with torch.no_grad():\n",
    "                    predictions = model(features_test_tensor)\n",
    "                    mse = mean_squared_error(targets_test_tensor.detach().numpy().squeeze(), predictions.detach().numpy().squeeze())  # Compute MSE\n",
    "                    \n",
    "                    # Store the best MSE and corresponding hyperparameters\n",
    "                    if mse < best_mse:\n",
    "                        best_mse = mse\n",
    "                        best_epochs = num_epochs\n",
    "                        best_lr = lr\n",
    "                        best_neuron = neurons_pair\n",
    "                        best_iter = iter_method\n",
    "\n",
    "\n",
    "# After the loop, print the best combination of hyperparameters\n",
    "print(f\"Best MSE: {best_mse:.4f} achieved with Epochs = {best_epochs} and Learning Rate = {best_lr} and Best Neuron = {best_neuron} and Iter = {best_iter}\")\n",
    "\n",
    "# Step 6: Make Predictions\n",
    "# preds = model(features_tensor).detach().numpy()\n",
    "# print(\"Predicted Returns:\", preds)"
   ]
  },
  {
   "cell_type": "code",
   "execution_count": null,
   "metadata": {},
   "outputs": [],
   "source": [
    "# neurons_num = [[32,16],[64,32],[128,64]]\n",
    "# epochs_list = [100, 200, 300]\n",
    "# lr_list = [0.001, 0.0025, 0.0075, 0.01]\n",
    "# neurons_pair = [32,16]\n",
    "# class FundNN(nn.Module):\n",
    "#         def __init__(self, input_dim):\n",
    "#             super(FundNN, self).__init__()\n",
    "#             self.fc1 = nn.Linear(input_dim, neurons_pair[0])  # Hidden Layer 1\n",
    "#             self.fc2 = nn.Linear(neurons_pair[0], neurons_pair[1])  # Hidden Layer 2\n",
    "#             self.fc3 = nn.Linear(neurons_pair[1], 1)  # Output Layer (Regression)\n",
    "#             self.relu = nn.ReLU()\n",
    "            \n",
    "#         def forward(self, features):\n",
    "#             x = self.relu(self.fc1(features))\n",
    "#             x = self.relu(self.fc2(x))\n",
    "#             x = self.fc3(x)  # Output regression prediction\n",
    "#             return x\n",
    "\n",
    "# input_dim = features_train_tensor.shape[1]  # Updated to include fund IDs\n",
    "# print(\"Input dimension:\", input_dim)\n",
    "\n",
    "# model = FundNN(input_dim)\n",
    "# optimizer = optim.Adam(model.parameters(), lr=0.01)\n",
    "# for epoch in range(100):\n",
    "#     optimizer.zero_grad()\n",
    "#     predictions = model(features_train_tensor)  # Forward pass\n",
    "#     loss = criterion(predictions, targets_train_tensor)  # Compute loss\n",
    "#     loss.backward()  # Backpropagation\n",
    "#     optimizer.step()  # Update weights\n",
    "    \n",
    "#     if (epoch + 1) % 10 == 0:\n",
    "#         print(f'Epoch [{epoch+1}/{100}], Loss: {loss.item():.4f}')\n",
    "# with torch.no_grad():\n",
    "#     predictions = model(features_test_tensor)\n",
    "#     mse = mean_squared_error(targets_test_tensor.detach().numpy().squeeze(), predictions.detach().numpy().squeeze())  # Compute MSE"
   ]
  },
  {
   "cell_type": "code",
   "execution_count": 5,
   "metadata": {},
   "outputs": [
    {
     "name": "stdout",
     "output_type": "stream",
     "text": [
      "Done for adam neuron pair [64, 32], epoch num 100 and learning rate 0.01 and type of lr constant, MSE = 1.279010203837982\n",
      "Done for adam neuron pair [64, 32], epoch num 100 and learning rate 0.01 and type of lr adaptive, MSE = 1.279010203837982\n"
     ]
    },
    {
     "name": "stderr",
     "output_type": "stream",
     "text": [
      "C:\\Users\\wjlwi\\AppData\\Local\\Packages\\PythonSoftwareFoundation.Python.3.10_qbz5n2kfra8p0\\LocalCache\\local-packages\\Python310\\site-packages\\sklearn\\neural_network\\_multilayer_perceptron.py:690: ConvergenceWarning: Stochastic Optimizer: Maximum iterations (100) reached and the optimization hasn't converged yet.\n",
      "  warnings.warn(\n"
     ]
    },
    {
     "name": "stdout",
     "output_type": "stream",
     "text": [
      "Done for adam neuron pair [64, 32], epoch num 100 and learning rate 0.005 and type of lr constant, MSE = 1.602058416496341\n"
     ]
    },
    {
     "name": "stderr",
     "output_type": "stream",
     "text": [
      "C:\\Users\\wjlwi\\AppData\\Local\\Packages\\PythonSoftwareFoundation.Python.3.10_qbz5n2kfra8p0\\LocalCache\\local-packages\\Python310\\site-packages\\sklearn\\neural_network\\_multilayer_perceptron.py:690: ConvergenceWarning: Stochastic Optimizer: Maximum iterations (100) reached and the optimization hasn't converged yet.\n",
      "  warnings.warn(\n"
     ]
    },
    {
     "name": "stdout",
     "output_type": "stream",
     "text": [
      "Done for adam neuron pair [64, 32], epoch num 100 and learning rate 0.005 and type of lr adaptive, MSE = 1.602058416496341\n"
     ]
    },
    {
     "name": "stderr",
     "output_type": "stream",
     "text": [
      "C:\\Users\\wjlwi\\AppData\\Local\\Packages\\PythonSoftwareFoundation.Python.3.10_qbz5n2kfra8p0\\LocalCache\\local-packages\\Python310\\site-packages\\sklearn\\neural_network\\_multilayer_perceptron.py:690: ConvergenceWarning: Stochastic Optimizer: Maximum iterations (100) reached and the optimization hasn't converged yet.\n",
      "  warnings.warn(\n"
     ]
    },
    {
     "name": "stdout",
     "output_type": "stream",
     "text": [
      "Done for adam neuron pair [64, 32], epoch num 100 and learning rate 0.001 and type of lr constant, MSE = 8.117087129704544\n"
     ]
    },
    {
     "name": "stderr",
     "output_type": "stream",
     "text": [
      "C:\\Users\\wjlwi\\AppData\\Local\\Packages\\PythonSoftwareFoundation.Python.3.10_qbz5n2kfra8p0\\LocalCache\\local-packages\\Python310\\site-packages\\sklearn\\neural_network\\_multilayer_perceptron.py:690: ConvergenceWarning: Stochastic Optimizer: Maximum iterations (100) reached and the optimization hasn't converged yet.\n",
      "  warnings.warn(\n"
     ]
    },
    {
     "name": "stdout",
     "output_type": "stream",
     "text": [
      "Done for adam neuron pair [64, 32], epoch num 100 and learning rate 0.001 and type of lr adaptive, MSE = 8.117087129704544\n",
      "Done for adam neuron pair [64, 32], epoch num 200 and learning rate 0.01 and type of lr constant, MSE = 1.279010203837982\n",
      "Done for adam neuron pair [64, 32], epoch num 200 and learning rate 0.01 and type of lr adaptive, MSE = 1.279010203837982\n",
      "Done for adam neuron pair [64, 32], epoch num 200 and learning rate 0.005 and type of lr constant, MSE = 2.0982174173982546\n",
      "Done for adam neuron pair [64, 32], epoch num 200 and learning rate 0.005 and type of lr adaptive, MSE = 2.0982174173982546\n",
      "Done for adam neuron pair [64, 32], epoch num 200 and learning rate 0.001 and type of lr constant, MSE = 8.922740905857209\n",
      "Done for adam neuron pair [64, 32], epoch num 200 and learning rate 0.001 and type of lr adaptive, MSE = 8.922740905857209\n",
      "Done for adam neuron pair [64, 32], epoch num 300 and learning rate 0.01 and type of lr constant, MSE = 1.279010203837982\n",
      "Done for adam neuron pair [64, 32], epoch num 300 and learning rate 0.01 and type of lr adaptive, MSE = 1.279010203837982\n",
      "Done for adam neuron pair [64, 32], epoch num 300 and learning rate 0.005 and type of lr constant, MSE = 2.0982174173982546\n",
      "Done for adam neuron pair [64, 32], epoch num 300 and learning rate 0.005 and type of lr adaptive, MSE = 2.0982174173982546\n",
      "Done for adam neuron pair [64, 32], epoch num 300 and learning rate 0.001 and type of lr constant, MSE = 8.922740905857209\n",
      "Done for adam neuron pair [64, 32], epoch num 300 and learning rate 0.001 and type of lr adaptive, MSE = 8.922740905857209\n",
      "Done for adam neuron pair [128, 64], epoch num 100 and learning rate 0.01 and type of lr constant, MSE = 0.8544739628504908\n",
      "Done for adam neuron pair [128, 64], epoch num 100 and learning rate 0.01 and type of lr adaptive, MSE = 0.8544739628504908\n",
      "Done for adam neuron pair [128, 64], epoch num 100 and learning rate 0.005 and type of lr constant, MSE = 1.4584866471016267\n",
      "Done for adam neuron pair [128, 64], epoch num 100 and learning rate 0.005 and type of lr adaptive, MSE = 1.4584866471016267\n"
     ]
    },
    {
     "name": "stderr",
     "output_type": "stream",
     "text": [
      "C:\\Users\\wjlwi\\AppData\\Local\\Packages\\PythonSoftwareFoundation.Python.3.10_qbz5n2kfra8p0\\LocalCache\\local-packages\\Python310\\site-packages\\sklearn\\neural_network\\_multilayer_perceptron.py:690: ConvergenceWarning: Stochastic Optimizer: Maximum iterations (100) reached and the optimization hasn't converged yet.\n",
      "  warnings.warn(\n"
     ]
    },
    {
     "name": "stdout",
     "output_type": "stream",
     "text": [
      "Done for adam neuron pair [128, 64], epoch num 100 and learning rate 0.001 and type of lr constant, MSE = 3.1663278537619486\n"
     ]
    },
    {
     "name": "stderr",
     "output_type": "stream",
     "text": [
      "C:\\Users\\wjlwi\\AppData\\Local\\Packages\\PythonSoftwareFoundation.Python.3.10_qbz5n2kfra8p0\\LocalCache\\local-packages\\Python310\\site-packages\\sklearn\\neural_network\\_multilayer_perceptron.py:690: ConvergenceWarning: Stochastic Optimizer: Maximum iterations (100) reached and the optimization hasn't converged yet.\n",
      "  warnings.warn(\n"
     ]
    },
    {
     "name": "stdout",
     "output_type": "stream",
     "text": [
      "Done for adam neuron pair [128, 64], epoch num 100 and learning rate 0.001 and type of lr adaptive, MSE = 3.1663278537619486\n",
      "Done for adam neuron pair [128, 64], epoch num 200 and learning rate 0.01 and type of lr constant, MSE = 0.8544739628504908\n",
      "Done for adam neuron pair [128, 64], epoch num 200 and learning rate 0.01 and type of lr adaptive, MSE = 0.8544739628504908\n",
      "Done for adam neuron pair [128, 64], epoch num 200 and learning rate 0.005 and type of lr constant, MSE = 1.4584866471016267\n",
      "Done for adam neuron pair [128, 64], epoch num 200 and learning rate 0.005 and type of lr adaptive, MSE = 1.4584866471016267\n"
     ]
    },
    {
     "name": "stderr",
     "output_type": "stream",
     "text": [
      "C:\\Users\\wjlwi\\AppData\\Local\\Packages\\PythonSoftwareFoundation.Python.3.10_qbz5n2kfra8p0\\LocalCache\\local-packages\\Python310\\site-packages\\sklearn\\neural_network\\_multilayer_perceptron.py:690: ConvergenceWarning: Stochastic Optimizer: Maximum iterations (200) reached and the optimization hasn't converged yet.\n",
      "  warnings.warn(\n"
     ]
    },
    {
     "name": "stdout",
     "output_type": "stream",
     "text": [
      "Done for adam neuron pair [128, 64], epoch num 200 and learning rate 0.001 and type of lr constant, MSE = 4.248714590804675\n"
     ]
    },
    {
     "name": "stderr",
     "output_type": "stream",
     "text": [
      "C:\\Users\\wjlwi\\AppData\\Local\\Packages\\PythonSoftwareFoundation.Python.3.10_qbz5n2kfra8p0\\LocalCache\\local-packages\\Python310\\site-packages\\sklearn\\neural_network\\_multilayer_perceptron.py:690: ConvergenceWarning: Stochastic Optimizer: Maximum iterations (200) reached and the optimization hasn't converged yet.\n",
      "  warnings.warn(\n"
     ]
    },
    {
     "name": "stdout",
     "output_type": "stream",
     "text": [
      "Done for adam neuron pair [128, 64], epoch num 200 and learning rate 0.001 and type of lr adaptive, MSE = 4.248714590804675\n",
      "Done for adam neuron pair [128, 64], epoch num 300 and learning rate 0.01 and type of lr constant, MSE = 0.8544739628504908\n",
      "Done for adam neuron pair [128, 64], epoch num 300 and learning rate 0.01 and type of lr adaptive, MSE = 0.8544739628504908\n",
      "Done for adam neuron pair [128, 64], epoch num 300 and learning rate 0.005 and type of lr constant, MSE = 1.4584866471016267\n",
      "Done for adam neuron pair [128, 64], epoch num 300 and learning rate 0.005 and type of lr adaptive, MSE = 1.4584866471016267\n",
      "Done for adam neuron pair [128, 64], epoch num 300 and learning rate 0.001 and type of lr constant, MSE = 4.436044630795408\n",
      "Done for adam neuron pair [128, 64], epoch num 300 and learning rate 0.001 and type of lr adaptive, MSE = 4.436044630795408\n",
      "Done for sgd neuron pair [64, 32], epoch num 100 and learning rate 0.01 and type of lr constant, MSE = 0.7095675799237893\n"
     ]
    },
    {
     "name": "stderr",
     "output_type": "stream",
     "text": [
      "C:\\Users\\wjlwi\\AppData\\Local\\Packages\\PythonSoftwareFoundation.Python.3.10_qbz5n2kfra8p0\\LocalCache\\local-packages\\Python310\\site-packages\\sklearn\\neural_network\\_multilayer_perceptron.py:690: ConvergenceWarning: Stochastic Optimizer: Maximum iterations (100) reached and the optimization hasn't converged yet.\n",
      "  warnings.warn(\n"
     ]
    },
    {
     "name": "stdout",
     "output_type": "stream",
     "text": [
      "Done for sgd neuron pair [64, 32], epoch num 100 and learning rate 0.01 and type of lr adaptive, MSE = 1.0684608697088627\n",
      "Done for sgd neuron pair [64, 32], epoch num 100 and learning rate 0.005 and type of lr constant, MSE = 4.78981014751881\n"
     ]
    },
    {
     "name": "stderr",
     "output_type": "stream",
     "text": [
      "C:\\Users\\wjlwi\\AppData\\Local\\Packages\\PythonSoftwareFoundation.Python.3.10_qbz5n2kfra8p0\\LocalCache\\local-packages\\Python310\\site-packages\\sklearn\\neural_network\\_multilayer_perceptron.py:690: ConvergenceWarning: Stochastic Optimizer: Maximum iterations (100) reached and the optimization hasn't converged yet.\n",
      "  warnings.warn(\n"
     ]
    },
    {
     "name": "stdout",
     "output_type": "stream",
     "text": [
      "Done for sgd neuron pair [64, 32], epoch num 100 and learning rate 0.005 and type of lr adaptive, MSE = 4.213718163626868\n"
     ]
    },
    {
     "name": "stderr",
     "output_type": "stream",
     "text": [
      "C:\\Users\\wjlwi\\AppData\\Local\\Packages\\PythonSoftwareFoundation.Python.3.10_qbz5n2kfra8p0\\LocalCache\\local-packages\\Python310\\site-packages\\sklearn\\neural_network\\_multilayer_perceptron.py:690: ConvergenceWarning: Stochastic Optimizer: Maximum iterations (100) reached and the optimization hasn't converged yet.\n",
      "  warnings.warn(\n"
     ]
    },
    {
     "name": "stdout",
     "output_type": "stream",
     "text": [
      "Done for sgd neuron pair [64, 32], epoch num 100 and learning rate 0.001 and type of lr constant, MSE = 0.9504149098791492\n"
     ]
    },
    {
     "name": "stderr",
     "output_type": "stream",
     "text": [
      "C:\\Users\\wjlwi\\AppData\\Local\\Packages\\PythonSoftwareFoundation.Python.3.10_qbz5n2kfra8p0\\LocalCache\\local-packages\\Python310\\site-packages\\sklearn\\neural_network\\_multilayer_perceptron.py:690: ConvergenceWarning: Stochastic Optimizer: Maximum iterations (100) reached and the optimization hasn't converged yet.\n",
      "  warnings.warn(\n"
     ]
    },
    {
     "name": "stdout",
     "output_type": "stream",
     "text": [
      "Done for sgd neuron pair [64, 32], epoch num 100 and learning rate 0.001 and type of lr adaptive, MSE = 0.9504149098791492\n",
      "Done for sgd neuron pair [64, 32], epoch num 200 and learning rate 0.01 and type of lr constant, MSE = 0.7095675799237893\n"
     ]
    },
    {
     "name": "stderr",
     "output_type": "stream",
     "text": [
      "C:\\Users\\wjlwi\\AppData\\Local\\Packages\\PythonSoftwareFoundation.Python.3.10_qbz5n2kfra8p0\\LocalCache\\local-packages\\Python310\\site-packages\\sklearn\\neural_network\\_multilayer_perceptron.py:690: ConvergenceWarning: Stochastic Optimizer: Maximum iterations (200) reached and the optimization hasn't converged yet.\n",
      "  warnings.warn(\n"
     ]
    },
    {
     "name": "stdout",
     "output_type": "stream",
     "text": [
      "Done for sgd neuron pair [64, 32], epoch num 200 and learning rate 0.01 and type of lr adaptive, MSE = 1.1280504009921248\n",
      "Done for sgd neuron pair [64, 32], epoch num 200 and learning rate 0.005 and type of lr constant, MSE = 4.78981014751881\n",
      "Done for sgd neuron pair [64, 32], epoch num 200 and learning rate 0.005 and type of lr adaptive, MSE = 4.251774126307922\n"
     ]
    },
    {
     "name": "stderr",
     "output_type": "stream",
     "text": [
      "C:\\Users\\wjlwi\\AppData\\Local\\Packages\\PythonSoftwareFoundation.Python.3.10_qbz5n2kfra8p0\\LocalCache\\local-packages\\Python310\\site-packages\\sklearn\\neural_network\\_multilayer_perceptron.py:690: ConvergenceWarning: Stochastic Optimizer: Maximum iterations (200) reached and the optimization hasn't converged yet.\n",
      "  warnings.warn(\n"
     ]
    },
    {
     "name": "stdout",
     "output_type": "stream",
     "text": [
      "Done for sgd neuron pair [64, 32], epoch num 200 and learning rate 0.001 and type of lr constant, MSE = 1.995395316017318\n"
     ]
    },
    {
     "name": "stderr",
     "output_type": "stream",
     "text": [
      "C:\\Users\\wjlwi\\AppData\\Local\\Packages\\PythonSoftwareFoundation.Python.3.10_qbz5n2kfra8p0\\LocalCache\\local-packages\\Python310\\site-packages\\sklearn\\neural_network\\_multilayer_perceptron.py:690: ConvergenceWarning: Stochastic Optimizer: Maximum iterations (200) reached and the optimization hasn't converged yet.\n",
      "  warnings.warn(\n"
     ]
    },
    {
     "name": "stdout",
     "output_type": "stream",
     "text": [
      "Done for sgd neuron pair [64, 32], epoch num 200 and learning rate 0.001 and type of lr adaptive, MSE = 1.995395316017318\n",
      "Done for sgd neuron pair [64, 32], epoch num 300 and learning rate 0.01 and type of lr constant, MSE = 0.7095675799237893\n",
      "Done for sgd neuron pair [64, 32], epoch num 300 and learning rate 0.01 and type of lr adaptive, MSE = 1.1278139219199281\n",
      "Done for sgd neuron pair [64, 32], epoch num 300 and learning rate 0.005 and type of lr constant, MSE = 4.78981014751881\n",
      "Done for sgd neuron pair [64, 32], epoch num 300 and learning rate 0.005 and type of lr adaptive, MSE = 4.251774126307922\n",
      "Done for sgd neuron pair [64, 32], epoch num 300 and learning rate 0.001 and type of lr constant, MSE = 2.203799047396898\n"
     ]
    },
    {
     "name": "stderr",
     "output_type": "stream",
     "text": [
      "C:\\Users\\wjlwi\\AppData\\Local\\Packages\\PythonSoftwareFoundation.Python.3.10_qbz5n2kfra8p0\\LocalCache\\local-packages\\Python310\\site-packages\\sklearn\\neural_network\\_multilayer_perceptron.py:690: ConvergenceWarning: Stochastic Optimizer: Maximum iterations (300) reached and the optimization hasn't converged yet.\n",
      "  warnings.warn(\n"
     ]
    },
    {
     "name": "stdout",
     "output_type": "stream",
     "text": [
      "Done for sgd neuron pair [64, 32], epoch num 300 and learning rate 0.001 and type of lr adaptive, MSE = 2.4087367002733493\n",
      "Done for sgd neuron pair [128, 64], epoch num 100 and learning rate 0.01 and type of lr constant, MSE = 1.8569150716994962\n",
      "Done for sgd neuron pair [128, 64], epoch num 100 and learning rate 0.01 and type of lr adaptive, MSE = 1.8564070300398814\n"
     ]
    },
    {
     "name": "stderr",
     "output_type": "stream",
     "text": [
      "C:\\Users\\wjlwi\\AppData\\Local\\Packages\\PythonSoftwareFoundation.Python.3.10_qbz5n2kfra8p0\\LocalCache\\local-packages\\Python310\\site-packages\\sklearn\\utils\\extmath.py:205: RuntimeWarning: overflow encountered in matmul\n",
      "  ret = a @ b\n",
      "C:\\Users\\wjlwi\\AppData\\Local\\Packages\\PythonSoftwareFoundation.Python.3.10_qbz5n2kfra8p0\\LocalCache\\local-packages\\Python310\\site-packages\\sklearn\\utils\\extmath.py:205: RuntimeWarning: invalid value encountered in matmul\n",
      "  ret = a @ b\n",
      "C:\\Users\\wjlwi\\AppData\\Local\\Packages\\PythonSoftwareFoundation.Python.3.10_qbz5n2kfra8p0\\LocalCache\\local-packages\\Python310\\site-packages\\sklearn\\neural_network\\_multilayer_perceptron.py:690: ConvergenceWarning: Stochastic Optimizer: Maximum iterations (100) reached and the optimization hasn't converged yet.\n",
      "  warnings.warn(\n"
     ]
    },
    {
     "ename": "ValueError",
     "evalue": "Solver produced non-finite parameter weights. The input data may contain large values and need to be preprocessed.",
     "output_type": "error",
     "traceback": [
      "\u001b[1;31m---------------------------------------------------------------------------\u001b[0m",
      "\u001b[1;31mValueError\u001b[0m                                Traceback (most recent call last)",
      "Cell \u001b[1;32mIn[5], line 57\u001b[0m\n\u001b[0;32m     54\u001b[0m \u001b[38;5;28;01mfor\u001b[39;00m lr_type \u001b[38;5;129;01min\u001b[39;00m lr_type_list:\n\u001b[0;32m     55\u001b[0m     model \u001b[38;5;241m=\u001b[39m MLPRegressor(hidden_layer_sizes\u001b[38;5;241m=\u001b[39m(neuron_pair[\u001b[38;5;241m0\u001b[39m], neuron_pair[\u001b[38;5;241m1\u001b[39m]), activation\u001b[38;5;241m=\u001b[39m\u001b[38;5;124m'\u001b[39m\u001b[38;5;124mrelu\u001b[39m\u001b[38;5;124m'\u001b[39m, solver\u001b[38;5;241m=\u001b[39miter_method, max_iter\u001b[38;5;241m=\u001b[39mepoch_num, learning_rate_init\u001b[38;5;241m=\u001b[39mlearning_r, learning_rate\u001b[38;5;241m=\u001b[39mlr_type, random_state\u001b[38;5;241m=\u001b[39m\u001b[38;5;241m42\u001b[39m)\n\u001b[1;32m---> 57\u001b[0m     \u001b[43mmodel\u001b[49m\u001b[38;5;241;43m.\u001b[39;49m\u001b[43mfit\u001b[49m\u001b[43m(\u001b[49m\u001b[43mdf_features_train\u001b[49m\u001b[43m,\u001b[49m\u001b[43m \u001b[49m\u001b[43my_train\u001b[49m\u001b[38;5;241;43m.\u001b[39;49m\u001b[43mvalues\u001b[49m\u001b[38;5;241;43m.\u001b[39;49m\u001b[43mravel\u001b[49m\u001b[43m(\u001b[49m\u001b[43m)\u001b[49m\u001b[43m)\u001b[49m\n\u001b[0;32m     59\u001b[0m     y_pred_3f \u001b[38;5;241m=\u001b[39m model\u001b[38;5;241m.\u001b[39mpredict(df_features_test)\n\u001b[0;32m     60\u001b[0m     \u001b[38;5;28mprint\u001b[39m(\u001b[38;5;124mf\u001b[39m\u001b[38;5;124m'\u001b[39m\u001b[38;5;124mDone for \u001b[39m\u001b[38;5;132;01m{\u001b[39;00miter_method\u001b[38;5;132;01m}\u001b[39;00m\u001b[38;5;124m neuron pair \u001b[39m\u001b[38;5;132;01m{\u001b[39;00mneuron_pair\u001b[38;5;132;01m}\u001b[39;00m\u001b[38;5;124m, epoch num \u001b[39m\u001b[38;5;132;01m{\u001b[39;00mepoch_num\u001b[38;5;132;01m}\u001b[39;00m\u001b[38;5;124m and learning rate \u001b[39m\u001b[38;5;132;01m{\u001b[39;00mlearning_r\u001b[38;5;132;01m}\u001b[39;00m\u001b[38;5;124m and type of lr \u001b[39m\u001b[38;5;132;01m{\u001b[39;00mlr_type\u001b[38;5;132;01m}\u001b[39;00m\u001b[38;5;124m, MSE = \u001b[39m\u001b[38;5;132;01m{\u001b[39;00mmean_squared_error(y_test,\u001b[38;5;250m \u001b[39my_pred_3f)\u001b[38;5;132;01m}\u001b[39;00m\u001b[38;5;124m'\u001b[39m)\n",
      "File \u001b[1;32m~\\AppData\\Local\\Packages\\PythonSoftwareFoundation.Python.3.10_qbz5n2kfra8p0\\LocalCache\\local-packages\\Python310\\site-packages\\sklearn\\base.py:1473\u001b[0m, in \u001b[0;36m_fit_context.<locals>.decorator.<locals>.wrapper\u001b[1;34m(estimator, *args, **kwargs)\u001b[0m\n\u001b[0;32m   1466\u001b[0m     estimator\u001b[38;5;241m.\u001b[39m_validate_params()\n\u001b[0;32m   1468\u001b[0m \u001b[38;5;28;01mwith\u001b[39;00m config_context(\n\u001b[0;32m   1469\u001b[0m     skip_parameter_validation\u001b[38;5;241m=\u001b[39m(\n\u001b[0;32m   1470\u001b[0m         prefer_skip_nested_validation \u001b[38;5;129;01mor\u001b[39;00m global_skip_validation\n\u001b[0;32m   1471\u001b[0m     )\n\u001b[0;32m   1472\u001b[0m ):\n\u001b[1;32m-> 1473\u001b[0m     \u001b[38;5;28;01mreturn\u001b[39;00m fit_method(estimator, \u001b[38;5;241m*\u001b[39margs, \u001b[38;5;241m*\u001b[39m\u001b[38;5;241m*\u001b[39mkwargs)\n",
      "File \u001b[1;32m~\\AppData\\Local\\Packages\\PythonSoftwareFoundation.Python.3.10_qbz5n2kfra8p0\\LocalCache\\local-packages\\Python310\\site-packages\\sklearn\\neural_network\\_multilayer_perceptron.py:751\u001b[0m, in \u001b[0;36mBaseMultilayerPerceptron.fit\u001b[1;34m(self, X, y)\u001b[0m\n\u001b[0;32m    733\u001b[0m \u001b[38;5;129m@_fit_context\u001b[39m(prefer_skip_nested_validation\u001b[38;5;241m=\u001b[39m\u001b[38;5;28;01mTrue\u001b[39;00m)\n\u001b[0;32m    734\u001b[0m \u001b[38;5;28;01mdef\u001b[39;00m \u001b[38;5;21mfit\u001b[39m(\u001b[38;5;28mself\u001b[39m, X, y):\n\u001b[0;32m    735\u001b[0m \u001b[38;5;250m    \u001b[39m\u001b[38;5;124;03m\"\"\"Fit the model to data matrix X and target(s) y.\u001b[39;00m\n\u001b[0;32m    736\u001b[0m \n\u001b[0;32m    737\u001b[0m \u001b[38;5;124;03m    Parameters\u001b[39;00m\n\u001b[1;32m   (...)\u001b[0m\n\u001b[0;32m    749\u001b[0m \u001b[38;5;124;03m        Returns a trained MLP model.\u001b[39;00m\n\u001b[0;32m    750\u001b[0m \u001b[38;5;124;03m    \"\"\"\u001b[39;00m\n\u001b[1;32m--> 751\u001b[0m     \u001b[38;5;28;01mreturn\u001b[39;00m \u001b[38;5;28;43mself\u001b[39;49m\u001b[38;5;241;43m.\u001b[39;49m\u001b[43m_fit\u001b[49m\u001b[43m(\u001b[49m\u001b[43mX\u001b[49m\u001b[43m,\u001b[49m\u001b[43m \u001b[49m\u001b[43my\u001b[49m\u001b[43m,\u001b[49m\u001b[43m \u001b[49m\u001b[43mincremental\u001b[49m\u001b[38;5;241;43m=\u001b[39;49m\u001b[38;5;28;43;01mFalse\u001b[39;49;00m\u001b[43m)\u001b[49m\n",
      "File \u001b[1;32m~\\AppData\\Local\\Packages\\PythonSoftwareFoundation.Python.3.10_qbz5n2kfra8p0\\LocalCache\\local-packages\\Python310\\site-packages\\sklearn\\neural_network\\_multilayer_perceptron.py:495\u001b[0m, in \u001b[0;36mBaseMultilayerPerceptron._fit\u001b[1;34m(self, X, y, incremental)\u001b[0m\n\u001b[0;32m    493\u001b[0m weights \u001b[38;5;241m=\u001b[39m chain(\u001b[38;5;28mself\u001b[39m\u001b[38;5;241m.\u001b[39mcoefs_, \u001b[38;5;28mself\u001b[39m\u001b[38;5;241m.\u001b[39mintercepts_)\n\u001b[0;32m    494\u001b[0m \u001b[38;5;28;01mif\u001b[39;00m \u001b[38;5;129;01mnot\u001b[39;00m \u001b[38;5;28mall\u001b[39m(np\u001b[38;5;241m.\u001b[39misfinite(w)\u001b[38;5;241m.\u001b[39mall() \u001b[38;5;28;01mfor\u001b[39;00m w \u001b[38;5;129;01min\u001b[39;00m weights):\n\u001b[1;32m--> 495\u001b[0m     \u001b[38;5;28;01mraise\u001b[39;00m \u001b[38;5;167;01mValueError\u001b[39;00m(\n\u001b[0;32m    496\u001b[0m         \u001b[38;5;124m\"\u001b[39m\u001b[38;5;124mSolver produced non-finite parameter weights. The input data may\u001b[39m\u001b[38;5;124m\"\u001b[39m\n\u001b[0;32m    497\u001b[0m         \u001b[38;5;124m\"\u001b[39m\u001b[38;5;124m contain large values and need to be preprocessed.\u001b[39m\u001b[38;5;124m\"\u001b[39m\n\u001b[0;32m    498\u001b[0m     )\n\u001b[0;32m    500\u001b[0m \u001b[38;5;28;01mreturn\u001b[39;00m \u001b[38;5;28mself\u001b[39m\n",
      "\u001b[1;31mValueError\u001b[0m: Solver produced non-finite parameter weights. The input data may contain large values and need to be preprocessed."
     ]
    }
   ],
   "source": [
    "import torch\n",
    "import torch.nn as nn\n",
    "import torch.optim as optim\n",
    "import pandas as pd\n",
    "import numpy as np\n",
    "from sklearn.metrics import mean_squared_error\n",
    "from sklearn.neural_network import MLPRegressor\n",
    "\n",
    "\n",
    "df['date'] = pd.to_datetime(df['date']) # converting to date format\n",
    "dataset = df.sort_values(by='date')\n",
    "\n",
    "# Factor Models\n",
    "df_3_factor = dataset.drop(columns=['mkt_return','umd','cma','rmw','mth_return','rf','rolling_alpha_4f','rolling_alpha_5f'])\n",
    "df_4_factor = dataset.drop(columns=['mkt_return','cma','rmw','mth_return','rf','rolling_alpha_3f','rolling_alpha_5f'])\n",
    "df_5_factor = dataset.drop(columns=['mkt_return','umd','mth_return','rf','rolling_alpha_3f','rolling_alpha_4f'])\n",
    "\n",
    "# Creating Lagged and Stepped Datasets\n",
    "X_dataset_3f, y_dataset_3f = create_stepped_dataset(create_lagged_dataset(df_3_factor, lag=1,target_var='rolling_sharpe', id = 'crsp_fundno'),step=1,target_var='rolling_sharpe', id = 'crsp_fundno_L1')\n",
    "X_dataset_4f, y_dataset_4f = create_stepped_dataset(create_lagged_dataset(df_4_factor, lag=1,target_var='rolling_sharpe', id = 'crsp_fundno'),step=1,target_var='rolling_sharpe', id = 'crsp_fundno_L1')\n",
    "X_dataset_5f, y_dataset_5f = create_stepped_dataset(create_lagged_dataset(df_5_factor, lag=1,target_var='rolling_sharpe', id = 'crsp_fundno'),step=1,target_var='rolling_sharpe', id = 'crsp_fundno_L1')\n",
    "\n",
    "X_dataset_3f = X_dataset_3f.drop(columns=['crsp_fundno_L1'], errors='ignore')\n",
    "X_dataset_4f = X_dataset_4f.drop(columns=['crsp_fundno_L1'], errors='ignore')\n",
    "X_dataset_5f = X_dataset_5f.drop(columns=['crsp_fundno_L1'], errors='ignore')\n",
    "\n",
    "list_of_dates = pd.to_datetime(X_dataset_3f['date_L1'])\n",
    "percentile_70 = list_of_dates.quantile(0.7)\n",
    "train_end = list_of_dates.loc[(list_of_dates - percentile_70).abs().idxmin()]\n",
    "# train_end\n",
    "\n",
    "X_train = X_dataset_3f[X_dataset_3f['date_L1']<=train_end].drop(columns='date_L1')\n",
    "X_test = X_dataset_3f[X_dataset_3f['date_L1']>train_end].drop(columns='date_L1')\n",
    "scaler = StandardScaler()\n",
    "X_train_scaled = scaler.fit_transform(X_train)\n",
    "X_test_scaled = scaler.transform(X_test)\n",
    "y_train = y_dataset_3f.loc[X_train.index]\n",
    "y_test = y_dataset_3f.loc[X_test.index]\n",
    "# X_train\n",
    "\n",
    "df_features_train = X_train_scaled\n",
    "df_features_test = X_test_scaled\n",
    "\n",
    "neurons_num = [[64,32], [128,64]]\n",
    "epochs_list = [100, 200, 300]\n",
    "iter = ['adam','sgd']\n",
    "lr = [0.01,0.005,0.001]\n",
    "lr_type_list = ['constant','adaptive']\n",
    "\n",
    "for iter_method in iter:\n",
    "    for neuron_pair in neurons_num:\n",
    "        for epoch_num in epochs_list:\n",
    "            for learning_r in lr:\n",
    "                for lr_type in lr_type_list:\n",
    "                    model = MLPRegressor(hidden_layer_sizes=(neuron_pair[0], neuron_pair[1]), activation='relu', solver=iter_method, max_iter=epoch_num, learning_rate_init=learning_r, learning_rate=lr_type, random_state=42)\n",
    "                        \n",
    "                    model.fit(df_features_train, y_train.values.ravel())\n",
    "                    \n",
    "                    y_pred_3f = model.predict(df_features_test)\n",
    "                    print(f'Done for {iter_method} neuron pair {neuron_pair}, epoch num {epoch_num} and learning rate {learning_r} and type of lr {lr_type}, MSE = {mean_squared_error(y_test, y_pred_3f)}')\n",
    "# X_train"
   ]
  },
  {
   "cell_type": "code",
   "execution_count": 6,
   "metadata": {},
   "outputs": [
    {
     "name": "stdout",
     "output_type": "stream",
     "text": [
      "Done for adam neuron pair [64, 32], epoch num 100 and learning rate 0.01 and type of lr constant, MSE = 1.1453430626746925\n",
      "Done for adam neuron pair [64, 32], epoch num 100 and learning rate 0.01 and type of lr adaptive, MSE = 1.1453430626746925\n",
      "Done for adam neuron pair [64, 32], epoch num 100 and learning rate 0.005 and type of lr constant, MSE = 4.524469664367805\n",
      "Done for adam neuron pair [64, 32], epoch num 100 and learning rate 0.005 and type of lr adaptive, MSE = 4.524469664367805\n"
     ]
    },
    {
     "name": "stderr",
     "output_type": "stream",
     "text": [
      "C:\\Users\\wjlwi\\AppData\\Local\\Packages\\PythonSoftwareFoundation.Python.3.10_qbz5n2kfra8p0\\LocalCache\\local-packages\\Python310\\site-packages\\sklearn\\neural_network\\_multilayer_perceptron.py:690: ConvergenceWarning: Stochastic Optimizer: Maximum iterations (100) reached and the optimization hasn't converged yet.\n",
      "  warnings.warn(\n"
     ]
    },
    {
     "name": "stdout",
     "output_type": "stream",
     "text": [
      "Done for adam neuron pair [64, 32], epoch num 100 and learning rate 0.001 and type of lr constant, MSE = 3.5924154125308223\n"
     ]
    },
    {
     "name": "stderr",
     "output_type": "stream",
     "text": [
      "C:\\Users\\wjlwi\\AppData\\Local\\Packages\\PythonSoftwareFoundation.Python.3.10_qbz5n2kfra8p0\\LocalCache\\local-packages\\Python310\\site-packages\\sklearn\\neural_network\\_multilayer_perceptron.py:690: ConvergenceWarning: Stochastic Optimizer: Maximum iterations (100) reached and the optimization hasn't converged yet.\n",
      "  warnings.warn(\n"
     ]
    },
    {
     "name": "stdout",
     "output_type": "stream",
     "text": [
      "Done for adam neuron pair [64, 32], epoch num 100 and learning rate 0.001 and type of lr adaptive, MSE = 3.5924154125308223\n",
      "Done for adam neuron pair [64, 32], epoch num 200 and learning rate 0.01 and type of lr constant, MSE = 1.1453430626746925\n",
      "Done for adam neuron pair [64, 32], epoch num 200 and learning rate 0.01 and type of lr adaptive, MSE = 1.1453430626746925\n",
      "Done for adam neuron pair [64, 32], epoch num 200 and learning rate 0.005 and type of lr constant, MSE = 4.524469664367805\n",
      "Done for adam neuron pair [64, 32], epoch num 200 and learning rate 0.005 and type of lr adaptive, MSE = 4.524469664367805\n",
      "Done for adam neuron pair [64, 32], epoch num 200 and learning rate 0.001 and type of lr constant, MSE = 5.790139524868471\n",
      "Done for adam neuron pair [64, 32], epoch num 200 and learning rate 0.001 and type of lr adaptive, MSE = 5.790139524868471\n",
      "Done for adam neuron pair [64, 32], epoch num 300 and learning rate 0.01 and type of lr constant, MSE = 1.1453430626746925\n",
      "Done for adam neuron pair [64, 32], epoch num 300 and learning rate 0.01 and type of lr adaptive, MSE = 1.1453430626746925\n",
      "Done for adam neuron pair [64, 32], epoch num 300 and learning rate 0.005 and type of lr constant, MSE = 4.524469664367805\n",
      "Done for adam neuron pair [64, 32], epoch num 300 and learning rate 0.005 and type of lr adaptive, MSE = 4.524469664367805\n",
      "Done for adam neuron pair [64, 32], epoch num 300 and learning rate 0.001 and type of lr constant, MSE = 5.790139524868471\n",
      "Done for adam neuron pair [64, 32], epoch num 300 and learning rate 0.001 and type of lr adaptive, MSE = 5.790139524868471\n",
      "Done for adam neuron pair [128, 64], epoch num 100 and learning rate 0.01 and type of lr constant, MSE = 2.2250054033846993\n",
      "Done for adam neuron pair [128, 64], epoch num 100 and learning rate 0.01 and type of lr adaptive, MSE = 2.2250054033846993\n",
      "Done for adam neuron pair [128, 64], epoch num 100 and learning rate 0.005 and type of lr constant, MSE = 2.5457948949660327\n",
      "Done for adam neuron pair [128, 64], epoch num 100 and learning rate 0.005 and type of lr adaptive, MSE = 2.5457948949660327\n"
     ]
    },
    {
     "name": "stderr",
     "output_type": "stream",
     "text": [
      "C:\\Users\\wjlwi\\AppData\\Local\\Packages\\PythonSoftwareFoundation.Python.3.10_qbz5n2kfra8p0\\LocalCache\\local-packages\\Python310\\site-packages\\sklearn\\neural_network\\_multilayer_perceptron.py:690: ConvergenceWarning: Stochastic Optimizer: Maximum iterations (100) reached and the optimization hasn't converged yet.\n",
      "  warnings.warn(\n"
     ]
    },
    {
     "name": "stdout",
     "output_type": "stream",
     "text": [
      "Done for adam neuron pair [128, 64], epoch num 100 and learning rate 0.001 and type of lr constant, MSE = 2.8247767552606082\n"
     ]
    },
    {
     "name": "stderr",
     "output_type": "stream",
     "text": [
      "C:\\Users\\wjlwi\\AppData\\Local\\Packages\\PythonSoftwareFoundation.Python.3.10_qbz5n2kfra8p0\\LocalCache\\local-packages\\Python310\\site-packages\\sklearn\\neural_network\\_multilayer_perceptron.py:690: ConvergenceWarning: Stochastic Optimizer: Maximum iterations (100) reached and the optimization hasn't converged yet.\n",
      "  warnings.warn(\n"
     ]
    },
    {
     "name": "stdout",
     "output_type": "stream",
     "text": [
      "Done for adam neuron pair [128, 64], epoch num 100 and learning rate 0.001 and type of lr adaptive, MSE = 2.8247767552606082\n",
      "Done for adam neuron pair [128, 64], epoch num 200 and learning rate 0.01 and type of lr constant, MSE = 2.2250054033846993\n",
      "Done for adam neuron pair [128, 64], epoch num 200 and learning rate 0.01 and type of lr adaptive, MSE = 2.2250054033846993\n",
      "Done for adam neuron pair [128, 64], epoch num 200 and learning rate 0.005 and type of lr constant, MSE = 2.5457948949660327\n",
      "Done for adam neuron pair [128, 64], epoch num 200 and learning rate 0.005 and type of lr adaptive, MSE = 2.5457948949660327\n",
      "Done for adam neuron pair [128, 64], epoch num 200 and learning rate 0.001 and type of lr constant, MSE = 2.934804514562402\n",
      "Done for adam neuron pair [128, 64], epoch num 200 and learning rate 0.001 and type of lr adaptive, MSE = 2.934804514562402\n",
      "Done for adam neuron pair [128, 64], epoch num 300 and learning rate 0.01 and type of lr constant, MSE = 2.2250054033846993\n",
      "Done for adam neuron pair [128, 64], epoch num 300 and learning rate 0.01 and type of lr adaptive, MSE = 2.2250054033846993\n",
      "Done for adam neuron pair [128, 64], epoch num 300 and learning rate 0.005 and type of lr constant, MSE = 2.5457948949660327\n",
      "Done for adam neuron pair [128, 64], epoch num 300 and learning rate 0.005 and type of lr adaptive, MSE = 2.5457948949660327\n",
      "Done for adam neuron pair [128, 64], epoch num 300 and learning rate 0.001 and type of lr constant, MSE = 2.934804514562402\n",
      "Done for adam neuron pair [128, 64], epoch num 300 and learning rate 0.001 and type of lr adaptive, MSE = 2.934804514562402\n",
      "Done for sgd neuron pair [64, 32], epoch num 100 and learning rate 0.01 and type of lr constant, MSE = 1.7072262618628693\n",
      "Done for sgd neuron pair [64, 32], epoch num 100 and learning rate 0.01 and type of lr adaptive, MSE = 1.6089336533372594\n"
     ]
    },
    {
     "name": "stderr",
     "output_type": "stream",
     "text": [
      "C:\\Users\\wjlwi\\AppData\\Local\\Packages\\PythonSoftwareFoundation.Python.3.10_qbz5n2kfra8p0\\LocalCache\\local-packages\\Python310\\site-packages\\sklearn\\neural_network\\_multilayer_perceptron.py:690: ConvergenceWarning: Stochastic Optimizer: Maximum iterations (100) reached and the optimization hasn't converged yet.\n",
      "  warnings.warn(\n"
     ]
    },
    {
     "name": "stdout",
     "output_type": "stream",
     "text": [
      "Done for sgd neuron pair [64, 32], epoch num 100 and learning rate 0.005 and type of lr constant, MSE = 1.7365531012286513\n"
     ]
    },
    {
     "name": "stderr",
     "output_type": "stream",
     "text": [
      "C:\\Users\\wjlwi\\AppData\\Local\\Packages\\PythonSoftwareFoundation.Python.3.10_qbz5n2kfra8p0\\LocalCache\\local-packages\\Python310\\site-packages\\sklearn\\neural_network\\_multilayer_perceptron.py:690: ConvergenceWarning: Stochastic Optimizer: Maximum iterations (100) reached and the optimization hasn't converged yet.\n",
      "  warnings.warn(\n"
     ]
    },
    {
     "name": "stdout",
     "output_type": "stream",
     "text": [
      "Done for sgd neuron pair [64, 32], epoch num 100 and learning rate 0.005 and type of lr adaptive, MSE = 1.7365531012286513\n"
     ]
    },
    {
     "name": "stderr",
     "output_type": "stream",
     "text": [
      "C:\\Users\\wjlwi\\AppData\\Local\\Packages\\PythonSoftwareFoundation.Python.3.10_qbz5n2kfra8p0\\LocalCache\\local-packages\\Python310\\site-packages\\sklearn\\neural_network\\_multilayer_perceptron.py:690: ConvergenceWarning: Stochastic Optimizer: Maximum iterations (100) reached and the optimization hasn't converged yet.\n",
      "  warnings.warn(\n"
     ]
    },
    {
     "name": "stdout",
     "output_type": "stream",
     "text": [
      "Done for sgd neuron pair [64, 32], epoch num 100 and learning rate 0.001 and type of lr constant, MSE = 1.3296132434547001\n"
     ]
    },
    {
     "name": "stderr",
     "output_type": "stream",
     "text": [
      "C:\\Users\\wjlwi\\AppData\\Local\\Packages\\PythonSoftwareFoundation.Python.3.10_qbz5n2kfra8p0\\LocalCache\\local-packages\\Python310\\site-packages\\sklearn\\neural_network\\_multilayer_perceptron.py:690: ConvergenceWarning: Stochastic Optimizer: Maximum iterations (100) reached and the optimization hasn't converged yet.\n",
      "  warnings.warn(\n"
     ]
    },
    {
     "name": "stdout",
     "output_type": "stream",
     "text": [
      "Done for sgd neuron pair [64, 32], epoch num 100 and learning rate 0.001 and type of lr adaptive, MSE = 1.3296132434547001\n",
      "Done for sgd neuron pair [64, 32], epoch num 200 and learning rate 0.01 and type of lr constant, MSE = 1.7072262618628693\n",
      "Done for sgd neuron pair [64, 32], epoch num 200 and learning rate 0.01 and type of lr adaptive, MSE = 1.6089336533372594\n"
     ]
    },
    {
     "name": "stderr",
     "output_type": "stream",
     "text": [
      "C:\\Users\\wjlwi\\AppData\\Local\\Packages\\PythonSoftwareFoundation.Python.3.10_qbz5n2kfra8p0\\LocalCache\\local-packages\\Python310\\site-packages\\sklearn\\neural_network\\_multilayer_perceptron.py:690: ConvergenceWarning: Stochastic Optimizer: Maximum iterations (200) reached and the optimization hasn't converged yet.\n",
      "  warnings.warn(\n"
     ]
    },
    {
     "name": "stdout",
     "output_type": "stream",
     "text": [
      "Done for sgd neuron pair [64, 32], epoch num 200 and learning rate 0.005 and type of lr constant, MSE = 2.5415552050919294\n"
     ]
    },
    {
     "name": "stderr",
     "output_type": "stream",
     "text": [
      "C:\\Users\\wjlwi\\AppData\\Local\\Packages\\PythonSoftwareFoundation.Python.3.10_qbz5n2kfra8p0\\LocalCache\\local-packages\\Python310\\site-packages\\sklearn\\neural_network\\_multilayer_perceptron.py:690: ConvergenceWarning: Stochastic Optimizer: Maximum iterations (200) reached and the optimization hasn't converged yet.\n",
      "  warnings.warn(\n"
     ]
    },
    {
     "name": "stdout",
     "output_type": "stream",
     "text": [
      "Done for sgd neuron pair [64, 32], epoch num 200 and learning rate 0.005 and type of lr adaptive, MSE = 2.5415552050919294\n"
     ]
    },
    {
     "name": "stderr",
     "output_type": "stream",
     "text": [
      "C:\\Users\\wjlwi\\AppData\\Local\\Packages\\PythonSoftwareFoundation.Python.3.10_qbz5n2kfra8p0\\LocalCache\\local-packages\\Python310\\site-packages\\sklearn\\neural_network\\_multilayer_perceptron.py:690: ConvergenceWarning: Stochastic Optimizer: Maximum iterations (200) reached and the optimization hasn't converged yet.\n",
      "  warnings.warn(\n"
     ]
    },
    {
     "name": "stdout",
     "output_type": "stream",
     "text": [
      "Done for sgd neuron pair [64, 32], epoch num 200 and learning rate 0.001 and type of lr constant, MSE = 1.3303986169958135\n"
     ]
    },
    {
     "name": "stderr",
     "output_type": "stream",
     "text": [
      "C:\\Users\\wjlwi\\AppData\\Local\\Packages\\PythonSoftwareFoundation.Python.3.10_qbz5n2kfra8p0\\LocalCache\\local-packages\\Python310\\site-packages\\sklearn\\neural_network\\_multilayer_perceptron.py:690: ConvergenceWarning: Stochastic Optimizer: Maximum iterations (200) reached and the optimization hasn't converged yet.\n",
      "  warnings.warn(\n"
     ]
    },
    {
     "name": "stdout",
     "output_type": "stream",
     "text": [
      "Done for sgd neuron pair [64, 32], epoch num 200 and learning rate 0.001 and type of lr adaptive, MSE = 1.3303986169958135\n",
      "Done for sgd neuron pair [64, 32], epoch num 300 and learning rate 0.01 and type of lr constant, MSE = 1.7072262618628693\n",
      "Done for sgd neuron pair [64, 32], epoch num 300 and learning rate 0.01 and type of lr adaptive, MSE = 1.6089336533372594\n"
     ]
    },
    {
     "name": "stderr",
     "output_type": "stream",
     "text": [
      "C:\\Users\\wjlwi\\AppData\\Local\\Packages\\PythonSoftwareFoundation.Python.3.10_qbz5n2kfra8p0\\LocalCache\\local-packages\\Python310\\site-packages\\sklearn\\neural_network\\_multilayer_perceptron.py:690: ConvergenceWarning: Stochastic Optimizer: Maximum iterations (300) reached and the optimization hasn't converged yet.\n",
      "  warnings.warn(\n"
     ]
    },
    {
     "name": "stdout",
     "output_type": "stream",
     "text": [
      "Done for sgd neuron pair [64, 32], epoch num 300 and learning rate 0.005 and type of lr constant, MSE = 3.186112218546558\n"
     ]
    },
    {
     "name": "stderr",
     "output_type": "stream",
     "text": [
      "C:\\Users\\wjlwi\\AppData\\Local\\Packages\\PythonSoftwareFoundation.Python.3.10_qbz5n2kfra8p0\\LocalCache\\local-packages\\Python310\\site-packages\\sklearn\\neural_network\\_multilayer_perceptron.py:690: ConvergenceWarning: Stochastic Optimizer: Maximum iterations (300) reached and the optimization hasn't converged yet.\n",
      "  warnings.warn(\n"
     ]
    },
    {
     "name": "stdout",
     "output_type": "stream",
     "text": [
      "Done for sgd neuron pair [64, 32], epoch num 300 and learning rate 0.005 and type of lr adaptive, MSE = 3.186112218546558\n",
      "Done for sgd neuron pair [64, 32], epoch num 300 and learning rate 0.001 and type of lr constant, MSE = 1.3357846293016593\n"
     ]
    },
    {
     "name": "stderr",
     "output_type": "stream",
     "text": [
      "C:\\Users\\wjlwi\\AppData\\Local\\Packages\\PythonSoftwareFoundation.Python.3.10_qbz5n2kfra8p0\\LocalCache\\local-packages\\Python310\\site-packages\\sklearn\\neural_network\\_multilayer_perceptron.py:690: ConvergenceWarning: Stochastic Optimizer: Maximum iterations (300) reached and the optimization hasn't converged yet.\n",
      "  warnings.warn(\n"
     ]
    },
    {
     "name": "stdout",
     "output_type": "stream",
     "text": [
      "Done for sgd neuron pair [64, 32], epoch num 300 and learning rate 0.001 and type of lr adaptive, MSE = 1.2571029280564536\n"
     ]
    },
    {
     "name": "stderr",
     "output_type": "stream",
     "text": [
      "C:\\Users\\wjlwi\\AppData\\Local\\Packages\\PythonSoftwareFoundation.Python.3.10_qbz5n2kfra8p0\\LocalCache\\local-packages\\Python310\\site-packages\\sklearn\\utils\\extmath.py:205: RuntimeWarning: overflow encountered in matmul\n",
      "  ret = a @ b\n",
      "C:\\Users\\wjlwi\\AppData\\Local\\Packages\\PythonSoftwareFoundation.Python.3.10_qbz5n2kfra8p0\\LocalCache\\local-packages\\Python310\\site-packages\\sklearn\\utils\\extmath.py:205: RuntimeWarning: invalid value encountered in matmul\n",
      "  ret = a @ b\n",
      "C:\\Users\\wjlwi\\AppData\\Local\\Packages\\PythonSoftwareFoundation.Python.3.10_qbz5n2kfra8p0\\LocalCache\\local-packages\\Python310\\site-packages\\sklearn\\neural_network\\_multilayer_perceptron.py:690: ConvergenceWarning: Stochastic Optimizer: Maximum iterations (100) reached and the optimization hasn't converged yet.\n",
      "  warnings.warn(\n"
     ]
    },
    {
     "ename": "ValueError",
     "evalue": "Solver produced non-finite parameter weights. The input data may contain large values and need to be preprocessed.",
     "output_type": "error",
     "traceback": [
      "\u001b[1;31m---------------------------------------------------------------------------\u001b[0m",
      "\u001b[1;31mValueError\u001b[0m                                Traceback (most recent call last)",
      "Cell \u001b[1;32mIn[6], line 57\u001b[0m\n\u001b[0;32m     54\u001b[0m \u001b[38;5;28;01mfor\u001b[39;00m lr_type \u001b[38;5;129;01min\u001b[39;00m lr_type_list:\n\u001b[0;32m     55\u001b[0m     model \u001b[38;5;241m=\u001b[39m MLPRegressor(hidden_layer_sizes\u001b[38;5;241m=\u001b[39m(neuron_pair[\u001b[38;5;241m0\u001b[39m], neuron_pair[\u001b[38;5;241m1\u001b[39m]), activation\u001b[38;5;241m=\u001b[39m\u001b[38;5;124m'\u001b[39m\u001b[38;5;124mrelu\u001b[39m\u001b[38;5;124m'\u001b[39m, solver\u001b[38;5;241m=\u001b[39miter_method, max_iter\u001b[38;5;241m=\u001b[39mepoch_num, learning_rate_init\u001b[38;5;241m=\u001b[39mlearning_r, learning_rate\u001b[38;5;241m=\u001b[39mlr_type, random_state\u001b[38;5;241m=\u001b[39m\u001b[38;5;241m42\u001b[39m)\n\u001b[1;32m---> 57\u001b[0m     \u001b[43mmodel\u001b[49m\u001b[38;5;241;43m.\u001b[39;49m\u001b[43mfit\u001b[49m\u001b[43m(\u001b[49m\u001b[43mdf_features_train\u001b[49m\u001b[43m,\u001b[49m\u001b[43m \u001b[49m\u001b[43my_train\u001b[49m\u001b[38;5;241;43m.\u001b[39;49m\u001b[43mvalues\u001b[49m\u001b[38;5;241;43m.\u001b[39;49m\u001b[43mravel\u001b[49m\u001b[43m(\u001b[49m\u001b[43m)\u001b[49m\u001b[43m)\u001b[49m\n\u001b[0;32m     59\u001b[0m     y_pred_3f \u001b[38;5;241m=\u001b[39m model\u001b[38;5;241m.\u001b[39mpredict(df_features_test)\n\u001b[0;32m     60\u001b[0m     \u001b[38;5;28mprint\u001b[39m(\u001b[38;5;124mf\u001b[39m\u001b[38;5;124m'\u001b[39m\u001b[38;5;124mDone for \u001b[39m\u001b[38;5;132;01m{\u001b[39;00miter_method\u001b[38;5;132;01m}\u001b[39;00m\u001b[38;5;124m neuron pair \u001b[39m\u001b[38;5;132;01m{\u001b[39;00mneuron_pair\u001b[38;5;132;01m}\u001b[39;00m\u001b[38;5;124m, epoch num \u001b[39m\u001b[38;5;132;01m{\u001b[39;00mepoch_num\u001b[38;5;132;01m}\u001b[39;00m\u001b[38;5;124m and learning rate \u001b[39m\u001b[38;5;132;01m{\u001b[39;00mlearning_r\u001b[38;5;132;01m}\u001b[39;00m\u001b[38;5;124m and type of lr \u001b[39m\u001b[38;5;132;01m{\u001b[39;00mlr_type\u001b[38;5;132;01m}\u001b[39;00m\u001b[38;5;124m, MSE = \u001b[39m\u001b[38;5;132;01m{\u001b[39;00mmean_squared_error(y_test,\u001b[38;5;250m \u001b[39my_pred_3f)\u001b[38;5;132;01m}\u001b[39;00m\u001b[38;5;124m'\u001b[39m)\n",
      "File \u001b[1;32m~\\AppData\\Local\\Packages\\PythonSoftwareFoundation.Python.3.10_qbz5n2kfra8p0\\LocalCache\\local-packages\\Python310\\site-packages\\sklearn\\base.py:1473\u001b[0m, in \u001b[0;36m_fit_context.<locals>.decorator.<locals>.wrapper\u001b[1;34m(estimator, *args, **kwargs)\u001b[0m\n\u001b[0;32m   1466\u001b[0m     estimator\u001b[38;5;241m.\u001b[39m_validate_params()\n\u001b[0;32m   1468\u001b[0m \u001b[38;5;28;01mwith\u001b[39;00m config_context(\n\u001b[0;32m   1469\u001b[0m     skip_parameter_validation\u001b[38;5;241m=\u001b[39m(\n\u001b[0;32m   1470\u001b[0m         prefer_skip_nested_validation \u001b[38;5;129;01mor\u001b[39;00m global_skip_validation\n\u001b[0;32m   1471\u001b[0m     )\n\u001b[0;32m   1472\u001b[0m ):\n\u001b[1;32m-> 1473\u001b[0m     \u001b[38;5;28;01mreturn\u001b[39;00m fit_method(estimator, \u001b[38;5;241m*\u001b[39margs, \u001b[38;5;241m*\u001b[39m\u001b[38;5;241m*\u001b[39mkwargs)\n",
      "File \u001b[1;32m~\\AppData\\Local\\Packages\\PythonSoftwareFoundation.Python.3.10_qbz5n2kfra8p0\\LocalCache\\local-packages\\Python310\\site-packages\\sklearn\\neural_network\\_multilayer_perceptron.py:751\u001b[0m, in \u001b[0;36mBaseMultilayerPerceptron.fit\u001b[1;34m(self, X, y)\u001b[0m\n\u001b[0;32m    733\u001b[0m \u001b[38;5;129m@_fit_context\u001b[39m(prefer_skip_nested_validation\u001b[38;5;241m=\u001b[39m\u001b[38;5;28;01mTrue\u001b[39;00m)\n\u001b[0;32m    734\u001b[0m \u001b[38;5;28;01mdef\u001b[39;00m \u001b[38;5;21mfit\u001b[39m(\u001b[38;5;28mself\u001b[39m, X, y):\n\u001b[0;32m    735\u001b[0m \u001b[38;5;250m    \u001b[39m\u001b[38;5;124;03m\"\"\"Fit the model to data matrix X and target(s) y.\u001b[39;00m\n\u001b[0;32m    736\u001b[0m \n\u001b[0;32m    737\u001b[0m \u001b[38;5;124;03m    Parameters\u001b[39;00m\n\u001b[1;32m   (...)\u001b[0m\n\u001b[0;32m    749\u001b[0m \u001b[38;5;124;03m        Returns a trained MLP model.\u001b[39;00m\n\u001b[0;32m    750\u001b[0m \u001b[38;5;124;03m    \"\"\"\u001b[39;00m\n\u001b[1;32m--> 751\u001b[0m     \u001b[38;5;28;01mreturn\u001b[39;00m \u001b[38;5;28;43mself\u001b[39;49m\u001b[38;5;241;43m.\u001b[39;49m\u001b[43m_fit\u001b[49m\u001b[43m(\u001b[49m\u001b[43mX\u001b[49m\u001b[43m,\u001b[49m\u001b[43m \u001b[49m\u001b[43my\u001b[49m\u001b[43m,\u001b[49m\u001b[43m \u001b[49m\u001b[43mincremental\u001b[49m\u001b[38;5;241;43m=\u001b[39;49m\u001b[38;5;28;43;01mFalse\u001b[39;49;00m\u001b[43m)\u001b[49m\n",
      "File \u001b[1;32m~\\AppData\\Local\\Packages\\PythonSoftwareFoundation.Python.3.10_qbz5n2kfra8p0\\LocalCache\\local-packages\\Python310\\site-packages\\sklearn\\neural_network\\_multilayer_perceptron.py:495\u001b[0m, in \u001b[0;36mBaseMultilayerPerceptron._fit\u001b[1;34m(self, X, y, incremental)\u001b[0m\n\u001b[0;32m    493\u001b[0m weights \u001b[38;5;241m=\u001b[39m chain(\u001b[38;5;28mself\u001b[39m\u001b[38;5;241m.\u001b[39mcoefs_, \u001b[38;5;28mself\u001b[39m\u001b[38;5;241m.\u001b[39mintercepts_)\n\u001b[0;32m    494\u001b[0m \u001b[38;5;28;01mif\u001b[39;00m \u001b[38;5;129;01mnot\u001b[39;00m \u001b[38;5;28mall\u001b[39m(np\u001b[38;5;241m.\u001b[39misfinite(w)\u001b[38;5;241m.\u001b[39mall() \u001b[38;5;28;01mfor\u001b[39;00m w \u001b[38;5;129;01min\u001b[39;00m weights):\n\u001b[1;32m--> 495\u001b[0m     \u001b[38;5;28;01mraise\u001b[39;00m \u001b[38;5;167;01mValueError\u001b[39;00m(\n\u001b[0;32m    496\u001b[0m         \u001b[38;5;124m\"\u001b[39m\u001b[38;5;124mSolver produced non-finite parameter weights. The input data may\u001b[39m\u001b[38;5;124m\"\u001b[39m\n\u001b[0;32m    497\u001b[0m         \u001b[38;5;124m\"\u001b[39m\u001b[38;5;124m contain large values and need to be preprocessed.\u001b[39m\u001b[38;5;124m\"\u001b[39m\n\u001b[0;32m    498\u001b[0m     )\n\u001b[0;32m    500\u001b[0m \u001b[38;5;28;01mreturn\u001b[39;00m \u001b[38;5;28mself\u001b[39m\n",
      "\u001b[1;31mValueError\u001b[0m: Solver produced non-finite parameter weights. The input data may contain large values and need to be preprocessed."
     ]
    }
   ],
   "source": [
    "import torch\n",
    "import torch.nn as nn\n",
    "import torch.optim as optim\n",
    "import pandas as pd\n",
    "import numpy as np\n",
    "from sklearn.metrics import mean_squared_error\n",
    "from sklearn.neural_network import MLPRegressor\n",
    "\n",
    "\n",
    "df['date'] = pd.to_datetime(df['date']) # converting to date format\n",
    "dataset = df.sort_values(by='date')\n",
    "\n",
    "# Factor Models\n",
    "df_3_factor = dataset.drop(columns=['mkt_return','umd','cma','rmw','mth_return','rf','rolling_alpha_4f','rolling_alpha_5f'])\n",
    "df_4_factor = dataset.drop(columns=['mkt_return','cma','rmw','mth_return','rf','rolling_alpha_3f','rolling_alpha_5f'])\n",
    "df_5_factor = dataset.drop(columns=['mkt_return','umd','mth_return','rf','rolling_alpha_3f','rolling_alpha_4f'])\n",
    "\n",
    "# Creating Lagged and Stepped Datasets\n",
    "X_dataset_3f, y_dataset_3f = create_stepped_dataset(create_lagged_dataset(df_3_factor, lag=1,target_var='rolling_sharpe', id = 'crsp_fundno'),step=1,target_var='rolling_sharpe', id = 'crsp_fundno_L1')\n",
    "X_dataset_4f, y_dataset_4f = create_stepped_dataset(create_lagged_dataset(df_4_factor, lag=1,target_var='rolling_sharpe', id = 'crsp_fundno'),step=1,target_var='rolling_sharpe', id = 'crsp_fundno_L1')\n",
    "X_dataset_5f, y_dataset_5f = create_stepped_dataset(create_lagged_dataset(df_5_factor, lag=1,target_var='rolling_sharpe', id = 'crsp_fundno'),step=1,target_var='rolling_sharpe', id = 'crsp_fundno_L1')\n",
    "\n",
    "X_dataset_3f = X_dataset_3f.drop(columns=['crsp_fundno_L1'], errors='ignore')\n",
    "X_dataset_4f = X_dataset_4f.drop(columns=['crsp_fundno_L1'], errors='ignore')\n",
    "X_dataset_5f = X_dataset_5f.drop(columns=['crsp_fundno_L1'], errors='ignore')\n",
    "\n",
    "list_of_dates = pd.to_datetime(X_dataset_4f['date_L1'])\n",
    "percentile_70 = list_of_dates.quantile(0.7)\n",
    "train_end = list_of_dates.loc[(list_of_dates - percentile_70).abs().idxmin()]\n",
    "# train_end\n",
    "\n",
    "X_train = X_dataset_4f[X_dataset_4f['date_L1']<=train_end].drop(columns='date_L1')\n",
    "X_test = X_dataset_4f[X_dataset_4f['date_L1']>train_end].drop(columns='date_L1')\n",
    "scaler = StandardScaler()\n",
    "X_train_scaled = scaler.fit_transform(X_train)\n",
    "X_test_scaled = scaler.transform(X_test)\n",
    "y_train = y_dataset_4f.loc[X_train.index]\n",
    "y_test = y_dataset_4f.loc[X_test.index]\n",
    "# X_train\n",
    "\n",
    "df_features_train = X_train_scaled\n",
    "df_features_test = X_test_scaled\n",
    "\n",
    "neurons_num = [[64,32], [128,64]]\n",
    "epochs_list = [100, 200, 300]\n",
    "iter = ['adam','sgd']\n",
    "lr = [0.01,0.005,0.001]\n",
    "lr_type_list = ['constant','adaptive']\n",
    "\n",
    "for iter_method in iter:\n",
    "    for neuron_pair in neurons_num:\n",
    "        for epoch_num in epochs_list:\n",
    "            for learning_r in lr:\n",
    "                for lr_type in lr_type_list:\n",
    "                    model = MLPRegressor(hidden_layer_sizes=(neuron_pair[0], neuron_pair[1]), activation='relu', solver=iter_method, max_iter=epoch_num, learning_rate_init=learning_r, learning_rate=lr_type, random_state=42)\n",
    "                        \n",
    "                    model.fit(df_features_train, y_train.values.ravel())\n",
    "                    \n",
    "                    y_pred_3f = model.predict(df_features_test)\n",
    "                    print(f'Done for {iter_method} neuron pair {neuron_pair}, epoch num {epoch_num} and learning rate {learning_r} and type of lr {lr_type}, MSE = {mean_squared_error(y_test, y_pred_3f)}')\n",
    "# X_train"
   ]
  },
  {
   "cell_type": "code",
   "execution_count": 7,
   "metadata": {},
   "outputs": [
    {
     "name": "stdout",
     "output_type": "stream",
     "text": [
      "Done for adam neuron pair [64, 32], epoch num 100 and learning rate 0.01 and type of lr constant, MSE = 2.3070154263271814\n",
      "Done for adam neuron pair [64, 32], epoch num 100 and learning rate 0.01 and type of lr adaptive, MSE = 2.3070154263271814\n",
      "Done for adam neuron pair [64, 32], epoch num 100 and learning rate 0.005 and type of lr constant, MSE = 1.5089516469186992\n",
      "Done for adam neuron pair [64, 32], epoch num 100 and learning rate 0.005 and type of lr adaptive, MSE = 1.5089516469186992\n",
      "Done for adam neuron pair [64, 32], epoch num 100 and learning rate 0.001 and type of lr constant, MSE = 2.6691287756133932\n",
      "Done for adam neuron pair [64, 32], epoch num 100 and learning rate 0.001 and type of lr adaptive, MSE = 2.6691287756133932\n",
      "Done for adam neuron pair [64, 32], epoch num 200 and learning rate 0.01 and type of lr constant, MSE = 2.3070154263271814\n",
      "Done for adam neuron pair [64, 32], epoch num 200 and learning rate 0.01 and type of lr adaptive, MSE = 2.3070154263271814\n",
      "Done for adam neuron pair [64, 32], epoch num 200 and learning rate 0.005 and type of lr constant, MSE = 1.5089516469186992\n",
      "Done for adam neuron pair [64, 32], epoch num 200 and learning rate 0.005 and type of lr adaptive, MSE = 1.5089516469186992\n",
      "Done for adam neuron pair [64, 32], epoch num 200 and learning rate 0.001 and type of lr constant, MSE = 2.6691287756133932\n",
      "Done for adam neuron pair [64, 32], epoch num 200 and learning rate 0.001 and type of lr adaptive, MSE = 2.6691287756133932\n",
      "Done for adam neuron pair [64, 32], epoch num 300 and learning rate 0.01 and type of lr constant, MSE = 2.3070154263271814\n",
      "Done for adam neuron pair [64, 32], epoch num 300 and learning rate 0.01 and type of lr adaptive, MSE = 2.3070154263271814\n",
      "Done for adam neuron pair [64, 32], epoch num 300 and learning rate 0.005 and type of lr constant, MSE = 1.5089516469186992\n",
      "Done for adam neuron pair [64, 32], epoch num 300 and learning rate 0.005 and type of lr adaptive, MSE = 1.5089516469186992\n",
      "Done for adam neuron pair [64, 32], epoch num 300 and learning rate 0.001 and type of lr constant, MSE = 2.6691287756133932\n",
      "Done for adam neuron pair [64, 32], epoch num 300 and learning rate 0.001 and type of lr adaptive, MSE = 2.6691287756133932\n",
      "Done for adam neuron pair [128, 64], epoch num 100 and learning rate 0.01 and type of lr constant, MSE = 1.1692933579470066\n",
      "Done for adam neuron pair [128, 64], epoch num 100 and learning rate 0.01 and type of lr adaptive, MSE = 1.1692933579470066\n",
      "Done for adam neuron pair [128, 64], epoch num 100 and learning rate 0.005 and type of lr constant, MSE = 1.1797664453948635\n",
      "Done for adam neuron pair [128, 64], epoch num 100 and learning rate 0.005 and type of lr adaptive, MSE = 1.1797664453948635\n"
     ]
    },
    {
     "name": "stderr",
     "output_type": "stream",
     "text": [
      "C:\\Users\\wjlwi\\AppData\\Local\\Packages\\PythonSoftwareFoundation.Python.3.10_qbz5n2kfra8p0\\LocalCache\\local-packages\\Python310\\site-packages\\sklearn\\neural_network\\_multilayer_perceptron.py:690: ConvergenceWarning: Stochastic Optimizer: Maximum iterations (100) reached and the optimization hasn't converged yet.\n",
      "  warnings.warn(\n"
     ]
    },
    {
     "name": "stdout",
     "output_type": "stream",
     "text": [
      "Done for adam neuron pair [128, 64], epoch num 100 and learning rate 0.001 and type of lr constant, MSE = 1.8184439023958763\n"
     ]
    },
    {
     "name": "stderr",
     "output_type": "stream",
     "text": [
      "C:\\Users\\wjlwi\\AppData\\Local\\Packages\\PythonSoftwareFoundation.Python.3.10_qbz5n2kfra8p0\\LocalCache\\local-packages\\Python310\\site-packages\\sklearn\\neural_network\\_multilayer_perceptron.py:690: ConvergenceWarning: Stochastic Optimizer: Maximum iterations (100) reached and the optimization hasn't converged yet.\n",
      "  warnings.warn(\n"
     ]
    },
    {
     "name": "stdout",
     "output_type": "stream",
     "text": [
      "Done for adam neuron pair [128, 64], epoch num 100 and learning rate 0.001 and type of lr adaptive, MSE = 1.8184439023958763\n",
      "Done for adam neuron pair [128, 64], epoch num 200 and learning rate 0.01 and type of lr constant, MSE = 1.1692933579470066\n",
      "Done for adam neuron pair [128, 64], epoch num 200 and learning rate 0.01 and type of lr adaptive, MSE = 1.1692933579470066\n",
      "Done for adam neuron pair [128, 64], epoch num 200 and learning rate 0.005 and type of lr constant, MSE = 1.1797664453948635\n",
      "Done for adam neuron pair [128, 64], epoch num 200 and learning rate 0.005 and type of lr adaptive, MSE = 1.1797664453948635\n",
      "Done for adam neuron pair [128, 64], epoch num 200 and learning rate 0.001 and type of lr constant, MSE = 2.2452124834702425\n",
      "Done for adam neuron pair [128, 64], epoch num 200 and learning rate 0.001 and type of lr adaptive, MSE = 2.2452124834702425\n",
      "Done for adam neuron pair [128, 64], epoch num 300 and learning rate 0.01 and type of lr constant, MSE = 1.1692933579470066\n",
      "Done for adam neuron pair [128, 64], epoch num 300 and learning rate 0.01 and type of lr adaptive, MSE = 1.1692933579470066\n",
      "Done for adam neuron pair [128, 64], epoch num 300 and learning rate 0.005 and type of lr constant, MSE = 1.1797664453948635\n",
      "Done for adam neuron pair [128, 64], epoch num 300 and learning rate 0.005 and type of lr adaptive, MSE = 1.1797664453948635\n",
      "Done for adam neuron pair [128, 64], epoch num 300 and learning rate 0.001 and type of lr constant, MSE = 2.2452124834702425\n",
      "Done for adam neuron pair [128, 64], epoch num 300 and learning rate 0.001 and type of lr adaptive, MSE = 2.2452124834702425\n",
      "Done for sgd neuron pair [64, 32], epoch num 100 and learning rate 0.01 and type of lr constant, MSE = 1.4425829245702144\n"
     ]
    },
    {
     "name": "stderr",
     "output_type": "stream",
     "text": [
      "C:\\Users\\wjlwi\\AppData\\Local\\Packages\\PythonSoftwareFoundation.Python.3.10_qbz5n2kfra8p0\\LocalCache\\local-packages\\Python310\\site-packages\\sklearn\\neural_network\\_multilayer_perceptron.py:690: ConvergenceWarning: Stochastic Optimizer: Maximum iterations (100) reached and the optimization hasn't converged yet.\n",
      "  warnings.warn(\n"
     ]
    },
    {
     "name": "stdout",
     "output_type": "stream",
     "text": [
      "Done for sgd neuron pair [64, 32], epoch num 100 and learning rate 0.01 and type of lr adaptive, MSE = 1.3361346134961705\n",
      "Done for sgd neuron pair [64, 32], epoch num 100 and learning rate 0.005 and type of lr constant, MSE = 1.727787750999942\n"
     ]
    },
    {
     "name": "stderr",
     "output_type": "stream",
     "text": [
      "C:\\Users\\wjlwi\\AppData\\Local\\Packages\\PythonSoftwareFoundation.Python.3.10_qbz5n2kfra8p0\\LocalCache\\local-packages\\Python310\\site-packages\\sklearn\\neural_network\\_multilayer_perceptron.py:690: ConvergenceWarning: Stochastic Optimizer: Maximum iterations (100) reached and the optimization hasn't converged yet.\n",
      "  warnings.warn(\n"
     ]
    },
    {
     "name": "stdout",
     "output_type": "stream",
     "text": [
      "Done for sgd neuron pair [64, 32], epoch num 100 and learning rate 0.005 and type of lr adaptive, MSE = 1.7291945031246978\n"
     ]
    },
    {
     "name": "stderr",
     "output_type": "stream",
     "text": [
      "C:\\Users\\wjlwi\\AppData\\Local\\Packages\\PythonSoftwareFoundation.Python.3.10_qbz5n2kfra8p0\\LocalCache\\local-packages\\Python310\\site-packages\\sklearn\\neural_network\\_multilayer_perceptron.py:690: ConvergenceWarning: Stochastic Optimizer: Maximum iterations (100) reached and the optimization hasn't converged yet.\n",
      "  warnings.warn(\n"
     ]
    },
    {
     "name": "stdout",
     "output_type": "stream",
     "text": [
      "Done for sgd neuron pair [64, 32], epoch num 100 and learning rate 0.001 and type of lr constant, MSE = 2.1454354369349025\n"
     ]
    },
    {
     "name": "stderr",
     "output_type": "stream",
     "text": [
      "C:\\Users\\wjlwi\\AppData\\Local\\Packages\\PythonSoftwareFoundation.Python.3.10_qbz5n2kfra8p0\\LocalCache\\local-packages\\Python310\\site-packages\\sklearn\\neural_network\\_multilayer_perceptron.py:690: ConvergenceWarning: Stochastic Optimizer: Maximum iterations (100) reached and the optimization hasn't converged yet.\n",
      "  warnings.warn(\n"
     ]
    },
    {
     "name": "stdout",
     "output_type": "stream",
     "text": [
      "Done for sgd neuron pair [64, 32], epoch num 100 and learning rate 0.001 and type of lr adaptive, MSE = 2.1454354369349025\n",
      "Done for sgd neuron pair [64, 32], epoch num 200 and learning rate 0.01 and type of lr constant, MSE = 1.4425829245702144\n"
     ]
    },
    {
     "name": "stderr",
     "output_type": "stream",
     "text": [
      "C:\\Users\\wjlwi\\AppData\\Local\\Packages\\PythonSoftwareFoundation.Python.3.10_qbz5n2kfra8p0\\LocalCache\\local-packages\\Python310\\site-packages\\sklearn\\neural_network\\_multilayer_perceptron.py:690: ConvergenceWarning: Stochastic Optimizer: Maximum iterations (200) reached and the optimization hasn't converged yet.\n",
      "  warnings.warn(\n"
     ]
    },
    {
     "name": "stdout",
     "output_type": "stream",
     "text": [
      "Done for sgd neuron pair [64, 32], epoch num 200 and learning rate 0.01 and type of lr adaptive, MSE = 1.8045555117136352\n",
      "Done for sgd neuron pair [64, 32], epoch num 200 and learning rate 0.005 and type of lr constant, MSE = 1.727787750999942\n"
     ]
    },
    {
     "name": "stderr",
     "output_type": "stream",
     "text": [
      "C:\\Users\\wjlwi\\AppData\\Local\\Packages\\PythonSoftwareFoundation.Python.3.10_qbz5n2kfra8p0\\LocalCache\\local-packages\\Python310\\site-packages\\sklearn\\neural_network\\_multilayer_perceptron.py:690: ConvergenceWarning: Stochastic Optimizer: Maximum iterations (200) reached and the optimization hasn't converged yet.\n",
      "  warnings.warn(\n"
     ]
    },
    {
     "name": "stdout",
     "output_type": "stream",
     "text": [
      "Done for sgd neuron pair [64, 32], epoch num 200 and learning rate 0.005 and type of lr adaptive, MSE = 1.850370665930081\n",
      "Done for sgd neuron pair [64, 32], epoch num 200 and learning rate 0.001 and type of lr constant, MSE = 2.382270910375781\n"
     ]
    },
    {
     "name": "stderr",
     "output_type": "stream",
     "text": [
      "C:\\Users\\wjlwi\\AppData\\Local\\Packages\\PythonSoftwareFoundation.Python.3.10_qbz5n2kfra8p0\\LocalCache\\local-packages\\Python310\\site-packages\\sklearn\\neural_network\\_multilayer_perceptron.py:690: ConvergenceWarning: Stochastic Optimizer: Maximum iterations (200) reached and the optimization hasn't converged yet.\n",
      "  warnings.warn(\n"
     ]
    },
    {
     "name": "stdout",
     "output_type": "stream",
     "text": [
      "Done for sgd neuron pair [64, 32], epoch num 200 and learning rate 0.001 and type of lr adaptive, MSE = 2.467394205083855\n",
      "Done for sgd neuron pair [64, 32], epoch num 300 and learning rate 0.01 and type of lr constant, MSE = 1.4425829245702144\n",
      "Done for sgd neuron pair [64, 32], epoch num 300 and learning rate 0.01 and type of lr adaptive, MSE = 1.9626278612249233\n",
      "Done for sgd neuron pair [64, 32], epoch num 300 and learning rate 0.005 and type of lr constant, MSE = 1.727787750999942\n"
     ]
    },
    {
     "name": "stderr",
     "output_type": "stream",
     "text": [
      "C:\\Users\\wjlwi\\AppData\\Local\\Packages\\PythonSoftwareFoundation.Python.3.10_qbz5n2kfra8p0\\LocalCache\\local-packages\\Python310\\site-packages\\sklearn\\neural_network\\_multilayer_perceptron.py:690: ConvergenceWarning: Stochastic Optimizer: Maximum iterations (300) reached and the optimization hasn't converged yet.\n",
      "  warnings.warn(\n"
     ]
    },
    {
     "name": "stdout",
     "output_type": "stream",
     "text": [
      "Done for sgd neuron pair [64, 32], epoch num 300 and learning rate 0.005 and type of lr adaptive, MSE = 1.8831616486504827\n",
      "Done for sgd neuron pair [64, 32], epoch num 300 and learning rate 0.001 and type of lr constant, MSE = 2.382270910375781\n"
     ]
    },
    {
     "name": "stderr",
     "output_type": "stream",
     "text": [
      "C:\\Users\\wjlwi\\AppData\\Local\\Packages\\PythonSoftwareFoundation.Python.3.10_qbz5n2kfra8p0\\LocalCache\\local-packages\\Python310\\site-packages\\sklearn\\neural_network\\_multilayer_perceptron.py:690: ConvergenceWarning: Stochastic Optimizer: Maximum iterations (300) reached and the optimization hasn't converged yet.\n",
      "  warnings.warn(\n"
     ]
    },
    {
     "name": "stdout",
     "output_type": "stream",
     "text": [
      "Done for sgd neuron pair [64, 32], epoch num 300 and learning rate 0.001 and type of lr adaptive, MSE = 2.451359728453484\n"
     ]
    },
    {
     "name": "stderr",
     "output_type": "stream",
     "text": [
      "C:\\Users\\wjlwi\\AppData\\Local\\Packages\\PythonSoftwareFoundation.Python.3.10_qbz5n2kfra8p0\\LocalCache\\local-packages\\Python310\\site-packages\\sklearn\\neural_network\\_base.py:172: RuntimeWarning: overflow encountered in square\n",
      "  return ((y_true - y_pred) ** 2).mean() / 2\n",
      "C:\\Users\\wjlwi\\AppData\\Local\\Packages\\PythonSoftwareFoundation.Python.3.10_qbz5n2kfra8p0\\LocalCache\\local-packages\\Python310\\site-packages\\sklearn\\utils\\extmath.py:205: RuntimeWarning: overflow encountered in matmul\n",
      "  ret = a @ b\n",
      "C:\\Users\\wjlwi\\AppData\\Local\\Packages\\PythonSoftwareFoundation.Python.3.10_qbz5n2kfra8p0\\LocalCache\\local-packages\\Python310\\site-packages\\sklearn\\utils\\extmath.py:205: RuntimeWarning: invalid value encountered in matmul\n",
      "  ret = a @ b\n",
      "C:\\Users\\wjlwi\\AppData\\Local\\Packages\\PythonSoftwareFoundation.Python.3.10_qbz5n2kfra8p0\\LocalCache\\local-packages\\Python310\\site-packages\\sklearn\\neural_network\\_multilayer_perceptron.py:690: ConvergenceWarning: Stochastic Optimizer: Maximum iterations (100) reached and the optimization hasn't converged yet.\n",
      "  warnings.warn(\n"
     ]
    },
    {
     "ename": "ValueError",
     "evalue": "Solver produced non-finite parameter weights. The input data may contain large values and need to be preprocessed.",
     "output_type": "error",
     "traceback": [
      "\u001b[1;31m---------------------------------------------------------------------------\u001b[0m",
      "\u001b[1;31mValueError\u001b[0m                                Traceback (most recent call last)",
      "Cell \u001b[1;32mIn[7], line 57\u001b[0m\n\u001b[0;32m     54\u001b[0m \u001b[38;5;28;01mfor\u001b[39;00m lr_type \u001b[38;5;129;01min\u001b[39;00m lr_type_list:\n\u001b[0;32m     55\u001b[0m     model \u001b[38;5;241m=\u001b[39m MLPRegressor(hidden_layer_sizes\u001b[38;5;241m=\u001b[39m(neuron_pair[\u001b[38;5;241m0\u001b[39m], neuron_pair[\u001b[38;5;241m1\u001b[39m]), activation\u001b[38;5;241m=\u001b[39m\u001b[38;5;124m'\u001b[39m\u001b[38;5;124mrelu\u001b[39m\u001b[38;5;124m'\u001b[39m, solver\u001b[38;5;241m=\u001b[39miter_method, max_iter\u001b[38;5;241m=\u001b[39mepoch_num, learning_rate_init\u001b[38;5;241m=\u001b[39mlearning_r, learning_rate\u001b[38;5;241m=\u001b[39mlr_type, random_state\u001b[38;5;241m=\u001b[39m\u001b[38;5;241m42\u001b[39m)\n\u001b[1;32m---> 57\u001b[0m     \u001b[43mmodel\u001b[49m\u001b[38;5;241;43m.\u001b[39;49m\u001b[43mfit\u001b[49m\u001b[43m(\u001b[49m\u001b[43mdf_features_train\u001b[49m\u001b[43m,\u001b[49m\u001b[43m \u001b[49m\u001b[43my_train\u001b[49m\u001b[38;5;241;43m.\u001b[39;49m\u001b[43mvalues\u001b[49m\u001b[38;5;241;43m.\u001b[39;49m\u001b[43mravel\u001b[49m\u001b[43m(\u001b[49m\u001b[43m)\u001b[49m\u001b[43m)\u001b[49m\n\u001b[0;32m     59\u001b[0m     y_pred_3f \u001b[38;5;241m=\u001b[39m model\u001b[38;5;241m.\u001b[39mpredict(df_features_test)\n\u001b[0;32m     60\u001b[0m     \u001b[38;5;28mprint\u001b[39m(\u001b[38;5;124mf\u001b[39m\u001b[38;5;124m'\u001b[39m\u001b[38;5;124mDone for \u001b[39m\u001b[38;5;132;01m{\u001b[39;00miter_method\u001b[38;5;132;01m}\u001b[39;00m\u001b[38;5;124m neuron pair \u001b[39m\u001b[38;5;132;01m{\u001b[39;00mneuron_pair\u001b[38;5;132;01m}\u001b[39;00m\u001b[38;5;124m, epoch num \u001b[39m\u001b[38;5;132;01m{\u001b[39;00mepoch_num\u001b[38;5;132;01m}\u001b[39;00m\u001b[38;5;124m and learning rate \u001b[39m\u001b[38;5;132;01m{\u001b[39;00mlearning_r\u001b[38;5;132;01m}\u001b[39;00m\u001b[38;5;124m and type of lr \u001b[39m\u001b[38;5;132;01m{\u001b[39;00mlr_type\u001b[38;5;132;01m}\u001b[39;00m\u001b[38;5;124m, MSE = \u001b[39m\u001b[38;5;132;01m{\u001b[39;00mmean_squared_error(y_test,\u001b[38;5;250m \u001b[39my_pred_3f)\u001b[38;5;132;01m}\u001b[39;00m\u001b[38;5;124m'\u001b[39m)\n",
      "File \u001b[1;32m~\\AppData\\Local\\Packages\\PythonSoftwareFoundation.Python.3.10_qbz5n2kfra8p0\\LocalCache\\local-packages\\Python310\\site-packages\\sklearn\\base.py:1473\u001b[0m, in \u001b[0;36m_fit_context.<locals>.decorator.<locals>.wrapper\u001b[1;34m(estimator, *args, **kwargs)\u001b[0m\n\u001b[0;32m   1466\u001b[0m     estimator\u001b[38;5;241m.\u001b[39m_validate_params()\n\u001b[0;32m   1468\u001b[0m \u001b[38;5;28;01mwith\u001b[39;00m config_context(\n\u001b[0;32m   1469\u001b[0m     skip_parameter_validation\u001b[38;5;241m=\u001b[39m(\n\u001b[0;32m   1470\u001b[0m         prefer_skip_nested_validation \u001b[38;5;129;01mor\u001b[39;00m global_skip_validation\n\u001b[0;32m   1471\u001b[0m     )\n\u001b[0;32m   1472\u001b[0m ):\n\u001b[1;32m-> 1473\u001b[0m     \u001b[38;5;28;01mreturn\u001b[39;00m fit_method(estimator, \u001b[38;5;241m*\u001b[39margs, \u001b[38;5;241m*\u001b[39m\u001b[38;5;241m*\u001b[39mkwargs)\n",
      "File \u001b[1;32m~\\AppData\\Local\\Packages\\PythonSoftwareFoundation.Python.3.10_qbz5n2kfra8p0\\LocalCache\\local-packages\\Python310\\site-packages\\sklearn\\neural_network\\_multilayer_perceptron.py:751\u001b[0m, in \u001b[0;36mBaseMultilayerPerceptron.fit\u001b[1;34m(self, X, y)\u001b[0m\n\u001b[0;32m    733\u001b[0m \u001b[38;5;129m@_fit_context\u001b[39m(prefer_skip_nested_validation\u001b[38;5;241m=\u001b[39m\u001b[38;5;28;01mTrue\u001b[39;00m)\n\u001b[0;32m    734\u001b[0m \u001b[38;5;28;01mdef\u001b[39;00m \u001b[38;5;21mfit\u001b[39m(\u001b[38;5;28mself\u001b[39m, X, y):\n\u001b[0;32m    735\u001b[0m \u001b[38;5;250m    \u001b[39m\u001b[38;5;124;03m\"\"\"Fit the model to data matrix X and target(s) y.\u001b[39;00m\n\u001b[0;32m    736\u001b[0m \n\u001b[0;32m    737\u001b[0m \u001b[38;5;124;03m    Parameters\u001b[39;00m\n\u001b[1;32m   (...)\u001b[0m\n\u001b[0;32m    749\u001b[0m \u001b[38;5;124;03m        Returns a trained MLP model.\u001b[39;00m\n\u001b[0;32m    750\u001b[0m \u001b[38;5;124;03m    \"\"\"\u001b[39;00m\n\u001b[1;32m--> 751\u001b[0m     \u001b[38;5;28;01mreturn\u001b[39;00m \u001b[38;5;28;43mself\u001b[39;49m\u001b[38;5;241;43m.\u001b[39;49m\u001b[43m_fit\u001b[49m\u001b[43m(\u001b[49m\u001b[43mX\u001b[49m\u001b[43m,\u001b[49m\u001b[43m \u001b[49m\u001b[43my\u001b[49m\u001b[43m,\u001b[49m\u001b[43m \u001b[49m\u001b[43mincremental\u001b[49m\u001b[38;5;241;43m=\u001b[39;49m\u001b[38;5;28;43;01mFalse\u001b[39;49;00m\u001b[43m)\u001b[49m\n",
      "File \u001b[1;32m~\\AppData\\Local\\Packages\\PythonSoftwareFoundation.Python.3.10_qbz5n2kfra8p0\\LocalCache\\local-packages\\Python310\\site-packages\\sklearn\\neural_network\\_multilayer_perceptron.py:495\u001b[0m, in \u001b[0;36mBaseMultilayerPerceptron._fit\u001b[1;34m(self, X, y, incremental)\u001b[0m\n\u001b[0;32m    493\u001b[0m weights \u001b[38;5;241m=\u001b[39m chain(\u001b[38;5;28mself\u001b[39m\u001b[38;5;241m.\u001b[39mcoefs_, \u001b[38;5;28mself\u001b[39m\u001b[38;5;241m.\u001b[39mintercepts_)\n\u001b[0;32m    494\u001b[0m \u001b[38;5;28;01mif\u001b[39;00m \u001b[38;5;129;01mnot\u001b[39;00m \u001b[38;5;28mall\u001b[39m(np\u001b[38;5;241m.\u001b[39misfinite(w)\u001b[38;5;241m.\u001b[39mall() \u001b[38;5;28;01mfor\u001b[39;00m w \u001b[38;5;129;01min\u001b[39;00m weights):\n\u001b[1;32m--> 495\u001b[0m     \u001b[38;5;28;01mraise\u001b[39;00m \u001b[38;5;167;01mValueError\u001b[39;00m(\n\u001b[0;32m    496\u001b[0m         \u001b[38;5;124m\"\u001b[39m\u001b[38;5;124mSolver produced non-finite parameter weights. The input data may\u001b[39m\u001b[38;5;124m\"\u001b[39m\n\u001b[0;32m    497\u001b[0m         \u001b[38;5;124m\"\u001b[39m\u001b[38;5;124m contain large values and need to be preprocessed.\u001b[39m\u001b[38;5;124m\"\u001b[39m\n\u001b[0;32m    498\u001b[0m     )\n\u001b[0;32m    500\u001b[0m \u001b[38;5;28;01mreturn\u001b[39;00m \u001b[38;5;28mself\u001b[39m\n",
      "\u001b[1;31mValueError\u001b[0m: Solver produced non-finite parameter weights. The input data may contain large values and need to be preprocessed."
     ]
    }
   ],
   "source": [
    "import torch\n",
    "import torch.nn as nn\n",
    "import torch.optim as optim\n",
    "import pandas as pd\n",
    "import numpy as np\n",
    "from sklearn.metrics import mean_squared_error\n",
    "from sklearn.neural_network import MLPRegressor\n",
    "\n",
    "\n",
    "df['date'] = pd.to_datetime(df['date']) # converting to date format\n",
    "dataset = df.sort_values(by='date')\n",
    "\n",
    "# Factor Models\n",
    "df_3_factor = dataset.drop(columns=['mkt_return','umd','cma','rmw','mth_return','rf','rolling_alpha_4f','rolling_alpha_5f'])\n",
    "df_4_factor = dataset.drop(columns=['mkt_return','cma','rmw','mth_return','rf','rolling_alpha_3f','rolling_alpha_5f'])\n",
    "df_5_factor = dataset.drop(columns=['mkt_return','umd','mth_return','rf','rolling_alpha_3f','rolling_alpha_4f'])\n",
    "\n",
    "# Creating Lagged and Stepped Datasets\n",
    "X_dataset_3f, y_dataset_3f = create_stepped_dataset(create_lagged_dataset(df_3_factor, lag=1,target_var='rolling_sharpe', id = 'crsp_fundno'),step=1,target_var='rolling_sharpe', id = 'crsp_fundno_L1')\n",
    "X_dataset_4f, y_dataset_4f = create_stepped_dataset(create_lagged_dataset(df_4_factor, lag=1,target_var='rolling_sharpe', id = 'crsp_fundno'),step=1,target_var='rolling_sharpe', id = 'crsp_fundno_L1')\n",
    "X_dataset_5f, y_dataset_5f = create_stepped_dataset(create_lagged_dataset(df_5_factor, lag=1,target_var='rolling_sharpe', id = 'crsp_fundno'),step=1,target_var='rolling_sharpe', id = 'crsp_fundno_L1')\n",
    "\n",
    "X_dataset_3f = X_dataset_3f.drop(columns=['crsp_fundno_L1'], errors='ignore')\n",
    "X_dataset_4f = X_dataset_4f.drop(columns=['crsp_fundno_L1'], errors='ignore')\n",
    "X_dataset_5f = X_dataset_5f.drop(columns=['crsp_fundno_L1'], errors='ignore')\n",
    "\n",
    "list_of_dates = pd.to_datetime(X_dataset_5f['date_L1'])\n",
    "percentile_70 = list_of_dates.quantile(0.7)\n",
    "train_end = list_of_dates.loc[(list_of_dates - percentile_70).abs().idxmin()]\n",
    "# train_end\n",
    "\n",
    "X_train = X_dataset_5f[X_dataset_5f['date_L1']<=train_end].drop(columns='date_L1')\n",
    "X_test = X_dataset_5f[X_dataset_5f['date_L1']>train_end].drop(columns='date_L1')\n",
    "scaler = StandardScaler()\n",
    "X_train_scaled = scaler.fit_transform(X_train)\n",
    "X_test_scaled = scaler.transform(X_test)\n",
    "y_train = y_dataset_4f.loc[X_train.index]\n",
    "y_test = y_dataset_4f.loc[X_test.index]\n",
    "# X_train\n",
    "\n",
    "df_features_train = X_train_scaled\n",
    "df_features_test = X_test_scaled\n",
    "\n",
    "neurons_num = [[64,32], [128,64]]\n",
    "epochs_list = [100, 200, 300]\n",
    "iter = ['adam','sgd']\n",
    "lr = [0.01,0.005,0.001]\n",
    "lr_type_list = ['constant','adaptive']\n",
    "\n",
    "for iter_method in iter:\n",
    "    for neuron_pair in neurons_num:\n",
    "        for epoch_num in epochs_list:\n",
    "            for learning_r in lr:\n",
    "                for lr_type in lr_type_list:\n",
    "                    model = MLPRegressor(hidden_layer_sizes=(neuron_pair[0], neuron_pair[1]), activation='relu', solver=iter_method, max_iter=epoch_num, learning_rate_init=learning_r, learning_rate=lr_type, random_state=42)\n",
    "                        \n",
    "                    model.fit(df_features_train, y_train.values.ravel())\n",
    "                    \n",
    "                    y_pred_3f = model.predict(df_features_test)\n",
    "                    print(f'Done for {iter_method} neuron pair {neuron_pair}, epoch num {epoch_num} and learning rate {learning_r} and type of lr {lr_type}, MSE = {mean_squared_error(y_test, y_pred_3f)}')\n",
    "# X_train"
   ]
  },
  {
   "cell_type": "code",
   "execution_count": 36,
   "metadata": {},
   "outputs": [
    {
     "data": {
      "text/plain": [
       "2.2766843"
      ]
     },
     "execution_count": 36,
     "metadata": {},
     "output_type": "execute_result"
    }
   ],
   "source": [
    "mse = mean_squared_error(targets_test_tensor.detach().numpy().squeeze(), predictions.detach().numpy().squeeze())\n",
    "mse"
   ]
  },
  {
   "cell_type": "code",
   "execution_count": 13,
   "metadata": {},
   "outputs": [],
   "source": [
    "# Training Cycle\n",
    "def overall_function(dataset, outcome):\n",
    "    dataset['date'] = pd.to_datetime(dataset['date']) # converting to date format\n",
    "    dataset = dataset.sort_values(by='date')\n",
    "    # dataset = dataset.replace(np.inf, 0)\n",
    "    # dataset = dataset.replace(-np.inf, 0)\n",
    "    \n",
    "    # Factor Models\n",
    "    df_3_factor = dataset.drop(columns=['mkt_return','umd','cma','rmw','mth_return','rf','rolling_alpha_4f','rolling_alpha_5f'])\n",
    "    df_4_factor = dataset.drop(columns=['mkt_return','cma','rmw','mth_return','rf','rolling_alpha_3f','rolling_alpha_5f'])\n",
    "    df_5_factor = dataset.drop(columns=['mkt_return','umd','mth_return','rf','rolling_alpha_3f','rolling_alpha_4f'])\n",
    "    \n",
    "    # Creating Lagged and Stepped Datasets\n",
    "    X_dataset_3f, y_dataset_3f = create_stepped_dataset(create_lagged_dataset(df_3_factor, lag=1,target_var=outcome, id = 'crsp_fundno'),step=1,target_var=outcome, id = 'crsp_fundno_L1')\n",
    "    X_dataset_4f, y_dataset_4f = create_stepped_dataset(create_lagged_dataset(df_4_factor, lag=1,target_var=outcome, id = 'crsp_fundno'),step=1,target_var=outcome, id = 'crsp_fundno_L1')\n",
    "    X_dataset_5f, y_dataset_5f = create_stepped_dataset(create_lagged_dataset(df_5_factor, lag=1,target_var=outcome, id = 'crsp_fundno'),step=1,target_var=outcome, id = 'crsp_fundno_L1')\n",
    "    \n",
    "    X_dataset_3f = X_dataset_3f.drop(columns=['crsp_fundno_L1'], errors='ignore')\n",
    "    X_dataset_4f = X_dataset_4f.drop(columns=['crsp_fundno_L1'], errors='ignore')\n",
    "    X_dataset_5f = X_dataset_5f.drop(columns=['crsp_fundno_L1'], errors='ignore')\n",
    "\n",
    "    list_of_dates = pd.to_datetime(X_dataset_3f['date_L1'])\n",
    "    percentile_70 = list_of_dates.quantile(0.7)\n",
    "    train_end = list_of_dates.loc[(list_of_dates - percentile_70).abs().idxmin()]\n",
    "    df_end = list_of_dates.max()\n",
    "\n",
    "    results = []\n",
    "    \n",
    "    while train_end != df_end:\n",
    "        \n",
    "        test_date = generate_next_date(list_of_dates, train_end)\n",
    "        if pd.isna(test_date):\n",
    "            break \n",
    "\n",
    "        # Process data for modeling\n",
    "        X_train_3f, X_test_3f, y_train_3f, y_test_3f = process_factor_model(X_dataset_3f, y_dataset_3f, train_end, test_date)\n",
    "        X_train_4f, X_test_4f, y_train_4f, y_test_4f = process_factor_model(X_dataset_4f, y_dataset_4f, train_end, test_date)\n",
    "        X_train_5f, X_test_5f, y_train_5f, y_test_5f = process_factor_model(X_dataset_5f, y_dataset_5f, train_end, test_date)\n",
    "\n",
    "        # Model 1: Naive Model\n",
    "        X_naive = X_dataset_3f[X_dataset_3f['date_L1'] == test_date][['rolling_sharpe_L1']]\n",
    "        print('Naive Fitted')\n",
    "        \n",
    "        # Adding Naive Results\n",
    "        df_in_loop = y_test_3f.copy()\n",
    "        df_in_loop['naive'] = X_naive.values\n",
    "        \n",
    "        # Model 2: Linear Regression\n",
    "        linear = LinearRegression()\n",
    "        linear.fit(X_train_3f, y_train_3f.values.ravel())\n",
    "        linear3fpred = linear.predict(X_test_3f)\n",
    "        linear.fit(X_train_4f, y_train_4f.values.ravel())\n",
    "        linear4fpred = linear.predict(X_test_4f)\n",
    "        linear.fit(X_train_5f, y_train_5f.values.ravel())\n",
    "        linear5fpred = linear.predict(X_test_5f)\n",
    "        \n",
    "        print('Linear Regression 3-Factor Fitted')\n",
    "        print('Linear Regression 4-Factor Fitted')\n",
    "        print('Linear Regression 5-Factor Fitted')\n",
    "\n",
    "        ## adding\n",
    "        df_in_loop['linear_3f'] = linear3fpred\n",
    "        df_in_loop['linear_4f'] = linear4fpred\n",
    "        df_in_loop['linear_5f'] = linear5fpred\n",
    "\n",
    "        # Model 3: Feedforward Neural Network\n",
    "        model = MLPRegressor(hidden_layer_sizes=(64, 32), activation='logistic', solver='adam', max_iter=200, random_state=42)\n",
    "        \n",
    "        model.fit(X_train_3f, y_train_3f.values.ravel())\n",
    "        print('FFNN 3-Factor Fitted')\n",
    "        y_pred_3f = model.predict(X_test_3f)\n",
    "        \n",
    "        model.fit(X_train_4f, y_train_4f.values.ravel())\n",
    "        print('FFNN 4-Factor Fitted')\n",
    "        y_pred_4f = model.predict(X_test_4f)\n",
    "        \n",
    "        model.fit(X_train_5f, y_train_5f.values.ravel())\n",
    "        print('FFNN 5-Factor Fitted')\n",
    "        y_pred_5f = model.predict(X_test_5f)\n",
    "\n",
    "        # Adding FFNN results\n",
    "        df_in_loop['ffnn_3f'] = y_pred_3f\n",
    "        df_in_loop['ffnn_4f'] = y_pred_4f\n",
    "        df_in_loop['ffnn_5f'] = y_pred_5f\n",
    "        \n",
    "        # Model 4: Basic RNN\n",
    "        \n",
    "        # Model 5: Random Forest Regression\n",
    "        model = RandomForestRegressor(n_estimators=100, random_state=40, n_jobs=-1)\n",
    "\n",
    "        model.fit(X_train_3f, y_train_3f.values.ravel())\n",
    "        print('RF 3-Factor Fitted')\n",
    "        y_pred_3f = model.predict(X_test_3f)\n",
    "\n",
    "        model.fit(X_train_4f, y_train_4f.values.ravel())\n",
    "        print('RF 4-Factor Fitted')\n",
    "        y_pred_4f = model.predict(X_test_4f)\n",
    "\n",
    "        model.fit(X_train_5f, y_train_5f.values.ravel())\n",
    "        print('RF 5-Factor Fitted')\n",
    "        y_pred_5f = model.predict(X_test_5f)\n",
    "\n",
    "        df_in_loop['rf_3f'] = y_pred_3f\n",
    "        df_in_loop['rf_4f'] = y_pred_4f\n",
    "        df_in_loop['rf_5f'] = y_pred_5f\n",
    "        \n",
    "        # Add results into loop\n",
    "        results.append(df_in_loop)\n",
    "        train_end = test_date\n",
    "        num_remaining_dates = len(list(set(date for date in list_of_dates if date > test_date)))\n",
    "        print(f'{num_remaining_dates} dates remaining')\n",
    "    \n",
    "    combined_df = pd.concat(results, ignore_index=True)\n",
    "    return combined_df"
   ]
  },
  {
   "cell_type": "code",
   "execution_count": 14,
   "metadata": {},
   "outputs": [
    {
     "name": "stdout",
     "output_type": "stream",
     "text": [
      "Naive Fitted\n",
      "Linear Regression 3-Factor Fitted\n",
      "Linear Regression 4-Factor Fitted\n",
      "Linear Regression 5-Factor Fitted\n"
     ]
    },
    {
     "name": "stderr",
     "output_type": "stream",
     "text": [
      "c:\\Users\\Xuan Le\\OneDrive - National University of Singapore\\Documents\\University\\y4s2\\DSE4101 Capstone Project in DSE I\\Mutual-Funds-Forecasting\\venv\\Lib\\site-packages\\sklearn\\neural_network\\_multilayer_perceptron.py:691: ConvergenceWarning: Stochastic Optimizer: Maximum iterations (200) reached and the optimization hasn't converged yet.\n",
      "  warnings.warn(\n"
     ]
    },
    {
     "name": "stdout",
     "output_type": "stream",
     "text": [
      "FFNN 3-Factor Fitted\n"
     ]
    },
    {
     "name": "stderr",
     "output_type": "stream",
     "text": [
      "c:\\Users\\Xuan Le\\OneDrive - National University of Singapore\\Documents\\University\\y4s2\\DSE4101 Capstone Project in DSE I\\Mutual-Funds-Forecasting\\venv\\Lib\\site-packages\\sklearn\\neural_network\\_multilayer_perceptron.py:691: ConvergenceWarning: Stochastic Optimizer: Maximum iterations (200) reached and the optimization hasn't converged yet.\n",
      "  warnings.warn(\n"
     ]
    },
    {
     "name": "stdout",
     "output_type": "stream",
     "text": [
      "FFNN 4-Factor Fitted\n"
     ]
    },
    {
     "name": "stderr",
     "output_type": "stream",
     "text": [
      "c:\\Users\\Xuan Le\\OneDrive - National University of Singapore\\Documents\\University\\y4s2\\DSE4101 Capstone Project in DSE I\\Mutual-Funds-Forecasting\\venv\\Lib\\site-packages\\sklearn\\neural_network\\_multilayer_perceptron.py:691: ConvergenceWarning: Stochastic Optimizer: Maximum iterations (200) reached and the optimization hasn't converged yet.\n",
      "  warnings.warn(\n"
     ]
    },
    {
     "name": "stdout",
     "output_type": "stream",
     "text": [
      "FFNN 5-Factor Fitted\n",
      "RF 3-Factor Fitted\n",
      "RF 4-Factor Fitted\n",
      "RF 5-Factor Fitted\n",
      "64 dates remaining\n",
      "Naive Fitted\n",
      "Linear Regression 3-Factor Fitted\n",
      "Linear Regression 4-Factor Fitted\n",
      "Linear Regression 5-Factor Fitted\n"
     ]
    },
    {
     "name": "stderr",
     "output_type": "stream",
     "text": [
      "c:\\Users\\Xuan Le\\OneDrive - National University of Singapore\\Documents\\University\\y4s2\\DSE4101 Capstone Project in DSE I\\Mutual-Funds-Forecasting\\venv\\Lib\\site-packages\\sklearn\\neural_network\\_multilayer_perceptron.py:691: ConvergenceWarning: Stochastic Optimizer: Maximum iterations (200) reached and the optimization hasn't converged yet.\n",
      "  warnings.warn(\n"
     ]
    },
    {
     "name": "stdout",
     "output_type": "stream",
     "text": [
      "FFNN 3-Factor Fitted\n"
     ]
    },
    {
     "name": "stderr",
     "output_type": "stream",
     "text": [
      "c:\\Users\\Xuan Le\\OneDrive - National University of Singapore\\Documents\\University\\y4s2\\DSE4101 Capstone Project in DSE I\\Mutual-Funds-Forecasting\\venv\\Lib\\site-packages\\sklearn\\neural_network\\_multilayer_perceptron.py:691: ConvergenceWarning: Stochastic Optimizer: Maximum iterations (200) reached and the optimization hasn't converged yet.\n",
      "  warnings.warn(\n"
     ]
    },
    {
     "name": "stdout",
     "output_type": "stream",
     "text": [
      "FFNN 4-Factor Fitted\n"
     ]
    },
    {
     "name": "stderr",
     "output_type": "stream",
     "text": [
      "c:\\Users\\Xuan Le\\OneDrive - National University of Singapore\\Documents\\University\\y4s2\\DSE4101 Capstone Project in DSE I\\Mutual-Funds-Forecasting\\venv\\Lib\\site-packages\\sklearn\\neural_network\\_multilayer_perceptron.py:691: ConvergenceWarning: Stochastic Optimizer: Maximum iterations (200) reached and the optimization hasn't converged yet.\n",
      "  warnings.warn(\n"
     ]
    },
    {
     "name": "stdout",
     "output_type": "stream",
     "text": [
      "FFNN 5-Factor Fitted\n",
      "RF 3-Factor Fitted\n",
      "RF 4-Factor Fitted\n",
      "RF 5-Factor Fitted\n",
      "63 dates remaining\n",
      "Naive Fitted\n",
      "Linear Regression 3-Factor Fitted\n",
      "Linear Regression 4-Factor Fitted\n",
      "Linear Regression 5-Factor Fitted\n"
     ]
    },
    {
     "name": "stderr",
     "output_type": "stream",
     "text": [
      "c:\\Users\\Xuan Le\\OneDrive - National University of Singapore\\Documents\\University\\y4s2\\DSE4101 Capstone Project in DSE I\\Mutual-Funds-Forecasting\\venv\\Lib\\site-packages\\sklearn\\neural_network\\_multilayer_perceptron.py:691: ConvergenceWarning: Stochastic Optimizer: Maximum iterations (200) reached and the optimization hasn't converged yet.\n",
      "  warnings.warn(\n"
     ]
    },
    {
     "name": "stdout",
     "output_type": "stream",
     "text": [
      "FFNN 3-Factor Fitted\n"
     ]
    },
    {
     "name": "stderr",
     "output_type": "stream",
     "text": [
      "c:\\Users\\Xuan Le\\OneDrive - National University of Singapore\\Documents\\University\\y4s2\\DSE4101 Capstone Project in DSE I\\Mutual-Funds-Forecasting\\venv\\Lib\\site-packages\\sklearn\\neural_network\\_multilayer_perceptron.py:691: ConvergenceWarning: Stochastic Optimizer: Maximum iterations (200) reached and the optimization hasn't converged yet.\n",
      "  warnings.warn(\n"
     ]
    },
    {
     "name": "stdout",
     "output_type": "stream",
     "text": [
      "FFNN 4-Factor Fitted\n"
     ]
    },
    {
     "name": "stderr",
     "output_type": "stream",
     "text": [
      "c:\\Users\\Xuan Le\\OneDrive - National University of Singapore\\Documents\\University\\y4s2\\DSE4101 Capstone Project in DSE I\\Mutual-Funds-Forecasting\\venv\\Lib\\site-packages\\sklearn\\neural_network\\_multilayer_perceptron.py:691: ConvergenceWarning: Stochastic Optimizer: Maximum iterations (200) reached and the optimization hasn't converged yet.\n",
      "  warnings.warn(\n"
     ]
    },
    {
     "name": "stdout",
     "output_type": "stream",
     "text": [
      "FFNN 5-Factor Fitted\n",
      "RF 3-Factor Fitted\n",
      "RF 4-Factor Fitted\n",
      "RF 5-Factor Fitted\n",
      "62 dates remaining\n",
      "Naive Fitted\n",
      "Linear Regression 3-Factor Fitted\n",
      "Linear Regression 4-Factor Fitted\n",
      "Linear Regression 5-Factor Fitted\n"
     ]
    },
    {
     "name": "stderr",
     "output_type": "stream",
     "text": [
      "c:\\Users\\Xuan Le\\OneDrive - National University of Singapore\\Documents\\University\\y4s2\\DSE4101 Capstone Project in DSE I\\Mutual-Funds-Forecasting\\venv\\Lib\\site-packages\\sklearn\\neural_network\\_multilayer_perceptron.py:691: ConvergenceWarning: Stochastic Optimizer: Maximum iterations (200) reached and the optimization hasn't converged yet.\n",
      "  warnings.warn(\n"
     ]
    },
    {
     "name": "stdout",
     "output_type": "stream",
     "text": [
      "FFNN 3-Factor Fitted\n"
     ]
    },
    {
     "name": "stderr",
     "output_type": "stream",
     "text": [
      "c:\\Users\\Xuan Le\\OneDrive - National University of Singapore\\Documents\\University\\y4s2\\DSE4101 Capstone Project in DSE I\\Mutual-Funds-Forecasting\\venv\\Lib\\site-packages\\sklearn\\neural_network\\_multilayer_perceptron.py:691: ConvergenceWarning: Stochastic Optimizer: Maximum iterations (200) reached and the optimization hasn't converged yet.\n",
      "  warnings.warn(\n"
     ]
    },
    {
     "name": "stdout",
     "output_type": "stream",
     "text": [
      "FFNN 4-Factor Fitted\n"
     ]
    },
    {
     "name": "stderr",
     "output_type": "stream",
     "text": [
      "c:\\Users\\Xuan Le\\OneDrive - National University of Singapore\\Documents\\University\\y4s2\\DSE4101 Capstone Project in DSE I\\Mutual-Funds-Forecasting\\venv\\Lib\\site-packages\\sklearn\\neural_network\\_multilayer_perceptron.py:691: ConvergenceWarning: Stochastic Optimizer: Maximum iterations (200) reached and the optimization hasn't converged yet.\n",
      "  warnings.warn(\n"
     ]
    },
    {
     "name": "stdout",
     "output_type": "stream",
     "text": [
      "FFNN 5-Factor Fitted\n",
      "RF 3-Factor Fitted\n",
      "RF 4-Factor Fitted\n",
      "RF 5-Factor Fitted\n",
      "61 dates remaining\n",
      "Naive Fitted\n",
      "Linear Regression 3-Factor Fitted\n",
      "Linear Regression 4-Factor Fitted\n",
      "Linear Regression 5-Factor Fitted\n"
     ]
    },
    {
     "name": "stderr",
     "output_type": "stream",
     "text": [
      "c:\\Users\\Xuan Le\\OneDrive - National University of Singapore\\Documents\\University\\y4s2\\DSE4101 Capstone Project in DSE I\\Mutual-Funds-Forecasting\\venv\\Lib\\site-packages\\sklearn\\neural_network\\_multilayer_perceptron.py:691: ConvergenceWarning: Stochastic Optimizer: Maximum iterations (200) reached and the optimization hasn't converged yet.\n",
      "  warnings.warn(\n"
     ]
    },
    {
     "name": "stdout",
     "output_type": "stream",
     "text": [
      "FFNN 3-Factor Fitted\n"
     ]
    },
    {
     "name": "stderr",
     "output_type": "stream",
     "text": [
      "c:\\Users\\Xuan Le\\OneDrive - National University of Singapore\\Documents\\University\\y4s2\\DSE4101 Capstone Project in DSE I\\Mutual-Funds-Forecasting\\venv\\Lib\\site-packages\\sklearn\\neural_network\\_multilayer_perceptron.py:691: ConvergenceWarning: Stochastic Optimizer: Maximum iterations (200) reached and the optimization hasn't converged yet.\n",
      "  warnings.warn(\n"
     ]
    },
    {
     "name": "stdout",
     "output_type": "stream",
     "text": [
      "FFNN 4-Factor Fitted\n"
     ]
    },
    {
     "name": "stderr",
     "output_type": "stream",
     "text": [
      "c:\\Users\\Xuan Le\\OneDrive - National University of Singapore\\Documents\\University\\y4s2\\DSE4101 Capstone Project in DSE I\\Mutual-Funds-Forecasting\\venv\\Lib\\site-packages\\sklearn\\neural_network\\_multilayer_perceptron.py:691: ConvergenceWarning: Stochastic Optimizer: Maximum iterations (200) reached and the optimization hasn't converged yet.\n",
      "  warnings.warn(\n"
     ]
    },
    {
     "name": "stdout",
     "output_type": "stream",
     "text": [
      "FFNN 5-Factor Fitted\n",
      "RF 3-Factor Fitted\n",
      "RF 4-Factor Fitted\n",
      "RF 5-Factor Fitted\n",
      "60 dates remaining\n",
      "Naive Fitted\n",
      "Linear Regression 3-Factor Fitted\n",
      "Linear Regression 4-Factor Fitted\n",
      "Linear Regression 5-Factor Fitted\n"
     ]
    },
    {
     "name": "stderr",
     "output_type": "stream",
     "text": [
      "c:\\Users\\Xuan Le\\OneDrive - National University of Singapore\\Documents\\University\\y4s2\\DSE4101 Capstone Project in DSE I\\Mutual-Funds-Forecasting\\venv\\Lib\\site-packages\\sklearn\\neural_network\\_multilayer_perceptron.py:691: ConvergenceWarning: Stochastic Optimizer: Maximum iterations (200) reached and the optimization hasn't converged yet.\n",
      "  warnings.warn(\n"
     ]
    },
    {
     "name": "stdout",
     "output_type": "stream",
     "text": [
      "FFNN 3-Factor Fitted\n"
     ]
    },
    {
     "name": "stderr",
     "output_type": "stream",
     "text": [
      "c:\\Users\\Xuan Le\\OneDrive - National University of Singapore\\Documents\\University\\y4s2\\DSE4101 Capstone Project in DSE I\\Mutual-Funds-Forecasting\\venv\\Lib\\site-packages\\sklearn\\neural_network\\_multilayer_perceptron.py:691: ConvergenceWarning: Stochastic Optimizer: Maximum iterations (200) reached and the optimization hasn't converged yet.\n",
      "  warnings.warn(\n"
     ]
    },
    {
     "name": "stdout",
     "output_type": "stream",
     "text": [
      "FFNN 4-Factor Fitted\n"
     ]
    },
    {
     "name": "stderr",
     "output_type": "stream",
     "text": [
      "c:\\Users\\Xuan Le\\OneDrive - National University of Singapore\\Documents\\University\\y4s2\\DSE4101 Capstone Project in DSE I\\Mutual-Funds-Forecasting\\venv\\Lib\\site-packages\\sklearn\\neural_network\\_multilayer_perceptron.py:691: ConvergenceWarning: Stochastic Optimizer: Maximum iterations (200) reached and the optimization hasn't converged yet.\n",
      "  warnings.warn(\n"
     ]
    },
    {
     "name": "stdout",
     "output_type": "stream",
     "text": [
      "FFNN 5-Factor Fitted\n",
      "RF 3-Factor Fitted\n",
      "RF 4-Factor Fitted\n",
      "RF 5-Factor Fitted\n",
      "59 dates remaining\n",
      "Naive Fitted\n",
      "Linear Regression 3-Factor Fitted\n",
      "Linear Regression 4-Factor Fitted\n",
      "Linear Regression 5-Factor Fitted\n"
     ]
    },
    {
     "name": "stderr",
     "output_type": "stream",
     "text": [
      "c:\\Users\\Xuan Le\\OneDrive - National University of Singapore\\Documents\\University\\y4s2\\DSE4101 Capstone Project in DSE I\\Mutual-Funds-Forecasting\\venv\\Lib\\site-packages\\sklearn\\neural_network\\_multilayer_perceptron.py:691: ConvergenceWarning: Stochastic Optimizer: Maximum iterations (200) reached and the optimization hasn't converged yet.\n",
      "  warnings.warn(\n"
     ]
    },
    {
     "name": "stdout",
     "output_type": "stream",
     "text": [
      "FFNN 3-Factor Fitted\n"
     ]
    },
    {
     "name": "stderr",
     "output_type": "stream",
     "text": [
      "c:\\Users\\Xuan Le\\OneDrive - National University of Singapore\\Documents\\University\\y4s2\\DSE4101 Capstone Project in DSE I\\Mutual-Funds-Forecasting\\venv\\Lib\\site-packages\\sklearn\\neural_network\\_multilayer_perceptron.py:691: ConvergenceWarning: Stochastic Optimizer: Maximum iterations (200) reached and the optimization hasn't converged yet.\n",
      "  warnings.warn(\n"
     ]
    },
    {
     "name": "stdout",
     "output_type": "stream",
     "text": [
      "FFNN 4-Factor Fitted\n"
     ]
    },
    {
     "name": "stderr",
     "output_type": "stream",
     "text": [
      "c:\\Users\\Xuan Le\\OneDrive - National University of Singapore\\Documents\\University\\y4s2\\DSE4101 Capstone Project in DSE I\\Mutual-Funds-Forecasting\\venv\\Lib\\site-packages\\sklearn\\neural_network\\_multilayer_perceptron.py:691: ConvergenceWarning: Stochastic Optimizer: Maximum iterations (200) reached and the optimization hasn't converged yet.\n",
      "  warnings.warn(\n"
     ]
    },
    {
     "name": "stdout",
     "output_type": "stream",
     "text": [
      "FFNN 5-Factor Fitted\n",
      "RF 3-Factor Fitted\n",
      "RF 4-Factor Fitted\n",
      "RF 5-Factor Fitted\n",
      "58 dates remaining\n",
      "Naive Fitted\n",
      "Linear Regression 3-Factor Fitted\n",
      "Linear Regression 4-Factor Fitted\n",
      "Linear Regression 5-Factor Fitted\n"
     ]
    },
    {
     "name": "stderr",
     "output_type": "stream",
     "text": [
      "c:\\Users\\Xuan Le\\OneDrive - National University of Singapore\\Documents\\University\\y4s2\\DSE4101 Capstone Project in DSE I\\Mutual-Funds-Forecasting\\venv\\Lib\\site-packages\\sklearn\\neural_network\\_multilayer_perceptron.py:691: ConvergenceWarning: Stochastic Optimizer: Maximum iterations (200) reached and the optimization hasn't converged yet.\n",
      "  warnings.warn(\n"
     ]
    },
    {
     "name": "stdout",
     "output_type": "stream",
     "text": [
      "FFNN 3-Factor Fitted\n"
     ]
    },
    {
     "name": "stderr",
     "output_type": "stream",
     "text": [
      "c:\\Users\\Xuan Le\\OneDrive - National University of Singapore\\Documents\\University\\y4s2\\DSE4101 Capstone Project in DSE I\\Mutual-Funds-Forecasting\\venv\\Lib\\site-packages\\sklearn\\neural_network\\_multilayer_perceptron.py:691: ConvergenceWarning: Stochastic Optimizer: Maximum iterations (200) reached and the optimization hasn't converged yet.\n",
      "  warnings.warn(\n"
     ]
    },
    {
     "name": "stdout",
     "output_type": "stream",
     "text": [
      "FFNN 4-Factor Fitted\n"
     ]
    },
    {
     "name": "stderr",
     "output_type": "stream",
     "text": [
      "c:\\Users\\Xuan Le\\OneDrive - National University of Singapore\\Documents\\University\\y4s2\\DSE4101 Capstone Project in DSE I\\Mutual-Funds-Forecasting\\venv\\Lib\\site-packages\\sklearn\\neural_network\\_multilayer_perceptron.py:691: ConvergenceWarning: Stochastic Optimizer: Maximum iterations (200) reached and the optimization hasn't converged yet.\n",
      "  warnings.warn(\n"
     ]
    },
    {
     "name": "stdout",
     "output_type": "stream",
     "text": [
      "FFNN 5-Factor Fitted\n",
      "RF 3-Factor Fitted\n",
      "RF 4-Factor Fitted\n",
      "RF 5-Factor Fitted\n",
      "57 dates remaining\n",
      "Naive Fitted\n",
      "Linear Regression 3-Factor Fitted\n",
      "Linear Regression 4-Factor Fitted\n",
      "Linear Regression 5-Factor Fitted\n"
     ]
    },
    {
     "name": "stderr",
     "output_type": "stream",
     "text": [
      "c:\\Users\\Xuan Le\\OneDrive - National University of Singapore\\Documents\\University\\y4s2\\DSE4101 Capstone Project in DSE I\\Mutual-Funds-Forecasting\\venv\\Lib\\site-packages\\sklearn\\neural_network\\_multilayer_perceptron.py:691: ConvergenceWarning: Stochastic Optimizer: Maximum iterations (200) reached and the optimization hasn't converged yet.\n",
      "  warnings.warn(\n"
     ]
    },
    {
     "name": "stdout",
     "output_type": "stream",
     "text": [
      "FFNN 3-Factor Fitted\n"
     ]
    },
    {
     "name": "stderr",
     "output_type": "stream",
     "text": [
      "c:\\Users\\Xuan Le\\OneDrive - National University of Singapore\\Documents\\University\\y4s2\\DSE4101 Capstone Project in DSE I\\Mutual-Funds-Forecasting\\venv\\Lib\\site-packages\\sklearn\\neural_network\\_multilayer_perceptron.py:691: ConvergenceWarning: Stochastic Optimizer: Maximum iterations (200) reached and the optimization hasn't converged yet.\n",
      "  warnings.warn(\n"
     ]
    },
    {
     "name": "stdout",
     "output_type": "stream",
     "text": [
      "FFNN 4-Factor Fitted\n"
     ]
    },
    {
     "name": "stderr",
     "output_type": "stream",
     "text": [
      "c:\\Users\\Xuan Le\\OneDrive - National University of Singapore\\Documents\\University\\y4s2\\DSE4101 Capstone Project in DSE I\\Mutual-Funds-Forecasting\\venv\\Lib\\site-packages\\sklearn\\neural_network\\_multilayer_perceptron.py:691: ConvergenceWarning: Stochastic Optimizer: Maximum iterations (200) reached and the optimization hasn't converged yet.\n",
      "  warnings.warn(\n"
     ]
    },
    {
     "name": "stdout",
     "output_type": "stream",
     "text": [
      "FFNN 5-Factor Fitted\n",
      "RF 3-Factor Fitted\n",
      "RF 4-Factor Fitted\n",
      "RF 5-Factor Fitted\n",
      "56 dates remaining\n",
      "Naive Fitted\n",
      "Linear Regression 3-Factor Fitted\n",
      "Linear Regression 4-Factor Fitted\n",
      "Linear Regression 5-Factor Fitted\n"
     ]
    },
    {
     "name": "stderr",
     "output_type": "stream",
     "text": [
      "c:\\Users\\Xuan Le\\OneDrive - National University of Singapore\\Documents\\University\\y4s2\\DSE4101 Capstone Project in DSE I\\Mutual-Funds-Forecasting\\venv\\Lib\\site-packages\\sklearn\\neural_network\\_multilayer_perceptron.py:691: ConvergenceWarning: Stochastic Optimizer: Maximum iterations (200) reached and the optimization hasn't converged yet.\n",
      "  warnings.warn(\n"
     ]
    },
    {
     "name": "stdout",
     "output_type": "stream",
     "text": [
      "FFNN 3-Factor Fitted\n"
     ]
    },
    {
     "name": "stderr",
     "output_type": "stream",
     "text": [
      "c:\\Users\\Xuan Le\\OneDrive - National University of Singapore\\Documents\\University\\y4s2\\DSE4101 Capstone Project in DSE I\\Mutual-Funds-Forecasting\\venv\\Lib\\site-packages\\sklearn\\neural_network\\_multilayer_perceptron.py:691: ConvergenceWarning: Stochastic Optimizer: Maximum iterations (200) reached and the optimization hasn't converged yet.\n",
      "  warnings.warn(\n"
     ]
    },
    {
     "name": "stdout",
     "output_type": "stream",
     "text": [
      "FFNN 4-Factor Fitted\n"
     ]
    },
    {
     "name": "stderr",
     "output_type": "stream",
     "text": [
      "c:\\Users\\Xuan Le\\OneDrive - National University of Singapore\\Documents\\University\\y4s2\\DSE4101 Capstone Project in DSE I\\Mutual-Funds-Forecasting\\venv\\Lib\\site-packages\\sklearn\\neural_network\\_multilayer_perceptron.py:691: ConvergenceWarning: Stochastic Optimizer: Maximum iterations (200) reached and the optimization hasn't converged yet.\n",
      "  warnings.warn(\n"
     ]
    },
    {
     "name": "stdout",
     "output_type": "stream",
     "text": [
      "FFNN 5-Factor Fitted\n",
      "RF 3-Factor Fitted\n",
      "RF 4-Factor Fitted\n",
      "RF 5-Factor Fitted\n",
      "55 dates remaining\n",
      "Naive Fitted\n",
      "Linear Regression 3-Factor Fitted\n",
      "Linear Regression 4-Factor Fitted\n",
      "Linear Regression 5-Factor Fitted\n"
     ]
    },
    {
     "name": "stderr",
     "output_type": "stream",
     "text": [
      "c:\\Users\\Xuan Le\\OneDrive - National University of Singapore\\Documents\\University\\y4s2\\DSE4101 Capstone Project in DSE I\\Mutual-Funds-Forecasting\\venv\\Lib\\site-packages\\sklearn\\neural_network\\_multilayer_perceptron.py:691: ConvergenceWarning: Stochastic Optimizer: Maximum iterations (200) reached and the optimization hasn't converged yet.\n",
      "  warnings.warn(\n"
     ]
    },
    {
     "name": "stdout",
     "output_type": "stream",
     "text": [
      "FFNN 3-Factor Fitted\n"
     ]
    },
    {
     "name": "stderr",
     "output_type": "stream",
     "text": [
      "c:\\Users\\Xuan Le\\OneDrive - National University of Singapore\\Documents\\University\\y4s2\\DSE4101 Capstone Project in DSE I\\Mutual-Funds-Forecasting\\venv\\Lib\\site-packages\\sklearn\\neural_network\\_multilayer_perceptron.py:691: ConvergenceWarning: Stochastic Optimizer: Maximum iterations (200) reached and the optimization hasn't converged yet.\n",
      "  warnings.warn(\n"
     ]
    },
    {
     "name": "stdout",
     "output_type": "stream",
     "text": [
      "FFNN 4-Factor Fitted\n"
     ]
    },
    {
     "name": "stderr",
     "output_type": "stream",
     "text": [
      "c:\\Users\\Xuan Le\\OneDrive - National University of Singapore\\Documents\\University\\y4s2\\DSE4101 Capstone Project in DSE I\\Mutual-Funds-Forecasting\\venv\\Lib\\site-packages\\sklearn\\neural_network\\_multilayer_perceptron.py:691: ConvergenceWarning: Stochastic Optimizer: Maximum iterations (200) reached and the optimization hasn't converged yet.\n",
      "  warnings.warn(\n"
     ]
    },
    {
     "name": "stdout",
     "output_type": "stream",
     "text": [
      "FFNN 5-Factor Fitted\n",
      "RF 3-Factor Fitted\n",
      "RF 4-Factor Fitted\n",
      "RF 5-Factor Fitted\n",
      "54 dates remaining\n",
      "Naive Fitted\n",
      "Linear Regression 3-Factor Fitted\n",
      "Linear Regression 4-Factor Fitted\n",
      "Linear Regression 5-Factor Fitted\n"
     ]
    },
    {
     "name": "stderr",
     "output_type": "stream",
     "text": [
      "c:\\Users\\Xuan Le\\OneDrive - National University of Singapore\\Documents\\University\\y4s2\\DSE4101 Capstone Project in DSE I\\Mutual-Funds-Forecasting\\venv\\Lib\\site-packages\\sklearn\\neural_network\\_multilayer_perceptron.py:691: ConvergenceWarning: Stochastic Optimizer: Maximum iterations (200) reached and the optimization hasn't converged yet.\n",
      "  warnings.warn(\n"
     ]
    },
    {
     "name": "stdout",
     "output_type": "stream",
     "text": [
      "FFNN 3-Factor Fitted\n"
     ]
    },
    {
     "name": "stderr",
     "output_type": "stream",
     "text": [
      "c:\\Users\\Xuan Le\\OneDrive - National University of Singapore\\Documents\\University\\y4s2\\DSE4101 Capstone Project in DSE I\\Mutual-Funds-Forecasting\\venv\\Lib\\site-packages\\sklearn\\neural_network\\_multilayer_perceptron.py:691: ConvergenceWarning: Stochastic Optimizer: Maximum iterations (200) reached and the optimization hasn't converged yet.\n",
      "  warnings.warn(\n"
     ]
    },
    {
     "name": "stdout",
     "output_type": "stream",
     "text": [
      "FFNN 4-Factor Fitted\n"
     ]
    },
    {
     "name": "stderr",
     "output_type": "stream",
     "text": [
      "c:\\Users\\Xuan Le\\OneDrive - National University of Singapore\\Documents\\University\\y4s2\\DSE4101 Capstone Project in DSE I\\Mutual-Funds-Forecasting\\venv\\Lib\\site-packages\\sklearn\\neural_network\\_multilayer_perceptron.py:691: ConvergenceWarning: Stochastic Optimizer: Maximum iterations (200) reached and the optimization hasn't converged yet.\n",
      "  warnings.warn(\n"
     ]
    },
    {
     "name": "stdout",
     "output_type": "stream",
     "text": [
      "FFNN 5-Factor Fitted\n",
      "RF 3-Factor Fitted\n",
      "RF 4-Factor Fitted\n",
      "RF 5-Factor Fitted\n",
      "53 dates remaining\n",
      "Naive Fitted\n",
      "Linear Regression 3-Factor Fitted\n",
      "Linear Regression 4-Factor Fitted\n",
      "Linear Regression 5-Factor Fitted\n"
     ]
    },
    {
     "name": "stderr",
     "output_type": "stream",
     "text": [
      "c:\\Users\\Xuan Le\\OneDrive - National University of Singapore\\Documents\\University\\y4s2\\DSE4101 Capstone Project in DSE I\\Mutual-Funds-Forecasting\\venv\\Lib\\site-packages\\sklearn\\neural_network\\_multilayer_perceptron.py:691: ConvergenceWarning: Stochastic Optimizer: Maximum iterations (200) reached and the optimization hasn't converged yet.\n",
      "  warnings.warn(\n"
     ]
    },
    {
     "name": "stdout",
     "output_type": "stream",
     "text": [
      "FFNN 3-Factor Fitted\n"
     ]
    },
    {
     "name": "stderr",
     "output_type": "stream",
     "text": [
      "c:\\Users\\Xuan Le\\OneDrive - National University of Singapore\\Documents\\University\\y4s2\\DSE4101 Capstone Project in DSE I\\Mutual-Funds-Forecasting\\venv\\Lib\\site-packages\\sklearn\\neural_network\\_multilayer_perceptron.py:691: ConvergenceWarning: Stochastic Optimizer: Maximum iterations (200) reached and the optimization hasn't converged yet.\n",
      "  warnings.warn(\n"
     ]
    },
    {
     "name": "stdout",
     "output_type": "stream",
     "text": [
      "FFNN 4-Factor Fitted\n"
     ]
    },
    {
     "name": "stderr",
     "output_type": "stream",
     "text": [
      "c:\\Users\\Xuan Le\\OneDrive - National University of Singapore\\Documents\\University\\y4s2\\DSE4101 Capstone Project in DSE I\\Mutual-Funds-Forecasting\\venv\\Lib\\site-packages\\sklearn\\neural_network\\_multilayer_perceptron.py:691: ConvergenceWarning: Stochastic Optimizer: Maximum iterations (200) reached and the optimization hasn't converged yet.\n",
      "  warnings.warn(\n"
     ]
    },
    {
     "name": "stdout",
     "output_type": "stream",
     "text": [
      "FFNN 5-Factor Fitted\n",
      "RF 3-Factor Fitted\n",
      "RF 4-Factor Fitted\n",
      "RF 5-Factor Fitted\n",
      "52 dates remaining\n",
      "Naive Fitted\n",
      "Linear Regression 3-Factor Fitted\n",
      "Linear Regression 4-Factor Fitted\n",
      "Linear Regression 5-Factor Fitted\n"
     ]
    },
    {
     "name": "stderr",
     "output_type": "stream",
     "text": [
      "c:\\Users\\Xuan Le\\OneDrive - National University of Singapore\\Documents\\University\\y4s2\\DSE4101 Capstone Project in DSE I\\Mutual-Funds-Forecasting\\venv\\Lib\\site-packages\\sklearn\\neural_network\\_multilayer_perceptron.py:691: ConvergenceWarning: Stochastic Optimizer: Maximum iterations (200) reached and the optimization hasn't converged yet.\n",
      "  warnings.warn(\n"
     ]
    },
    {
     "name": "stdout",
     "output_type": "stream",
     "text": [
      "FFNN 3-Factor Fitted\n"
     ]
    },
    {
     "name": "stderr",
     "output_type": "stream",
     "text": [
      "c:\\Users\\Xuan Le\\OneDrive - National University of Singapore\\Documents\\University\\y4s2\\DSE4101 Capstone Project in DSE I\\Mutual-Funds-Forecasting\\venv\\Lib\\site-packages\\sklearn\\neural_network\\_multilayer_perceptron.py:691: ConvergenceWarning: Stochastic Optimizer: Maximum iterations (200) reached and the optimization hasn't converged yet.\n",
      "  warnings.warn(\n"
     ]
    },
    {
     "name": "stdout",
     "output_type": "stream",
     "text": [
      "FFNN 4-Factor Fitted\n"
     ]
    },
    {
     "name": "stderr",
     "output_type": "stream",
     "text": [
      "c:\\Users\\Xuan Le\\OneDrive - National University of Singapore\\Documents\\University\\y4s2\\DSE4101 Capstone Project in DSE I\\Mutual-Funds-Forecasting\\venv\\Lib\\site-packages\\sklearn\\neural_network\\_multilayer_perceptron.py:691: ConvergenceWarning: Stochastic Optimizer: Maximum iterations (200) reached and the optimization hasn't converged yet.\n",
      "  warnings.warn(\n"
     ]
    },
    {
     "name": "stdout",
     "output_type": "stream",
     "text": [
      "FFNN 5-Factor Fitted\n",
      "RF 3-Factor Fitted\n",
      "RF 4-Factor Fitted\n",
      "RF 5-Factor Fitted\n",
      "51 dates remaining\n",
      "Naive Fitted\n",
      "Linear Regression 3-Factor Fitted\n",
      "Linear Regression 4-Factor Fitted\n",
      "Linear Regression 5-Factor Fitted\n"
     ]
    },
    {
     "name": "stderr",
     "output_type": "stream",
     "text": [
      "c:\\Users\\Xuan Le\\OneDrive - National University of Singapore\\Documents\\University\\y4s2\\DSE4101 Capstone Project in DSE I\\Mutual-Funds-Forecasting\\venv\\Lib\\site-packages\\sklearn\\neural_network\\_multilayer_perceptron.py:691: ConvergenceWarning: Stochastic Optimizer: Maximum iterations (200) reached and the optimization hasn't converged yet.\n",
      "  warnings.warn(\n"
     ]
    },
    {
     "name": "stdout",
     "output_type": "stream",
     "text": [
      "FFNN 3-Factor Fitted\n"
     ]
    },
    {
     "name": "stderr",
     "output_type": "stream",
     "text": [
      "c:\\Users\\Xuan Le\\OneDrive - National University of Singapore\\Documents\\University\\y4s2\\DSE4101 Capstone Project in DSE I\\Mutual-Funds-Forecasting\\venv\\Lib\\site-packages\\sklearn\\neural_network\\_multilayer_perceptron.py:691: ConvergenceWarning: Stochastic Optimizer: Maximum iterations (200) reached and the optimization hasn't converged yet.\n",
      "  warnings.warn(\n"
     ]
    },
    {
     "name": "stdout",
     "output_type": "stream",
     "text": [
      "FFNN 4-Factor Fitted\n"
     ]
    },
    {
     "name": "stderr",
     "output_type": "stream",
     "text": [
      "c:\\Users\\Xuan Le\\OneDrive - National University of Singapore\\Documents\\University\\y4s2\\DSE4101 Capstone Project in DSE I\\Mutual-Funds-Forecasting\\venv\\Lib\\site-packages\\sklearn\\neural_network\\_multilayer_perceptron.py:691: ConvergenceWarning: Stochastic Optimizer: Maximum iterations (200) reached and the optimization hasn't converged yet.\n",
      "  warnings.warn(\n"
     ]
    },
    {
     "name": "stdout",
     "output_type": "stream",
     "text": [
      "FFNN 5-Factor Fitted\n",
      "RF 3-Factor Fitted\n",
      "RF 4-Factor Fitted\n",
      "RF 5-Factor Fitted\n",
      "50 dates remaining\n",
      "Naive Fitted\n",
      "Linear Regression 3-Factor Fitted\n",
      "Linear Regression 4-Factor Fitted\n",
      "Linear Regression 5-Factor Fitted\n"
     ]
    },
    {
     "name": "stderr",
     "output_type": "stream",
     "text": [
      "c:\\Users\\Xuan Le\\OneDrive - National University of Singapore\\Documents\\University\\y4s2\\DSE4101 Capstone Project in DSE I\\Mutual-Funds-Forecasting\\venv\\Lib\\site-packages\\sklearn\\neural_network\\_multilayer_perceptron.py:691: ConvergenceWarning: Stochastic Optimizer: Maximum iterations (200) reached and the optimization hasn't converged yet.\n",
      "  warnings.warn(\n"
     ]
    },
    {
     "name": "stdout",
     "output_type": "stream",
     "text": [
      "FFNN 3-Factor Fitted\n"
     ]
    },
    {
     "name": "stderr",
     "output_type": "stream",
     "text": [
      "c:\\Users\\Xuan Le\\OneDrive - National University of Singapore\\Documents\\University\\y4s2\\DSE4101 Capstone Project in DSE I\\Mutual-Funds-Forecasting\\venv\\Lib\\site-packages\\sklearn\\neural_network\\_multilayer_perceptron.py:691: ConvergenceWarning: Stochastic Optimizer: Maximum iterations (200) reached and the optimization hasn't converged yet.\n",
      "  warnings.warn(\n"
     ]
    },
    {
     "name": "stdout",
     "output_type": "stream",
     "text": [
      "FFNN 4-Factor Fitted\n"
     ]
    },
    {
     "name": "stderr",
     "output_type": "stream",
     "text": [
      "c:\\Users\\Xuan Le\\OneDrive - National University of Singapore\\Documents\\University\\y4s2\\DSE4101 Capstone Project in DSE I\\Mutual-Funds-Forecasting\\venv\\Lib\\site-packages\\sklearn\\neural_network\\_multilayer_perceptron.py:691: ConvergenceWarning: Stochastic Optimizer: Maximum iterations (200) reached and the optimization hasn't converged yet.\n",
      "  warnings.warn(\n"
     ]
    },
    {
     "name": "stdout",
     "output_type": "stream",
     "text": [
      "FFNN 5-Factor Fitted\n",
      "RF 3-Factor Fitted\n",
      "RF 4-Factor Fitted\n",
      "RF 5-Factor Fitted\n",
      "49 dates remaining\n",
      "Naive Fitted\n",
      "Linear Regression 3-Factor Fitted\n",
      "Linear Regression 4-Factor Fitted\n",
      "Linear Regression 5-Factor Fitted\n"
     ]
    },
    {
     "name": "stderr",
     "output_type": "stream",
     "text": [
      "c:\\Users\\Xuan Le\\OneDrive - National University of Singapore\\Documents\\University\\y4s2\\DSE4101 Capstone Project in DSE I\\Mutual-Funds-Forecasting\\venv\\Lib\\site-packages\\sklearn\\neural_network\\_multilayer_perceptron.py:691: ConvergenceWarning: Stochastic Optimizer: Maximum iterations (200) reached and the optimization hasn't converged yet.\n",
      "  warnings.warn(\n"
     ]
    },
    {
     "name": "stdout",
     "output_type": "stream",
     "text": [
      "FFNN 3-Factor Fitted\n"
     ]
    },
    {
     "name": "stderr",
     "output_type": "stream",
     "text": [
      "c:\\Users\\Xuan Le\\OneDrive - National University of Singapore\\Documents\\University\\y4s2\\DSE4101 Capstone Project in DSE I\\Mutual-Funds-Forecasting\\venv\\Lib\\site-packages\\sklearn\\neural_network\\_multilayer_perceptron.py:691: ConvergenceWarning: Stochastic Optimizer: Maximum iterations (200) reached and the optimization hasn't converged yet.\n",
      "  warnings.warn(\n"
     ]
    },
    {
     "name": "stdout",
     "output_type": "stream",
     "text": [
      "FFNN 4-Factor Fitted\n"
     ]
    },
    {
     "name": "stderr",
     "output_type": "stream",
     "text": [
      "c:\\Users\\Xuan Le\\OneDrive - National University of Singapore\\Documents\\University\\y4s2\\DSE4101 Capstone Project in DSE I\\Mutual-Funds-Forecasting\\venv\\Lib\\site-packages\\sklearn\\neural_network\\_multilayer_perceptron.py:691: ConvergenceWarning: Stochastic Optimizer: Maximum iterations (200) reached and the optimization hasn't converged yet.\n",
      "  warnings.warn(\n"
     ]
    },
    {
     "name": "stdout",
     "output_type": "stream",
     "text": [
      "FFNN 5-Factor Fitted\n",
      "RF 3-Factor Fitted\n",
      "RF 4-Factor Fitted\n",
      "RF 5-Factor Fitted\n",
      "48 dates remaining\n",
      "Naive Fitted\n",
      "Linear Regression 3-Factor Fitted\n",
      "Linear Regression 4-Factor Fitted\n",
      "Linear Regression 5-Factor Fitted\n"
     ]
    },
    {
     "name": "stderr",
     "output_type": "stream",
     "text": [
      "c:\\Users\\Xuan Le\\OneDrive - National University of Singapore\\Documents\\University\\y4s2\\DSE4101 Capstone Project in DSE I\\Mutual-Funds-Forecasting\\venv\\Lib\\site-packages\\sklearn\\neural_network\\_multilayer_perceptron.py:691: ConvergenceWarning: Stochastic Optimizer: Maximum iterations (200) reached and the optimization hasn't converged yet.\n",
      "  warnings.warn(\n"
     ]
    },
    {
     "name": "stdout",
     "output_type": "stream",
     "text": [
      "FFNN 3-Factor Fitted\n"
     ]
    },
    {
     "name": "stderr",
     "output_type": "stream",
     "text": [
      "c:\\Users\\Xuan Le\\OneDrive - National University of Singapore\\Documents\\University\\y4s2\\DSE4101 Capstone Project in DSE I\\Mutual-Funds-Forecasting\\venv\\Lib\\site-packages\\sklearn\\neural_network\\_multilayer_perceptron.py:691: ConvergenceWarning: Stochastic Optimizer: Maximum iterations (200) reached and the optimization hasn't converged yet.\n",
      "  warnings.warn(\n"
     ]
    },
    {
     "name": "stdout",
     "output_type": "stream",
     "text": [
      "FFNN 4-Factor Fitted\n"
     ]
    },
    {
     "name": "stderr",
     "output_type": "stream",
     "text": [
      "c:\\Users\\Xuan Le\\OneDrive - National University of Singapore\\Documents\\University\\y4s2\\DSE4101 Capstone Project in DSE I\\Mutual-Funds-Forecasting\\venv\\Lib\\site-packages\\sklearn\\neural_network\\_multilayer_perceptron.py:691: ConvergenceWarning: Stochastic Optimizer: Maximum iterations (200) reached and the optimization hasn't converged yet.\n",
      "  warnings.warn(\n"
     ]
    },
    {
     "name": "stdout",
     "output_type": "stream",
     "text": [
      "FFNN 5-Factor Fitted\n",
      "RF 3-Factor Fitted\n",
      "RF 4-Factor Fitted\n",
      "RF 5-Factor Fitted\n",
      "47 dates remaining\n",
      "Naive Fitted\n",
      "Linear Regression 3-Factor Fitted\n",
      "Linear Regression 4-Factor Fitted\n",
      "Linear Regression 5-Factor Fitted\n"
     ]
    },
    {
     "name": "stderr",
     "output_type": "stream",
     "text": [
      "c:\\Users\\Xuan Le\\OneDrive - National University of Singapore\\Documents\\University\\y4s2\\DSE4101 Capstone Project in DSE I\\Mutual-Funds-Forecasting\\venv\\Lib\\site-packages\\sklearn\\neural_network\\_multilayer_perceptron.py:691: ConvergenceWarning: Stochastic Optimizer: Maximum iterations (200) reached and the optimization hasn't converged yet.\n",
      "  warnings.warn(\n"
     ]
    },
    {
     "name": "stdout",
     "output_type": "stream",
     "text": [
      "FFNN 3-Factor Fitted\n"
     ]
    },
    {
     "name": "stderr",
     "output_type": "stream",
     "text": [
      "c:\\Users\\Xuan Le\\OneDrive - National University of Singapore\\Documents\\University\\y4s2\\DSE4101 Capstone Project in DSE I\\Mutual-Funds-Forecasting\\venv\\Lib\\site-packages\\sklearn\\neural_network\\_multilayer_perceptron.py:691: ConvergenceWarning: Stochastic Optimizer: Maximum iterations (200) reached and the optimization hasn't converged yet.\n",
      "  warnings.warn(\n"
     ]
    },
    {
     "name": "stdout",
     "output_type": "stream",
     "text": [
      "FFNN 4-Factor Fitted\n"
     ]
    },
    {
     "name": "stderr",
     "output_type": "stream",
     "text": [
      "c:\\Users\\Xuan Le\\OneDrive - National University of Singapore\\Documents\\University\\y4s2\\DSE4101 Capstone Project in DSE I\\Mutual-Funds-Forecasting\\venv\\Lib\\site-packages\\sklearn\\neural_network\\_multilayer_perceptron.py:691: ConvergenceWarning: Stochastic Optimizer: Maximum iterations (200) reached and the optimization hasn't converged yet.\n",
      "  warnings.warn(\n"
     ]
    },
    {
     "name": "stdout",
     "output_type": "stream",
     "text": [
      "FFNN 5-Factor Fitted\n",
      "RF 3-Factor Fitted\n",
      "RF 4-Factor Fitted\n",
      "RF 5-Factor Fitted\n",
      "46 dates remaining\n",
      "Naive Fitted\n",
      "Linear Regression 3-Factor Fitted\n",
      "Linear Regression 4-Factor Fitted\n",
      "Linear Regression 5-Factor Fitted\n"
     ]
    },
    {
     "name": "stderr",
     "output_type": "stream",
     "text": [
      "c:\\Users\\Xuan Le\\OneDrive - National University of Singapore\\Documents\\University\\y4s2\\DSE4101 Capstone Project in DSE I\\Mutual-Funds-Forecasting\\venv\\Lib\\site-packages\\sklearn\\neural_network\\_multilayer_perceptron.py:691: ConvergenceWarning: Stochastic Optimizer: Maximum iterations (200) reached and the optimization hasn't converged yet.\n",
      "  warnings.warn(\n"
     ]
    },
    {
     "name": "stdout",
     "output_type": "stream",
     "text": [
      "FFNN 3-Factor Fitted\n"
     ]
    },
    {
     "name": "stderr",
     "output_type": "stream",
     "text": [
      "c:\\Users\\Xuan Le\\OneDrive - National University of Singapore\\Documents\\University\\y4s2\\DSE4101 Capstone Project in DSE I\\Mutual-Funds-Forecasting\\venv\\Lib\\site-packages\\sklearn\\neural_network\\_multilayer_perceptron.py:691: ConvergenceWarning: Stochastic Optimizer: Maximum iterations (200) reached and the optimization hasn't converged yet.\n",
      "  warnings.warn(\n"
     ]
    },
    {
     "name": "stdout",
     "output_type": "stream",
     "text": [
      "FFNN 4-Factor Fitted\n"
     ]
    },
    {
     "name": "stderr",
     "output_type": "stream",
     "text": [
      "c:\\Users\\Xuan Le\\OneDrive - National University of Singapore\\Documents\\University\\y4s2\\DSE4101 Capstone Project in DSE I\\Mutual-Funds-Forecasting\\venv\\Lib\\site-packages\\sklearn\\neural_network\\_multilayer_perceptron.py:691: ConvergenceWarning: Stochastic Optimizer: Maximum iterations (200) reached and the optimization hasn't converged yet.\n",
      "  warnings.warn(\n"
     ]
    },
    {
     "name": "stdout",
     "output_type": "stream",
     "text": [
      "FFNN 5-Factor Fitted\n",
      "RF 3-Factor Fitted\n",
      "RF 4-Factor Fitted\n",
      "RF 5-Factor Fitted\n",
      "45 dates remaining\n",
      "Naive Fitted\n",
      "Linear Regression 3-Factor Fitted\n",
      "Linear Regression 4-Factor Fitted\n",
      "Linear Regression 5-Factor Fitted\n"
     ]
    },
    {
     "name": "stderr",
     "output_type": "stream",
     "text": [
      "c:\\Users\\Xuan Le\\OneDrive - National University of Singapore\\Documents\\University\\y4s2\\DSE4101 Capstone Project in DSE I\\Mutual-Funds-Forecasting\\venv\\Lib\\site-packages\\sklearn\\neural_network\\_multilayer_perceptron.py:691: ConvergenceWarning: Stochastic Optimizer: Maximum iterations (200) reached and the optimization hasn't converged yet.\n",
      "  warnings.warn(\n"
     ]
    },
    {
     "name": "stdout",
     "output_type": "stream",
     "text": [
      "FFNN 3-Factor Fitted\n"
     ]
    },
    {
     "name": "stderr",
     "output_type": "stream",
     "text": [
      "c:\\Users\\Xuan Le\\OneDrive - National University of Singapore\\Documents\\University\\y4s2\\DSE4101 Capstone Project in DSE I\\Mutual-Funds-Forecasting\\venv\\Lib\\site-packages\\sklearn\\neural_network\\_multilayer_perceptron.py:691: ConvergenceWarning: Stochastic Optimizer: Maximum iterations (200) reached and the optimization hasn't converged yet.\n",
      "  warnings.warn(\n"
     ]
    },
    {
     "name": "stdout",
     "output_type": "stream",
     "text": [
      "FFNN 4-Factor Fitted\n"
     ]
    },
    {
     "name": "stderr",
     "output_type": "stream",
     "text": [
      "c:\\Users\\Xuan Le\\OneDrive - National University of Singapore\\Documents\\University\\y4s2\\DSE4101 Capstone Project in DSE I\\Mutual-Funds-Forecasting\\venv\\Lib\\site-packages\\sklearn\\neural_network\\_multilayer_perceptron.py:691: ConvergenceWarning: Stochastic Optimizer: Maximum iterations (200) reached and the optimization hasn't converged yet.\n",
      "  warnings.warn(\n"
     ]
    },
    {
     "name": "stdout",
     "output_type": "stream",
     "text": [
      "FFNN 5-Factor Fitted\n",
      "RF 3-Factor Fitted\n",
      "RF 4-Factor Fitted\n",
      "RF 5-Factor Fitted\n",
      "44 dates remaining\n",
      "Naive Fitted\n",
      "Linear Regression 3-Factor Fitted\n",
      "Linear Regression 4-Factor Fitted\n",
      "Linear Regression 5-Factor Fitted\n"
     ]
    },
    {
     "name": "stderr",
     "output_type": "stream",
     "text": [
      "c:\\Users\\Xuan Le\\OneDrive - National University of Singapore\\Documents\\University\\y4s2\\DSE4101 Capstone Project in DSE I\\Mutual-Funds-Forecasting\\venv\\Lib\\site-packages\\sklearn\\neural_network\\_multilayer_perceptron.py:691: ConvergenceWarning: Stochastic Optimizer: Maximum iterations (200) reached and the optimization hasn't converged yet.\n",
      "  warnings.warn(\n"
     ]
    },
    {
     "name": "stdout",
     "output_type": "stream",
     "text": [
      "FFNN 3-Factor Fitted\n"
     ]
    },
    {
     "name": "stderr",
     "output_type": "stream",
     "text": [
      "c:\\Users\\Xuan Le\\OneDrive - National University of Singapore\\Documents\\University\\y4s2\\DSE4101 Capstone Project in DSE I\\Mutual-Funds-Forecasting\\venv\\Lib\\site-packages\\sklearn\\neural_network\\_multilayer_perceptron.py:691: ConvergenceWarning: Stochastic Optimizer: Maximum iterations (200) reached and the optimization hasn't converged yet.\n",
      "  warnings.warn(\n"
     ]
    },
    {
     "name": "stdout",
     "output_type": "stream",
     "text": [
      "FFNN 4-Factor Fitted\n"
     ]
    },
    {
     "name": "stderr",
     "output_type": "stream",
     "text": [
      "c:\\Users\\Xuan Le\\OneDrive - National University of Singapore\\Documents\\University\\y4s2\\DSE4101 Capstone Project in DSE I\\Mutual-Funds-Forecasting\\venv\\Lib\\site-packages\\sklearn\\neural_network\\_multilayer_perceptron.py:691: ConvergenceWarning: Stochastic Optimizer: Maximum iterations (200) reached and the optimization hasn't converged yet.\n",
      "  warnings.warn(\n"
     ]
    },
    {
     "name": "stdout",
     "output_type": "stream",
     "text": [
      "FFNN 5-Factor Fitted\n",
      "RF 3-Factor Fitted\n",
      "RF 4-Factor Fitted\n",
      "RF 5-Factor Fitted\n",
      "43 dates remaining\n",
      "Naive Fitted\n",
      "Linear Regression 3-Factor Fitted\n",
      "Linear Regression 4-Factor Fitted\n",
      "Linear Regression 5-Factor Fitted\n"
     ]
    },
    {
     "name": "stderr",
     "output_type": "stream",
     "text": [
      "c:\\Users\\Xuan Le\\OneDrive - National University of Singapore\\Documents\\University\\y4s2\\DSE4101 Capstone Project in DSE I\\Mutual-Funds-Forecasting\\venv\\Lib\\site-packages\\sklearn\\neural_network\\_multilayer_perceptron.py:691: ConvergenceWarning: Stochastic Optimizer: Maximum iterations (200) reached and the optimization hasn't converged yet.\n",
      "  warnings.warn(\n"
     ]
    },
    {
     "name": "stdout",
     "output_type": "stream",
     "text": [
      "FFNN 3-Factor Fitted\n"
     ]
    },
    {
     "name": "stderr",
     "output_type": "stream",
     "text": [
      "c:\\Users\\Xuan Le\\OneDrive - National University of Singapore\\Documents\\University\\y4s2\\DSE4101 Capstone Project in DSE I\\Mutual-Funds-Forecasting\\venv\\Lib\\site-packages\\sklearn\\neural_network\\_multilayer_perceptron.py:691: ConvergenceWarning: Stochastic Optimizer: Maximum iterations (200) reached and the optimization hasn't converged yet.\n",
      "  warnings.warn(\n"
     ]
    },
    {
     "name": "stdout",
     "output_type": "stream",
     "text": [
      "FFNN 4-Factor Fitted\n"
     ]
    },
    {
     "name": "stderr",
     "output_type": "stream",
     "text": [
      "c:\\Users\\Xuan Le\\OneDrive - National University of Singapore\\Documents\\University\\y4s2\\DSE4101 Capstone Project in DSE I\\Mutual-Funds-Forecasting\\venv\\Lib\\site-packages\\sklearn\\neural_network\\_multilayer_perceptron.py:691: ConvergenceWarning: Stochastic Optimizer: Maximum iterations (200) reached and the optimization hasn't converged yet.\n",
      "  warnings.warn(\n"
     ]
    },
    {
     "name": "stdout",
     "output_type": "stream",
     "text": [
      "FFNN 5-Factor Fitted\n",
      "RF 3-Factor Fitted\n",
      "RF 4-Factor Fitted\n",
      "RF 5-Factor Fitted\n",
      "42 dates remaining\n",
      "Naive Fitted\n",
      "Linear Regression 3-Factor Fitted\n",
      "Linear Regression 4-Factor Fitted\n",
      "Linear Regression 5-Factor Fitted\n"
     ]
    },
    {
     "name": "stderr",
     "output_type": "stream",
     "text": [
      "c:\\Users\\Xuan Le\\OneDrive - National University of Singapore\\Documents\\University\\y4s2\\DSE4101 Capstone Project in DSE I\\Mutual-Funds-Forecasting\\venv\\Lib\\site-packages\\sklearn\\neural_network\\_multilayer_perceptron.py:691: ConvergenceWarning: Stochastic Optimizer: Maximum iterations (200) reached and the optimization hasn't converged yet.\n",
      "  warnings.warn(\n"
     ]
    },
    {
     "name": "stdout",
     "output_type": "stream",
     "text": [
      "FFNN 3-Factor Fitted\n"
     ]
    },
    {
     "name": "stderr",
     "output_type": "stream",
     "text": [
      "c:\\Users\\Xuan Le\\OneDrive - National University of Singapore\\Documents\\University\\y4s2\\DSE4101 Capstone Project in DSE I\\Mutual-Funds-Forecasting\\venv\\Lib\\site-packages\\sklearn\\neural_network\\_multilayer_perceptron.py:691: ConvergenceWarning: Stochastic Optimizer: Maximum iterations (200) reached and the optimization hasn't converged yet.\n",
      "  warnings.warn(\n"
     ]
    },
    {
     "name": "stdout",
     "output_type": "stream",
     "text": [
      "FFNN 4-Factor Fitted\n"
     ]
    },
    {
     "name": "stderr",
     "output_type": "stream",
     "text": [
      "c:\\Users\\Xuan Le\\OneDrive - National University of Singapore\\Documents\\University\\y4s2\\DSE4101 Capstone Project in DSE I\\Mutual-Funds-Forecasting\\venv\\Lib\\site-packages\\sklearn\\neural_network\\_multilayer_perceptron.py:691: ConvergenceWarning: Stochastic Optimizer: Maximum iterations (200) reached and the optimization hasn't converged yet.\n",
      "  warnings.warn(\n"
     ]
    },
    {
     "name": "stdout",
     "output_type": "stream",
     "text": [
      "FFNN 5-Factor Fitted\n",
      "RF 3-Factor Fitted\n",
      "RF 4-Factor Fitted\n",
      "RF 5-Factor Fitted\n",
      "41 dates remaining\n",
      "Naive Fitted\n",
      "Linear Regression 3-Factor Fitted\n",
      "Linear Regression 4-Factor Fitted\n",
      "Linear Regression 5-Factor Fitted\n"
     ]
    },
    {
     "name": "stderr",
     "output_type": "stream",
     "text": [
      "c:\\Users\\Xuan Le\\OneDrive - National University of Singapore\\Documents\\University\\y4s2\\DSE4101 Capstone Project in DSE I\\Mutual-Funds-Forecasting\\venv\\Lib\\site-packages\\sklearn\\neural_network\\_multilayer_perceptron.py:691: ConvergenceWarning: Stochastic Optimizer: Maximum iterations (200) reached and the optimization hasn't converged yet.\n",
      "  warnings.warn(\n"
     ]
    },
    {
     "name": "stdout",
     "output_type": "stream",
     "text": [
      "FFNN 3-Factor Fitted\n"
     ]
    },
    {
     "name": "stderr",
     "output_type": "stream",
     "text": [
      "c:\\Users\\Xuan Le\\OneDrive - National University of Singapore\\Documents\\University\\y4s2\\DSE4101 Capstone Project in DSE I\\Mutual-Funds-Forecasting\\venv\\Lib\\site-packages\\sklearn\\neural_network\\_multilayer_perceptron.py:691: ConvergenceWarning: Stochastic Optimizer: Maximum iterations (200) reached and the optimization hasn't converged yet.\n",
      "  warnings.warn(\n"
     ]
    },
    {
     "name": "stdout",
     "output_type": "stream",
     "text": [
      "FFNN 4-Factor Fitted\n"
     ]
    },
    {
     "name": "stderr",
     "output_type": "stream",
     "text": [
      "c:\\Users\\Xuan Le\\OneDrive - National University of Singapore\\Documents\\University\\y4s2\\DSE4101 Capstone Project in DSE I\\Mutual-Funds-Forecasting\\venv\\Lib\\site-packages\\sklearn\\neural_network\\_multilayer_perceptron.py:691: ConvergenceWarning: Stochastic Optimizer: Maximum iterations (200) reached and the optimization hasn't converged yet.\n",
      "  warnings.warn(\n"
     ]
    },
    {
     "name": "stdout",
     "output_type": "stream",
     "text": [
      "FFNN 5-Factor Fitted\n",
      "RF 3-Factor Fitted\n",
      "RF 4-Factor Fitted\n",
      "RF 5-Factor Fitted\n",
      "40 dates remaining\n",
      "Naive Fitted\n",
      "Linear Regression 3-Factor Fitted\n",
      "Linear Regression 4-Factor Fitted\n",
      "Linear Regression 5-Factor Fitted\n"
     ]
    },
    {
     "name": "stderr",
     "output_type": "stream",
     "text": [
      "c:\\Users\\Xuan Le\\OneDrive - National University of Singapore\\Documents\\University\\y4s2\\DSE4101 Capstone Project in DSE I\\Mutual-Funds-Forecasting\\venv\\Lib\\site-packages\\sklearn\\neural_network\\_multilayer_perceptron.py:691: ConvergenceWarning: Stochastic Optimizer: Maximum iterations (200) reached and the optimization hasn't converged yet.\n",
      "  warnings.warn(\n"
     ]
    },
    {
     "name": "stdout",
     "output_type": "stream",
     "text": [
      "FFNN 3-Factor Fitted\n"
     ]
    },
    {
     "name": "stderr",
     "output_type": "stream",
     "text": [
      "c:\\Users\\Xuan Le\\OneDrive - National University of Singapore\\Documents\\University\\y4s2\\DSE4101 Capstone Project in DSE I\\Mutual-Funds-Forecasting\\venv\\Lib\\site-packages\\sklearn\\neural_network\\_multilayer_perceptron.py:691: ConvergenceWarning: Stochastic Optimizer: Maximum iterations (200) reached and the optimization hasn't converged yet.\n",
      "  warnings.warn(\n"
     ]
    },
    {
     "name": "stdout",
     "output_type": "stream",
     "text": [
      "FFNN 4-Factor Fitted\n"
     ]
    },
    {
     "name": "stderr",
     "output_type": "stream",
     "text": [
      "c:\\Users\\Xuan Le\\OneDrive - National University of Singapore\\Documents\\University\\y4s2\\DSE4101 Capstone Project in DSE I\\Mutual-Funds-Forecasting\\venv\\Lib\\site-packages\\sklearn\\neural_network\\_multilayer_perceptron.py:691: ConvergenceWarning: Stochastic Optimizer: Maximum iterations (200) reached and the optimization hasn't converged yet.\n",
      "  warnings.warn(\n"
     ]
    },
    {
     "name": "stdout",
     "output_type": "stream",
     "text": [
      "FFNN 5-Factor Fitted\n",
      "RF 3-Factor Fitted\n",
      "RF 4-Factor Fitted\n",
      "RF 5-Factor Fitted\n",
      "39 dates remaining\n",
      "Naive Fitted\n",
      "Linear Regression 3-Factor Fitted\n",
      "Linear Regression 4-Factor Fitted\n",
      "Linear Regression 5-Factor Fitted\n"
     ]
    },
    {
     "name": "stderr",
     "output_type": "stream",
     "text": [
      "c:\\Users\\Xuan Le\\OneDrive - National University of Singapore\\Documents\\University\\y4s2\\DSE4101 Capstone Project in DSE I\\Mutual-Funds-Forecasting\\venv\\Lib\\site-packages\\sklearn\\neural_network\\_multilayer_perceptron.py:691: ConvergenceWarning: Stochastic Optimizer: Maximum iterations (200) reached and the optimization hasn't converged yet.\n",
      "  warnings.warn(\n"
     ]
    },
    {
     "name": "stdout",
     "output_type": "stream",
     "text": [
      "FFNN 3-Factor Fitted\n"
     ]
    },
    {
     "name": "stderr",
     "output_type": "stream",
     "text": [
      "c:\\Users\\Xuan Le\\OneDrive - National University of Singapore\\Documents\\University\\y4s2\\DSE4101 Capstone Project in DSE I\\Mutual-Funds-Forecasting\\venv\\Lib\\site-packages\\sklearn\\neural_network\\_multilayer_perceptron.py:691: ConvergenceWarning: Stochastic Optimizer: Maximum iterations (200) reached and the optimization hasn't converged yet.\n",
      "  warnings.warn(\n"
     ]
    },
    {
     "name": "stdout",
     "output_type": "stream",
     "text": [
      "FFNN 4-Factor Fitted\n"
     ]
    },
    {
     "name": "stderr",
     "output_type": "stream",
     "text": [
      "c:\\Users\\Xuan Le\\OneDrive - National University of Singapore\\Documents\\University\\y4s2\\DSE4101 Capstone Project in DSE I\\Mutual-Funds-Forecasting\\venv\\Lib\\site-packages\\sklearn\\neural_network\\_multilayer_perceptron.py:691: ConvergenceWarning: Stochastic Optimizer: Maximum iterations (200) reached and the optimization hasn't converged yet.\n",
      "  warnings.warn(\n"
     ]
    },
    {
     "name": "stdout",
     "output_type": "stream",
     "text": [
      "FFNN 5-Factor Fitted\n",
      "RF 3-Factor Fitted\n",
      "RF 4-Factor Fitted\n",
      "RF 5-Factor Fitted\n",
      "38 dates remaining\n",
      "Naive Fitted\n",
      "Linear Regression 3-Factor Fitted\n",
      "Linear Regression 4-Factor Fitted\n",
      "Linear Regression 5-Factor Fitted\n"
     ]
    },
    {
     "name": "stderr",
     "output_type": "stream",
     "text": [
      "c:\\Users\\Xuan Le\\OneDrive - National University of Singapore\\Documents\\University\\y4s2\\DSE4101 Capstone Project in DSE I\\Mutual-Funds-Forecasting\\venv\\Lib\\site-packages\\sklearn\\neural_network\\_multilayer_perceptron.py:691: ConvergenceWarning: Stochastic Optimizer: Maximum iterations (200) reached and the optimization hasn't converged yet.\n",
      "  warnings.warn(\n"
     ]
    },
    {
     "name": "stdout",
     "output_type": "stream",
     "text": [
      "FFNN 3-Factor Fitted\n"
     ]
    },
    {
     "name": "stderr",
     "output_type": "stream",
     "text": [
      "c:\\Users\\Xuan Le\\OneDrive - National University of Singapore\\Documents\\University\\y4s2\\DSE4101 Capstone Project in DSE I\\Mutual-Funds-Forecasting\\venv\\Lib\\site-packages\\sklearn\\neural_network\\_multilayer_perceptron.py:691: ConvergenceWarning: Stochastic Optimizer: Maximum iterations (200) reached and the optimization hasn't converged yet.\n",
      "  warnings.warn(\n"
     ]
    },
    {
     "name": "stdout",
     "output_type": "stream",
     "text": [
      "FFNN 4-Factor Fitted\n"
     ]
    },
    {
     "name": "stderr",
     "output_type": "stream",
     "text": [
      "c:\\Users\\Xuan Le\\OneDrive - National University of Singapore\\Documents\\University\\y4s2\\DSE4101 Capstone Project in DSE I\\Mutual-Funds-Forecasting\\venv\\Lib\\site-packages\\sklearn\\neural_network\\_multilayer_perceptron.py:691: ConvergenceWarning: Stochastic Optimizer: Maximum iterations (200) reached and the optimization hasn't converged yet.\n",
      "  warnings.warn(\n"
     ]
    },
    {
     "name": "stdout",
     "output_type": "stream",
     "text": [
      "FFNN 5-Factor Fitted\n",
      "RF 3-Factor Fitted\n",
      "RF 4-Factor Fitted\n",
      "RF 5-Factor Fitted\n",
      "37 dates remaining\n",
      "Naive Fitted\n",
      "Linear Regression 3-Factor Fitted\n",
      "Linear Regression 4-Factor Fitted\n",
      "Linear Regression 5-Factor Fitted\n"
     ]
    },
    {
     "name": "stderr",
     "output_type": "stream",
     "text": [
      "c:\\Users\\Xuan Le\\OneDrive - National University of Singapore\\Documents\\University\\y4s2\\DSE4101 Capstone Project in DSE I\\Mutual-Funds-Forecasting\\venv\\Lib\\site-packages\\sklearn\\neural_network\\_multilayer_perceptron.py:691: ConvergenceWarning: Stochastic Optimizer: Maximum iterations (200) reached and the optimization hasn't converged yet.\n",
      "  warnings.warn(\n"
     ]
    },
    {
     "name": "stdout",
     "output_type": "stream",
     "text": [
      "FFNN 3-Factor Fitted\n"
     ]
    },
    {
     "name": "stderr",
     "output_type": "stream",
     "text": [
      "c:\\Users\\Xuan Le\\OneDrive - National University of Singapore\\Documents\\University\\y4s2\\DSE4101 Capstone Project in DSE I\\Mutual-Funds-Forecasting\\venv\\Lib\\site-packages\\sklearn\\neural_network\\_multilayer_perceptron.py:691: ConvergenceWarning: Stochastic Optimizer: Maximum iterations (200) reached and the optimization hasn't converged yet.\n",
      "  warnings.warn(\n"
     ]
    },
    {
     "name": "stdout",
     "output_type": "stream",
     "text": [
      "FFNN 4-Factor Fitted\n"
     ]
    },
    {
     "name": "stderr",
     "output_type": "stream",
     "text": [
      "c:\\Users\\Xuan Le\\OneDrive - National University of Singapore\\Documents\\University\\y4s2\\DSE4101 Capstone Project in DSE I\\Mutual-Funds-Forecasting\\venv\\Lib\\site-packages\\sklearn\\neural_network\\_multilayer_perceptron.py:691: ConvergenceWarning: Stochastic Optimizer: Maximum iterations (200) reached and the optimization hasn't converged yet.\n",
      "  warnings.warn(\n"
     ]
    },
    {
     "name": "stdout",
     "output_type": "stream",
     "text": [
      "FFNN 5-Factor Fitted\n",
      "RF 3-Factor Fitted\n",
      "RF 4-Factor Fitted\n",
      "RF 5-Factor Fitted\n",
      "36 dates remaining\n",
      "Naive Fitted\n",
      "Linear Regression 3-Factor Fitted\n",
      "Linear Regression 4-Factor Fitted\n",
      "Linear Regression 5-Factor Fitted\n"
     ]
    },
    {
     "name": "stderr",
     "output_type": "stream",
     "text": [
      "c:\\Users\\Xuan Le\\OneDrive - National University of Singapore\\Documents\\University\\y4s2\\DSE4101 Capstone Project in DSE I\\Mutual-Funds-Forecasting\\venv\\Lib\\site-packages\\sklearn\\neural_network\\_multilayer_perceptron.py:691: ConvergenceWarning: Stochastic Optimizer: Maximum iterations (200) reached and the optimization hasn't converged yet.\n",
      "  warnings.warn(\n"
     ]
    },
    {
     "name": "stdout",
     "output_type": "stream",
     "text": [
      "FFNN 3-Factor Fitted\n"
     ]
    },
    {
     "name": "stderr",
     "output_type": "stream",
     "text": [
      "c:\\Users\\Xuan Le\\OneDrive - National University of Singapore\\Documents\\University\\y4s2\\DSE4101 Capstone Project in DSE I\\Mutual-Funds-Forecasting\\venv\\Lib\\site-packages\\sklearn\\neural_network\\_multilayer_perceptron.py:691: ConvergenceWarning: Stochastic Optimizer: Maximum iterations (200) reached and the optimization hasn't converged yet.\n",
      "  warnings.warn(\n"
     ]
    },
    {
     "name": "stdout",
     "output_type": "stream",
     "text": [
      "FFNN 4-Factor Fitted\n"
     ]
    },
    {
     "name": "stderr",
     "output_type": "stream",
     "text": [
      "c:\\Users\\Xuan Le\\OneDrive - National University of Singapore\\Documents\\University\\y4s2\\DSE4101 Capstone Project in DSE I\\Mutual-Funds-Forecasting\\venv\\Lib\\site-packages\\sklearn\\neural_network\\_multilayer_perceptron.py:691: ConvergenceWarning: Stochastic Optimizer: Maximum iterations (200) reached and the optimization hasn't converged yet.\n",
      "  warnings.warn(\n"
     ]
    },
    {
     "name": "stdout",
     "output_type": "stream",
     "text": [
      "FFNN 5-Factor Fitted\n",
      "RF 3-Factor Fitted\n",
      "RF 4-Factor Fitted\n",
      "RF 5-Factor Fitted\n",
      "35 dates remaining\n",
      "Naive Fitted\n",
      "Linear Regression 3-Factor Fitted\n",
      "Linear Regression 4-Factor Fitted\n",
      "Linear Regression 5-Factor Fitted\n"
     ]
    },
    {
     "name": "stderr",
     "output_type": "stream",
     "text": [
      "c:\\Users\\Xuan Le\\OneDrive - National University of Singapore\\Documents\\University\\y4s2\\DSE4101 Capstone Project in DSE I\\Mutual-Funds-Forecasting\\venv\\Lib\\site-packages\\sklearn\\neural_network\\_multilayer_perceptron.py:691: ConvergenceWarning: Stochastic Optimizer: Maximum iterations (200) reached and the optimization hasn't converged yet.\n",
      "  warnings.warn(\n"
     ]
    },
    {
     "name": "stdout",
     "output_type": "stream",
     "text": [
      "FFNN 3-Factor Fitted\n"
     ]
    },
    {
     "name": "stderr",
     "output_type": "stream",
     "text": [
      "c:\\Users\\Xuan Le\\OneDrive - National University of Singapore\\Documents\\University\\y4s2\\DSE4101 Capstone Project in DSE I\\Mutual-Funds-Forecasting\\venv\\Lib\\site-packages\\sklearn\\neural_network\\_multilayer_perceptron.py:691: ConvergenceWarning: Stochastic Optimizer: Maximum iterations (200) reached and the optimization hasn't converged yet.\n",
      "  warnings.warn(\n"
     ]
    },
    {
     "name": "stdout",
     "output_type": "stream",
     "text": [
      "FFNN 4-Factor Fitted\n"
     ]
    },
    {
     "name": "stderr",
     "output_type": "stream",
     "text": [
      "c:\\Users\\Xuan Le\\OneDrive - National University of Singapore\\Documents\\University\\y4s2\\DSE4101 Capstone Project in DSE I\\Mutual-Funds-Forecasting\\venv\\Lib\\site-packages\\sklearn\\neural_network\\_multilayer_perceptron.py:691: ConvergenceWarning: Stochastic Optimizer: Maximum iterations (200) reached and the optimization hasn't converged yet.\n",
      "  warnings.warn(\n"
     ]
    },
    {
     "name": "stdout",
     "output_type": "stream",
     "text": [
      "FFNN 5-Factor Fitted\n",
      "RF 3-Factor Fitted\n",
      "RF 4-Factor Fitted\n",
      "RF 5-Factor Fitted\n",
      "34 dates remaining\n",
      "Naive Fitted\n",
      "Linear Regression 3-Factor Fitted\n",
      "Linear Regression 4-Factor Fitted\n",
      "Linear Regression 5-Factor Fitted\n"
     ]
    },
    {
     "name": "stderr",
     "output_type": "stream",
     "text": [
      "c:\\Users\\Xuan Le\\OneDrive - National University of Singapore\\Documents\\University\\y4s2\\DSE4101 Capstone Project in DSE I\\Mutual-Funds-Forecasting\\venv\\Lib\\site-packages\\sklearn\\neural_network\\_multilayer_perceptron.py:691: ConvergenceWarning: Stochastic Optimizer: Maximum iterations (200) reached and the optimization hasn't converged yet.\n",
      "  warnings.warn(\n"
     ]
    },
    {
     "name": "stdout",
     "output_type": "stream",
     "text": [
      "FFNN 3-Factor Fitted\n"
     ]
    },
    {
     "name": "stderr",
     "output_type": "stream",
     "text": [
      "c:\\Users\\Xuan Le\\OneDrive - National University of Singapore\\Documents\\University\\y4s2\\DSE4101 Capstone Project in DSE I\\Mutual-Funds-Forecasting\\venv\\Lib\\site-packages\\sklearn\\neural_network\\_multilayer_perceptron.py:691: ConvergenceWarning: Stochastic Optimizer: Maximum iterations (200) reached and the optimization hasn't converged yet.\n",
      "  warnings.warn(\n"
     ]
    },
    {
     "name": "stdout",
     "output_type": "stream",
     "text": [
      "FFNN 4-Factor Fitted\n"
     ]
    },
    {
     "name": "stderr",
     "output_type": "stream",
     "text": [
      "c:\\Users\\Xuan Le\\OneDrive - National University of Singapore\\Documents\\University\\y4s2\\DSE4101 Capstone Project in DSE I\\Mutual-Funds-Forecasting\\venv\\Lib\\site-packages\\sklearn\\neural_network\\_multilayer_perceptron.py:691: ConvergenceWarning: Stochastic Optimizer: Maximum iterations (200) reached and the optimization hasn't converged yet.\n",
      "  warnings.warn(\n"
     ]
    },
    {
     "name": "stdout",
     "output_type": "stream",
     "text": [
      "FFNN 5-Factor Fitted\n",
      "RF 3-Factor Fitted\n",
      "RF 4-Factor Fitted\n",
      "RF 5-Factor Fitted\n",
      "33 dates remaining\n",
      "Naive Fitted\n",
      "Linear Regression 3-Factor Fitted\n",
      "Linear Regression 4-Factor Fitted\n",
      "Linear Regression 5-Factor Fitted\n"
     ]
    },
    {
     "name": "stderr",
     "output_type": "stream",
     "text": [
      "c:\\Users\\Xuan Le\\OneDrive - National University of Singapore\\Documents\\University\\y4s2\\DSE4101 Capstone Project in DSE I\\Mutual-Funds-Forecasting\\venv\\Lib\\site-packages\\sklearn\\neural_network\\_multilayer_perceptron.py:691: ConvergenceWarning: Stochastic Optimizer: Maximum iterations (200) reached and the optimization hasn't converged yet.\n",
      "  warnings.warn(\n"
     ]
    },
    {
     "name": "stdout",
     "output_type": "stream",
     "text": [
      "FFNN 3-Factor Fitted\n"
     ]
    },
    {
     "name": "stderr",
     "output_type": "stream",
     "text": [
      "c:\\Users\\Xuan Le\\OneDrive - National University of Singapore\\Documents\\University\\y4s2\\DSE4101 Capstone Project in DSE I\\Mutual-Funds-Forecasting\\venv\\Lib\\site-packages\\sklearn\\neural_network\\_multilayer_perceptron.py:691: ConvergenceWarning: Stochastic Optimizer: Maximum iterations (200) reached and the optimization hasn't converged yet.\n",
      "  warnings.warn(\n"
     ]
    },
    {
     "name": "stdout",
     "output_type": "stream",
     "text": [
      "FFNN 4-Factor Fitted\n"
     ]
    },
    {
     "name": "stderr",
     "output_type": "stream",
     "text": [
      "c:\\Users\\Xuan Le\\OneDrive - National University of Singapore\\Documents\\University\\y4s2\\DSE4101 Capstone Project in DSE I\\Mutual-Funds-Forecasting\\venv\\Lib\\site-packages\\sklearn\\neural_network\\_multilayer_perceptron.py:691: ConvergenceWarning: Stochastic Optimizer: Maximum iterations (200) reached and the optimization hasn't converged yet.\n",
      "  warnings.warn(\n"
     ]
    },
    {
     "name": "stdout",
     "output_type": "stream",
     "text": [
      "FFNN 5-Factor Fitted\n",
      "RF 3-Factor Fitted\n",
      "RF 4-Factor Fitted\n",
      "RF 5-Factor Fitted\n",
      "32 dates remaining\n",
      "Naive Fitted\n",
      "Linear Regression 3-Factor Fitted\n",
      "Linear Regression 4-Factor Fitted\n",
      "Linear Regression 5-Factor Fitted\n"
     ]
    },
    {
     "name": "stderr",
     "output_type": "stream",
     "text": [
      "c:\\Users\\Xuan Le\\OneDrive - National University of Singapore\\Documents\\University\\y4s2\\DSE4101 Capstone Project in DSE I\\Mutual-Funds-Forecasting\\venv\\Lib\\site-packages\\sklearn\\neural_network\\_multilayer_perceptron.py:691: ConvergenceWarning: Stochastic Optimizer: Maximum iterations (200) reached and the optimization hasn't converged yet.\n",
      "  warnings.warn(\n"
     ]
    },
    {
     "name": "stdout",
     "output_type": "stream",
     "text": [
      "FFNN 3-Factor Fitted\n"
     ]
    },
    {
     "name": "stderr",
     "output_type": "stream",
     "text": [
      "c:\\Users\\Xuan Le\\OneDrive - National University of Singapore\\Documents\\University\\y4s2\\DSE4101 Capstone Project in DSE I\\Mutual-Funds-Forecasting\\venv\\Lib\\site-packages\\sklearn\\neural_network\\_multilayer_perceptron.py:691: ConvergenceWarning: Stochastic Optimizer: Maximum iterations (200) reached and the optimization hasn't converged yet.\n",
      "  warnings.warn(\n"
     ]
    },
    {
     "name": "stdout",
     "output_type": "stream",
     "text": [
      "FFNN 4-Factor Fitted\n"
     ]
    },
    {
     "name": "stderr",
     "output_type": "stream",
     "text": [
      "c:\\Users\\Xuan Le\\OneDrive - National University of Singapore\\Documents\\University\\y4s2\\DSE4101 Capstone Project in DSE I\\Mutual-Funds-Forecasting\\venv\\Lib\\site-packages\\sklearn\\neural_network\\_multilayer_perceptron.py:691: ConvergenceWarning: Stochastic Optimizer: Maximum iterations (200) reached and the optimization hasn't converged yet.\n",
      "  warnings.warn(\n"
     ]
    },
    {
     "name": "stdout",
     "output_type": "stream",
     "text": [
      "FFNN 5-Factor Fitted\n",
      "RF 3-Factor Fitted\n",
      "RF 4-Factor Fitted\n",
      "RF 5-Factor Fitted\n",
      "31 dates remaining\n",
      "Naive Fitted\n",
      "Linear Regression 3-Factor Fitted\n",
      "Linear Regression 4-Factor Fitted\n",
      "Linear Regression 5-Factor Fitted\n"
     ]
    },
    {
     "name": "stderr",
     "output_type": "stream",
     "text": [
      "c:\\Users\\Xuan Le\\OneDrive - National University of Singapore\\Documents\\University\\y4s2\\DSE4101 Capstone Project in DSE I\\Mutual-Funds-Forecasting\\venv\\Lib\\site-packages\\sklearn\\neural_network\\_multilayer_perceptron.py:691: ConvergenceWarning: Stochastic Optimizer: Maximum iterations (200) reached and the optimization hasn't converged yet.\n",
      "  warnings.warn(\n"
     ]
    },
    {
     "name": "stdout",
     "output_type": "stream",
     "text": [
      "FFNN 3-Factor Fitted\n"
     ]
    },
    {
     "name": "stderr",
     "output_type": "stream",
     "text": [
      "c:\\Users\\Xuan Le\\OneDrive - National University of Singapore\\Documents\\University\\y4s2\\DSE4101 Capstone Project in DSE I\\Mutual-Funds-Forecasting\\venv\\Lib\\site-packages\\sklearn\\neural_network\\_multilayer_perceptron.py:691: ConvergenceWarning: Stochastic Optimizer: Maximum iterations (200) reached and the optimization hasn't converged yet.\n",
      "  warnings.warn(\n"
     ]
    },
    {
     "name": "stdout",
     "output_type": "stream",
     "text": [
      "FFNN 4-Factor Fitted\n"
     ]
    },
    {
     "name": "stderr",
     "output_type": "stream",
     "text": [
      "c:\\Users\\Xuan Le\\OneDrive - National University of Singapore\\Documents\\University\\y4s2\\DSE4101 Capstone Project in DSE I\\Mutual-Funds-Forecasting\\venv\\Lib\\site-packages\\sklearn\\neural_network\\_multilayer_perceptron.py:691: ConvergenceWarning: Stochastic Optimizer: Maximum iterations (200) reached and the optimization hasn't converged yet.\n",
      "  warnings.warn(\n"
     ]
    },
    {
     "name": "stdout",
     "output_type": "stream",
     "text": [
      "FFNN 5-Factor Fitted\n",
      "RF 3-Factor Fitted\n",
      "RF 4-Factor Fitted\n",
      "RF 5-Factor Fitted\n",
      "30 dates remaining\n",
      "Naive Fitted\n",
      "Linear Regression 3-Factor Fitted\n",
      "Linear Regression 4-Factor Fitted\n",
      "Linear Regression 5-Factor Fitted\n"
     ]
    },
    {
     "name": "stderr",
     "output_type": "stream",
     "text": [
      "c:\\Users\\Xuan Le\\OneDrive - National University of Singapore\\Documents\\University\\y4s2\\DSE4101 Capstone Project in DSE I\\Mutual-Funds-Forecasting\\venv\\Lib\\site-packages\\sklearn\\neural_network\\_multilayer_perceptron.py:691: ConvergenceWarning: Stochastic Optimizer: Maximum iterations (200) reached and the optimization hasn't converged yet.\n",
      "  warnings.warn(\n"
     ]
    },
    {
     "name": "stdout",
     "output_type": "stream",
     "text": [
      "FFNN 3-Factor Fitted\n"
     ]
    },
    {
     "name": "stderr",
     "output_type": "stream",
     "text": [
      "c:\\Users\\Xuan Le\\OneDrive - National University of Singapore\\Documents\\University\\y4s2\\DSE4101 Capstone Project in DSE I\\Mutual-Funds-Forecasting\\venv\\Lib\\site-packages\\sklearn\\neural_network\\_multilayer_perceptron.py:691: ConvergenceWarning: Stochastic Optimizer: Maximum iterations (200) reached and the optimization hasn't converged yet.\n",
      "  warnings.warn(\n"
     ]
    },
    {
     "name": "stdout",
     "output_type": "stream",
     "text": [
      "FFNN 4-Factor Fitted\n"
     ]
    },
    {
     "name": "stderr",
     "output_type": "stream",
     "text": [
      "c:\\Users\\Xuan Le\\OneDrive - National University of Singapore\\Documents\\University\\y4s2\\DSE4101 Capstone Project in DSE I\\Mutual-Funds-Forecasting\\venv\\Lib\\site-packages\\sklearn\\neural_network\\_multilayer_perceptron.py:691: ConvergenceWarning: Stochastic Optimizer: Maximum iterations (200) reached and the optimization hasn't converged yet.\n",
      "  warnings.warn(\n"
     ]
    },
    {
     "name": "stdout",
     "output_type": "stream",
     "text": [
      "FFNN 5-Factor Fitted\n",
      "RF 3-Factor Fitted\n",
      "RF 4-Factor Fitted\n",
      "RF 5-Factor Fitted\n",
      "29 dates remaining\n",
      "Naive Fitted\n",
      "Linear Regression 3-Factor Fitted\n",
      "Linear Regression 4-Factor Fitted\n",
      "Linear Regression 5-Factor Fitted\n"
     ]
    },
    {
     "name": "stderr",
     "output_type": "stream",
     "text": [
      "c:\\Users\\Xuan Le\\OneDrive - National University of Singapore\\Documents\\University\\y4s2\\DSE4101 Capstone Project in DSE I\\Mutual-Funds-Forecasting\\venv\\Lib\\site-packages\\sklearn\\neural_network\\_multilayer_perceptron.py:691: ConvergenceWarning: Stochastic Optimizer: Maximum iterations (200) reached and the optimization hasn't converged yet.\n",
      "  warnings.warn(\n"
     ]
    },
    {
     "name": "stdout",
     "output_type": "stream",
     "text": [
      "FFNN 3-Factor Fitted\n"
     ]
    },
    {
     "name": "stderr",
     "output_type": "stream",
     "text": [
      "c:\\Users\\Xuan Le\\OneDrive - National University of Singapore\\Documents\\University\\y4s2\\DSE4101 Capstone Project in DSE I\\Mutual-Funds-Forecasting\\venv\\Lib\\site-packages\\sklearn\\neural_network\\_multilayer_perceptron.py:691: ConvergenceWarning: Stochastic Optimizer: Maximum iterations (200) reached and the optimization hasn't converged yet.\n",
      "  warnings.warn(\n"
     ]
    },
    {
     "name": "stdout",
     "output_type": "stream",
     "text": [
      "FFNN 4-Factor Fitted\n"
     ]
    },
    {
     "name": "stderr",
     "output_type": "stream",
     "text": [
      "c:\\Users\\Xuan Le\\OneDrive - National University of Singapore\\Documents\\University\\y4s2\\DSE4101 Capstone Project in DSE I\\Mutual-Funds-Forecasting\\venv\\Lib\\site-packages\\sklearn\\neural_network\\_multilayer_perceptron.py:691: ConvergenceWarning: Stochastic Optimizer: Maximum iterations (200) reached and the optimization hasn't converged yet.\n",
      "  warnings.warn(\n"
     ]
    },
    {
     "name": "stdout",
     "output_type": "stream",
     "text": [
      "FFNN 5-Factor Fitted\n",
      "RF 3-Factor Fitted\n",
      "RF 4-Factor Fitted\n",
      "RF 5-Factor Fitted\n",
      "28 dates remaining\n",
      "Naive Fitted\n",
      "Linear Regression 3-Factor Fitted\n",
      "Linear Regression 4-Factor Fitted\n",
      "Linear Regression 5-Factor Fitted\n"
     ]
    },
    {
     "name": "stderr",
     "output_type": "stream",
     "text": [
      "c:\\Users\\Xuan Le\\OneDrive - National University of Singapore\\Documents\\University\\y4s2\\DSE4101 Capstone Project in DSE I\\Mutual-Funds-Forecasting\\venv\\Lib\\site-packages\\sklearn\\neural_network\\_multilayer_perceptron.py:691: ConvergenceWarning: Stochastic Optimizer: Maximum iterations (200) reached and the optimization hasn't converged yet.\n",
      "  warnings.warn(\n"
     ]
    },
    {
     "name": "stdout",
     "output_type": "stream",
     "text": [
      "FFNN 3-Factor Fitted\n"
     ]
    },
    {
     "name": "stderr",
     "output_type": "stream",
     "text": [
      "c:\\Users\\Xuan Le\\OneDrive - National University of Singapore\\Documents\\University\\y4s2\\DSE4101 Capstone Project in DSE I\\Mutual-Funds-Forecasting\\venv\\Lib\\site-packages\\sklearn\\neural_network\\_multilayer_perceptron.py:691: ConvergenceWarning: Stochastic Optimizer: Maximum iterations (200) reached and the optimization hasn't converged yet.\n",
      "  warnings.warn(\n"
     ]
    },
    {
     "name": "stdout",
     "output_type": "stream",
     "text": [
      "FFNN 4-Factor Fitted\n"
     ]
    },
    {
     "name": "stderr",
     "output_type": "stream",
     "text": [
      "c:\\Users\\Xuan Le\\OneDrive - National University of Singapore\\Documents\\University\\y4s2\\DSE4101 Capstone Project in DSE I\\Mutual-Funds-Forecasting\\venv\\Lib\\site-packages\\sklearn\\neural_network\\_multilayer_perceptron.py:691: ConvergenceWarning: Stochastic Optimizer: Maximum iterations (200) reached and the optimization hasn't converged yet.\n",
      "  warnings.warn(\n"
     ]
    },
    {
     "name": "stdout",
     "output_type": "stream",
     "text": [
      "FFNN 5-Factor Fitted\n",
      "RF 3-Factor Fitted\n",
      "RF 4-Factor Fitted\n",
      "RF 5-Factor Fitted\n",
      "27 dates remaining\n",
      "Naive Fitted\n",
      "Linear Regression 3-Factor Fitted\n",
      "Linear Regression 4-Factor Fitted\n",
      "Linear Regression 5-Factor Fitted\n"
     ]
    },
    {
     "name": "stderr",
     "output_type": "stream",
     "text": [
      "c:\\Users\\Xuan Le\\OneDrive - National University of Singapore\\Documents\\University\\y4s2\\DSE4101 Capstone Project in DSE I\\Mutual-Funds-Forecasting\\venv\\Lib\\site-packages\\sklearn\\neural_network\\_multilayer_perceptron.py:691: ConvergenceWarning: Stochastic Optimizer: Maximum iterations (200) reached and the optimization hasn't converged yet.\n",
      "  warnings.warn(\n"
     ]
    },
    {
     "name": "stdout",
     "output_type": "stream",
     "text": [
      "FFNN 3-Factor Fitted\n"
     ]
    },
    {
     "name": "stderr",
     "output_type": "stream",
     "text": [
      "c:\\Users\\Xuan Le\\OneDrive - National University of Singapore\\Documents\\University\\y4s2\\DSE4101 Capstone Project in DSE I\\Mutual-Funds-Forecasting\\venv\\Lib\\site-packages\\sklearn\\neural_network\\_multilayer_perceptron.py:691: ConvergenceWarning: Stochastic Optimizer: Maximum iterations (200) reached and the optimization hasn't converged yet.\n",
      "  warnings.warn(\n"
     ]
    },
    {
     "name": "stdout",
     "output_type": "stream",
     "text": [
      "FFNN 4-Factor Fitted\n"
     ]
    },
    {
     "name": "stderr",
     "output_type": "stream",
     "text": [
      "c:\\Users\\Xuan Le\\OneDrive - National University of Singapore\\Documents\\University\\y4s2\\DSE4101 Capstone Project in DSE I\\Mutual-Funds-Forecasting\\venv\\Lib\\site-packages\\sklearn\\neural_network\\_multilayer_perceptron.py:691: ConvergenceWarning: Stochastic Optimizer: Maximum iterations (200) reached and the optimization hasn't converged yet.\n",
      "  warnings.warn(\n"
     ]
    },
    {
     "name": "stdout",
     "output_type": "stream",
     "text": [
      "FFNN 5-Factor Fitted\n",
      "RF 3-Factor Fitted\n",
      "RF 4-Factor Fitted\n",
      "RF 5-Factor Fitted\n",
      "26 dates remaining\n",
      "Naive Fitted\n",
      "Linear Regression 3-Factor Fitted\n",
      "Linear Regression 4-Factor Fitted\n",
      "Linear Regression 5-Factor Fitted\n"
     ]
    },
    {
     "name": "stderr",
     "output_type": "stream",
     "text": [
      "c:\\Users\\Xuan Le\\OneDrive - National University of Singapore\\Documents\\University\\y4s2\\DSE4101 Capstone Project in DSE I\\Mutual-Funds-Forecasting\\venv\\Lib\\site-packages\\sklearn\\neural_network\\_multilayer_perceptron.py:691: ConvergenceWarning: Stochastic Optimizer: Maximum iterations (200) reached and the optimization hasn't converged yet.\n",
      "  warnings.warn(\n"
     ]
    },
    {
     "name": "stdout",
     "output_type": "stream",
     "text": [
      "FFNN 3-Factor Fitted\n"
     ]
    },
    {
     "name": "stderr",
     "output_type": "stream",
     "text": [
      "c:\\Users\\Xuan Le\\OneDrive - National University of Singapore\\Documents\\University\\y4s2\\DSE4101 Capstone Project in DSE I\\Mutual-Funds-Forecasting\\venv\\Lib\\site-packages\\sklearn\\neural_network\\_multilayer_perceptron.py:691: ConvergenceWarning: Stochastic Optimizer: Maximum iterations (200) reached and the optimization hasn't converged yet.\n",
      "  warnings.warn(\n"
     ]
    },
    {
     "name": "stdout",
     "output_type": "stream",
     "text": [
      "FFNN 4-Factor Fitted\n"
     ]
    },
    {
     "name": "stderr",
     "output_type": "stream",
     "text": [
      "c:\\Users\\Xuan Le\\OneDrive - National University of Singapore\\Documents\\University\\y4s2\\DSE4101 Capstone Project in DSE I\\Mutual-Funds-Forecasting\\venv\\Lib\\site-packages\\sklearn\\neural_network\\_multilayer_perceptron.py:691: ConvergenceWarning: Stochastic Optimizer: Maximum iterations (200) reached and the optimization hasn't converged yet.\n",
      "  warnings.warn(\n"
     ]
    },
    {
     "name": "stdout",
     "output_type": "stream",
     "text": [
      "FFNN 5-Factor Fitted\n",
      "RF 3-Factor Fitted\n",
      "RF 4-Factor Fitted\n",
      "RF 5-Factor Fitted\n",
      "25 dates remaining\n",
      "Naive Fitted\n",
      "Linear Regression 3-Factor Fitted\n",
      "Linear Regression 4-Factor Fitted\n",
      "Linear Regression 5-Factor Fitted\n"
     ]
    },
    {
     "name": "stderr",
     "output_type": "stream",
     "text": [
      "c:\\Users\\Xuan Le\\OneDrive - National University of Singapore\\Documents\\University\\y4s2\\DSE4101 Capstone Project in DSE I\\Mutual-Funds-Forecasting\\venv\\Lib\\site-packages\\sklearn\\neural_network\\_multilayer_perceptron.py:691: ConvergenceWarning: Stochastic Optimizer: Maximum iterations (200) reached and the optimization hasn't converged yet.\n",
      "  warnings.warn(\n"
     ]
    },
    {
     "name": "stdout",
     "output_type": "stream",
     "text": [
      "FFNN 3-Factor Fitted\n"
     ]
    },
    {
     "name": "stderr",
     "output_type": "stream",
     "text": [
      "c:\\Users\\Xuan Le\\OneDrive - National University of Singapore\\Documents\\University\\y4s2\\DSE4101 Capstone Project in DSE I\\Mutual-Funds-Forecasting\\venv\\Lib\\site-packages\\sklearn\\neural_network\\_multilayer_perceptron.py:691: ConvergenceWarning: Stochastic Optimizer: Maximum iterations (200) reached and the optimization hasn't converged yet.\n",
      "  warnings.warn(\n"
     ]
    },
    {
     "name": "stdout",
     "output_type": "stream",
     "text": [
      "FFNN 4-Factor Fitted\n"
     ]
    },
    {
     "name": "stderr",
     "output_type": "stream",
     "text": [
      "c:\\Users\\Xuan Le\\OneDrive - National University of Singapore\\Documents\\University\\y4s2\\DSE4101 Capstone Project in DSE I\\Mutual-Funds-Forecasting\\venv\\Lib\\site-packages\\sklearn\\neural_network\\_multilayer_perceptron.py:691: ConvergenceWarning: Stochastic Optimizer: Maximum iterations (200) reached and the optimization hasn't converged yet.\n",
      "  warnings.warn(\n"
     ]
    },
    {
     "name": "stdout",
     "output_type": "stream",
     "text": [
      "FFNN 5-Factor Fitted\n",
      "RF 3-Factor Fitted\n",
      "RF 4-Factor Fitted\n",
      "RF 5-Factor Fitted\n",
      "24 dates remaining\n",
      "Naive Fitted\n",
      "Linear Regression 3-Factor Fitted\n",
      "Linear Regression 4-Factor Fitted\n",
      "Linear Regression 5-Factor Fitted\n"
     ]
    },
    {
     "name": "stderr",
     "output_type": "stream",
     "text": [
      "c:\\Users\\Xuan Le\\OneDrive - National University of Singapore\\Documents\\University\\y4s2\\DSE4101 Capstone Project in DSE I\\Mutual-Funds-Forecasting\\venv\\Lib\\site-packages\\sklearn\\neural_network\\_multilayer_perceptron.py:691: ConvergenceWarning: Stochastic Optimizer: Maximum iterations (200) reached and the optimization hasn't converged yet.\n",
      "  warnings.warn(\n"
     ]
    },
    {
     "name": "stdout",
     "output_type": "stream",
     "text": [
      "FFNN 3-Factor Fitted\n"
     ]
    },
    {
     "name": "stderr",
     "output_type": "stream",
     "text": [
      "c:\\Users\\Xuan Le\\OneDrive - National University of Singapore\\Documents\\University\\y4s2\\DSE4101 Capstone Project in DSE I\\Mutual-Funds-Forecasting\\venv\\Lib\\site-packages\\sklearn\\neural_network\\_multilayer_perceptron.py:691: ConvergenceWarning: Stochastic Optimizer: Maximum iterations (200) reached and the optimization hasn't converged yet.\n",
      "  warnings.warn(\n"
     ]
    },
    {
     "name": "stdout",
     "output_type": "stream",
     "text": [
      "FFNN 4-Factor Fitted\n"
     ]
    },
    {
     "name": "stderr",
     "output_type": "stream",
     "text": [
      "c:\\Users\\Xuan Le\\OneDrive - National University of Singapore\\Documents\\University\\y4s2\\DSE4101 Capstone Project in DSE I\\Mutual-Funds-Forecasting\\venv\\Lib\\site-packages\\sklearn\\neural_network\\_multilayer_perceptron.py:691: ConvergenceWarning: Stochastic Optimizer: Maximum iterations (200) reached and the optimization hasn't converged yet.\n",
      "  warnings.warn(\n"
     ]
    },
    {
     "name": "stdout",
     "output_type": "stream",
     "text": [
      "FFNN 5-Factor Fitted\n",
      "RF 3-Factor Fitted\n",
      "RF 4-Factor Fitted\n",
      "RF 5-Factor Fitted\n",
      "23 dates remaining\n",
      "Naive Fitted\n",
      "Linear Regression 3-Factor Fitted\n",
      "Linear Regression 4-Factor Fitted\n",
      "Linear Regression 5-Factor Fitted\n"
     ]
    },
    {
     "name": "stderr",
     "output_type": "stream",
     "text": [
      "c:\\Users\\Xuan Le\\OneDrive - National University of Singapore\\Documents\\University\\y4s2\\DSE4101 Capstone Project in DSE I\\Mutual-Funds-Forecasting\\venv\\Lib\\site-packages\\sklearn\\neural_network\\_multilayer_perceptron.py:691: ConvergenceWarning: Stochastic Optimizer: Maximum iterations (200) reached and the optimization hasn't converged yet.\n",
      "  warnings.warn(\n"
     ]
    },
    {
     "name": "stdout",
     "output_type": "stream",
     "text": [
      "FFNN 3-Factor Fitted\n",
      "FFNN 4-Factor Fitted\n"
     ]
    },
    {
     "name": "stderr",
     "output_type": "stream",
     "text": [
      "c:\\Users\\Xuan Le\\OneDrive - National University of Singapore\\Documents\\University\\y4s2\\DSE4101 Capstone Project in DSE I\\Mutual-Funds-Forecasting\\venv\\Lib\\site-packages\\sklearn\\neural_network\\_multilayer_perceptron.py:691: ConvergenceWarning: Stochastic Optimizer: Maximum iterations (200) reached and the optimization hasn't converged yet.\n",
      "  warnings.warn(\n",
      "c:\\Users\\Xuan Le\\OneDrive - National University of Singapore\\Documents\\University\\y4s2\\DSE4101 Capstone Project in DSE I\\Mutual-Funds-Forecasting\\venv\\Lib\\site-packages\\sklearn\\neural_network\\_multilayer_perceptron.py:691: ConvergenceWarning: Stochastic Optimizer: Maximum iterations (200) reached and the optimization hasn't converged yet.\n",
      "  warnings.warn(\n"
     ]
    },
    {
     "name": "stdout",
     "output_type": "stream",
     "text": [
      "FFNN 5-Factor Fitted\n",
      "RF 3-Factor Fitted\n",
      "RF 4-Factor Fitted\n",
      "RF 5-Factor Fitted\n",
      "22 dates remaining\n",
      "Naive Fitted\n",
      "Linear Regression 3-Factor Fitted\n",
      "Linear Regression 4-Factor Fitted\n",
      "Linear Regression 5-Factor Fitted\n"
     ]
    },
    {
     "name": "stderr",
     "output_type": "stream",
     "text": [
      "c:\\Users\\Xuan Le\\OneDrive - National University of Singapore\\Documents\\University\\y4s2\\DSE4101 Capstone Project in DSE I\\Mutual-Funds-Forecasting\\venv\\Lib\\site-packages\\sklearn\\neural_network\\_multilayer_perceptron.py:691: ConvergenceWarning: Stochastic Optimizer: Maximum iterations (200) reached and the optimization hasn't converged yet.\n",
      "  warnings.warn(\n"
     ]
    },
    {
     "name": "stdout",
     "output_type": "stream",
     "text": [
      "FFNN 3-Factor Fitted\n"
     ]
    },
    {
     "name": "stderr",
     "output_type": "stream",
     "text": [
      "c:\\Users\\Xuan Le\\OneDrive - National University of Singapore\\Documents\\University\\y4s2\\DSE4101 Capstone Project in DSE I\\Mutual-Funds-Forecasting\\venv\\Lib\\site-packages\\sklearn\\neural_network\\_multilayer_perceptron.py:691: ConvergenceWarning: Stochastic Optimizer: Maximum iterations (200) reached and the optimization hasn't converged yet.\n",
      "  warnings.warn(\n"
     ]
    },
    {
     "name": "stdout",
     "output_type": "stream",
     "text": [
      "FFNN 4-Factor Fitted\n"
     ]
    },
    {
     "name": "stderr",
     "output_type": "stream",
     "text": [
      "c:\\Users\\Xuan Le\\OneDrive - National University of Singapore\\Documents\\University\\y4s2\\DSE4101 Capstone Project in DSE I\\Mutual-Funds-Forecasting\\venv\\Lib\\site-packages\\sklearn\\neural_network\\_multilayer_perceptron.py:691: ConvergenceWarning: Stochastic Optimizer: Maximum iterations (200) reached and the optimization hasn't converged yet.\n",
      "  warnings.warn(\n"
     ]
    },
    {
     "name": "stdout",
     "output_type": "stream",
     "text": [
      "FFNN 5-Factor Fitted\n",
      "RF 3-Factor Fitted\n",
      "RF 4-Factor Fitted\n",
      "RF 5-Factor Fitted\n",
      "21 dates remaining\n",
      "Naive Fitted\n",
      "Linear Regression 3-Factor Fitted\n",
      "Linear Regression 4-Factor Fitted\n",
      "Linear Regression 5-Factor Fitted\n"
     ]
    },
    {
     "name": "stderr",
     "output_type": "stream",
     "text": [
      "c:\\Users\\Xuan Le\\OneDrive - National University of Singapore\\Documents\\University\\y4s2\\DSE4101 Capstone Project in DSE I\\Mutual-Funds-Forecasting\\venv\\Lib\\site-packages\\sklearn\\neural_network\\_multilayer_perceptron.py:691: ConvergenceWarning: Stochastic Optimizer: Maximum iterations (200) reached and the optimization hasn't converged yet.\n",
      "  warnings.warn(\n"
     ]
    },
    {
     "name": "stdout",
     "output_type": "stream",
     "text": [
      "FFNN 3-Factor Fitted\n"
     ]
    },
    {
     "name": "stderr",
     "output_type": "stream",
     "text": [
      "c:\\Users\\Xuan Le\\OneDrive - National University of Singapore\\Documents\\University\\y4s2\\DSE4101 Capstone Project in DSE I\\Mutual-Funds-Forecasting\\venv\\Lib\\site-packages\\sklearn\\neural_network\\_multilayer_perceptron.py:691: ConvergenceWarning: Stochastic Optimizer: Maximum iterations (200) reached and the optimization hasn't converged yet.\n",
      "  warnings.warn(\n"
     ]
    },
    {
     "name": "stdout",
     "output_type": "stream",
     "text": [
      "FFNN 4-Factor Fitted\n"
     ]
    },
    {
     "name": "stderr",
     "output_type": "stream",
     "text": [
      "c:\\Users\\Xuan Le\\OneDrive - National University of Singapore\\Documents\\University\\y4s2\\DSE4101 Capstone Project in DSE I\\Mutual-Funds-Forecasting\\venv\\Lib\\site-packages\\sklearn\\neural_network\\_multilayer_perceptron.py:691: ConvergenceWarning: Stochastic Optimizer: Maximum iterations (200) reached and the optimization hasn't converged yet.\n",
      "  warnings.warn(\n"
     ]
    },
    {
     "name": "stdout",
     "output_type": "stream",
     "text": [
      "FFNN 5-Factor Fitted\n",
      "RF 3-Factor Fitted\n",
      "RF 4-Factor Fitted\n",
      "RF 5-Factor Fitted\n",
      "20 dates remaining\n",
      "Naive Fitted\n",
      "Linear Regression 3-Factor Fitted\n",
      "Linear Regression 4-Factor Fitted\n",
      "Linear Regression 5-Factor Fitted\n"
     ]
    },
    {
     "name": "stderr",
     "output_type": "stream",
     "text": [
      "c:\\Users\\Xuan Le\\OneDrive - National University of Singapore\\Documents\\University\\y4s2\\DSE4101 Capstone Project in DSE I\\Mutual-Funds-Forecasting\\venv\\Lib\\site-packages\\sklearn\\neural_network\\_multilayer_perceptron.py:691: ConvergenceWarning: Stochastic Optimizer: Maximum iterations (200) reached and the optimization hasn't converged yet.\n",
      "  warnings.warn(\n"
     ]
    },
    {
     "name": "stdout",
     "output_type": "stream",
     "text": [
      "FFNN 3-Factor Fitted\n"
     ]
    },
    {
     "name": "stderr",
     "output_type": "stream",
     "text": [
      "c:\\Users\\Xuan Le\\OneDrive - National University of Singapore\\Documents\\University\\y4s2\\DSE4101 Capstone Project in DSE I\\Mutual-Funds-Forecasting\\venv\\Lib\\site-packages\\sklearn\\neural_network\\_multilayer_perceptron.py:691: ConvergenceWarning: Stochastic Optimizer: Maximum iterations (200) reached and the optimization hasn't converged yet.\n",
      "  warnings.warn(\n"
     ]
    },
    {
     "name": "stdout",
     "output_type": "stream",
     "text": [
      "FFNN 4-Factor Fitted\n"
     ]
    },
    {
     "name": "stderr",
     "output_type": "stream",
     "text": [
      "c:\\Users\\Xuan Le\\OneDrive - National University of Singapore\\Documents\\University\\y4s2\\DSE4101 Capstone Project in DSE I\\Mutual-Funds-Forecasting\\venv\\Lib\\site-packages\\sklearn\\neural_network\\_multilayer_perceptron.py:691: ConvergenceWarning: Stochastic Optimizer: Maximum iterations (200) reached and the optimization hasn't converged yet.\n",
      "  warnings.warn(\n"
     ]
    },
    {
     "name": "stdout",
     "output_type": "stream",
     "text": [
      "FFNN 5-Factor Fitted\n",
      "RF 3-Factor Fitted\n",
      "RF 4-Factor Fitted\n",
      "RF 5-Factor Fitted\n",
      "19 dates remaining\n",
      "Naive Fitted\n",
      "Linear Regression 3-Factor Fitted\n",
      "Linear Regression 4-Factor Fitted\n",
      "Linear Regression 5-Factor Fitted\n"
     ]
    },
    {
     "name": "stderr",
     "output_type": "stream",
     "text": [
      "c:\\Users\\Xuan Le\\OneDrive - National University of Singapore\\Documents\\University\\y4s2\\DSE4101 Capstone Project in DSE I\\Mutual-Funds-Forecasting\\venv\\Lib\\site-packages\\sklearn\\neural_network\\_multilayer_perceptron.py:691: ConvergenceWarning: Stochastic Optimizer: Maximum iterations (200) reached and the optimization hasn't converged yet.\n",
      "  warnings.warn(\n"
     ]
    },
    {
     "name": "stdout",
     "output_type": "stream",
     "text": [
      "FFNN 3-Factor Fitted\n"
     ]
    },
    {
     "name": "stderr",
     "output_type": "stream",
     "text": [
      "c:\\Users\\Xuan Le\\OneDrive - National University of Singapore\\Documents\\University\\y4s2\\DSE4101 Capstone Project in DSE I\\Mutual-Funds-Forecasting\\venv\\Lib\\site-packages\\sklearn\\neural_network\\_multilayer_perceptron.py:691: ConvergenceWarning: Stochastic Optimizer: Maximum iterations (200) reached and the optimization hasn't converged yet.\n",
      "  warnings.warn(\n"
     ]
    },
    {
     "name": "stdout",
     "output_type": "stream",
     "text": [
      "FFNN 4-Factor Fitted\n"
     ]
    },
    {
     "name": "stderr",
     "output_type": "stream",
     "text": [
      "c:\\Users\\Xuan Le\\OneDrive - National University of Singapore\\Documents\\University\\y4s2\\DSE4101 Capstone Project in DSE I\\Mutual-Funds-Forecasting\\venv\\Lib\\site-packages\\sklearn\\neural_network\\_multilayer_perceptron.py:691: ConvergenceWarning: Stochastic Optimizer: Maximum iterations (200) reached and the optimization hasn't converged yet.\n",
      "  warnings.warn(\n"
     ]
    },
    {
     "name": "stdout",
     "output_type": "stream",
     "text": [
      "FFNN 5-Factor Fitted\n",
      "RF 3-Factor Fitted\n",
      "RF 4-Factor Fitted\n",
      "RF 5-Factor Fitted\n",
      "18 dates remaining\n",
      "Naive Fitted\n",
      "Linear Regression 3-Factor Fitted\n",
      "Linear Regression 4-Factor Fitted\n",
      "Linear Regression 5-Factor Fitted\n"
     ]
    },
    {
     "name": "stderr",
     "output_type": "stream",
     "text": [
      "c:\\Users\\Xuan Le\\OneDrive - National University of Singapore\\Documents\\University\\y4s2\\DSE4101 Capstone Project in DSE I\\Mutual-Funds-Forecasting\\venv\\Lib\\site-packages\\sklearn\\neural_network\\_multilayer_perceptron.py:691: ConvergenceWarning: Stochastic Optimizer: Maximum iterations (200) reached and the optimization hasn't converged yet.\n",
      "  warnings.warn(\n"
     ]
    },
    {
     "name": "stdout",
     "output_type": "stream",
     "text": [
      "FFNN 3-Factor Fitted\n"
     ]
    },
    {
     "name": "stderr",
     "output_type": "stream",
     "text": [
      "c:\\Users\\Xuan Le\\OneDrive - National University of Singapore\\Documents\\University\\y4s2\\DSE4101 Capstone Project in DSE I\\Mutual-Funds-Forecasting\\venv\\Lib\\site-packages\\sklearn\\neural_network\\_multilayer_perceptron.py:691: ConvergenceWarning: Stochastic Optimizer: Maximum iterations (200) reached and the optimization hasn't converged yet.\n",
      "  warnings.warn(\n"
     ]
    },
    {
     "name": "stdout",
     "output_type": "stream",
     "text": [
      "FFNN 4-Factor Fitted\n"
     ]
    },
    {
     "name": "stderr",
     "output_type": "stream",
     "text": [
      "c:\\Users\\Xuan Le\\OneDrive - National University of Singapore\\Documents\\University\\y4s2\\DSE4101 Capstone Project in DSE I\\Mutual-Funds-Forecasting\\venv\\Lib\\site-packages\\sklearn\\neural_network\\_multilayer_perceptron.py:691: ConvergenceWarning: Stochastic Optimizer: Maximum iterations (200) reached and the optimization hasn't converged yet.\n",
      "  warnings.warn(\n"
     ]
    },
    {
     "name": "stdout",
     "output_type": "stream",
     "text": [
      "FFNN 5-Factor Fitted\n",
      "RF 3-Factor Fitted\n",
      "RF 4-Factor Fitted\n",
      "RF 5-Factor Fitted\n",
      "17 dates remaining\n",
      "Naive Fitted\n",
      "Linear Regression 3-Factor Fitted\n",
      "Linear Regression 4-Factor Fitted\n",
      "Linear Regression 5-Factor Fitted\n"
     ]
    },
    {
     "name": "stderr",
     "output_type": "stream",
     "text": [
      "c:\\Users\\Xuan Le\\OneDrive - National University of Singapore\\Documents\\University\\y4s2\\DSE4101 Capstone Project in DSE I\\Mutual-Funds-Forecasting\\venv\\Lib\\site-packages\\sklearn\\neural_network\\_multilayer_perceptron.py:691: ConvergenceWarning: Stochastic Optimizer: Maximum iterations (200) reached and the optimization hasn't converged yet.\n",
      "  warnings.warn(\n"
     ]
    },
    {
     "name": "stdout",
     "output_type": "stream",
     "text": [
      "FFNN 3-Factor Fitted\n"
     ]
    },
    {
     "name": "stderr",
     "output_type": "stream",
     "text": [
      "c:\\Users\\Xuan Le\\OneDrive - National University of Singapore\\Documents\\University\\y4s2\\DSE4101 Capstone Project in DSE I\\Mutual-Funds-Forecasting\\venv\\Lib\\site-packages\\sklearn\\neural_network\\_multilayer_perceptron.py:691: ConvergenceWarning: Stochastic Optimizer: Maximum iterations (200) reached and the optimization hasn't converged yet.\n",
      "  warnings.warn(\n"
     ]
    },
    {
     "name": "stdout",
     "output_type": "stream",
     "text": [
      "FFNN 4-Factor Fitted\n"
     ]
    },
    {
     "name": "stderr",
     "output_type": "stream",
     "text": [
      "c:\\Users\\Xuan Le\\OneDrive - National University of Singapore\\Documents\\University\\y4s2\\DSE4101 Capstone Project in DSE I\\Mutual-Funds-Forecasting\\venv\\Lib\\site-packages\\sklearn\\neural_network\\_multilayer_perceptron.py:691: ConvergenceWarning: Stochastic Optimizer: Maximum iterations (200) reached and the optimization hasn't converged yet.\n",
      "  warnings.warn(\n"
     ]
    },
    {
     "name": "stdout",
     "output_type": "stream",
     "text": [
      "FFNN 5-Factor Fitted\n",
      "RF 3-Factor Fitted\n",
      "RF 4-Factor Fitted\n",
      "RF 5-Factor Fitted\n",
      "16 dates remaining\n",
      "Naive Fitted\n",
      "Linear Regression 3-Factor Fitted\n",
      "Linear Regression 4-Factor Fitted\n",
      "Linear Regression 5-Factor Fitted\n"
     ]
    },
    {
     "name": "stderr",
     "output_type": "stream",
     "text": [
      "c:\\Users\\Xuan Le\\OneDrive - National University of Singapore\\Documents\\University\\y4s2\\DSE4101 Capstone Project in DSE I\\Mutual-Funds-Forecasting\\venv\\Lib\\site-packages\\sklearn\\neural_network\\_multilayer_perceptron.py:691: ConvergenceWarning: Stochastic Optimizer: Maximum iterations (200) reached and the optimization hasn't converged yet.\n",
      "  warnings.warn(\n"
     ]
    },
    {
     "name": "stdout",
     "output_type": "stream",
     "text": [
      "FFNN 3-Factor Fitted\n"
     ]
    },
    {
     "name": "stderr",
     "output_type": "stream",
     "text": [
      "c:\\Users\\Xuan Le\\OneDrive - National University of Singapore\\Documents\\University\\y4s2\\DSE4101 Capstone Project in DSE I\\Mutual-Funds-Forecasting\\venv\\Lib\\site-packages\\sklearn\\neural_network\\_multilayer_perceptron.py:691: ConvergenceWarning: Stochastic Optimizer: Maximum iterations (200) reached and the optimization hasn't converged yet.\n",
      "  warnings.warn(\n"
     ]
    },
    {
     "name": "stdout",
     "output_type": "stream",
     "text": [
      "FFNN 4-Factor Fitted\n"
     ]
    },
    {
     "name": "stderr",
     "output_type": "stream",
     "text": [
      "c:\\Users\\Xuan Le\\OneDrive - National University of Singapore\\Documents\\University\\y4s2\\DSE4101 Capstone Project in DSE I\\Mutual-Funds-Forecasting\\venv\\Lib\\site-packages\\sklearn\\neural_network\\_multilayer_perceptron.py:691: ConvergenceWarning: Stochastic Optimizer: Maximum iterations (200) reached and the optimization hasn't converged yet.\n",
      "  warnings.warn(\n"
     ]
    },
    {
     "name": "stdout",
     "output_type": "stream",
     "text": [
      "FFNN 5-Factor Fitted\n",
      "RF 3-Factor Fitted\n",
      "RF 4-Factor Fitted\n",
      "RF 5-Factor Fitted\n",
      "15 dates remaining\n",
      "Naive Fitted\n",
      "Linear Regression 3-Factor Fitted\n",
      "Linear Regression 4-Factor Fitted\n",
      "Linear Regression 5-Factor Fitted\n"
     ]
    },
    {
     "name": "stderr",
     "output_type": "stream",
     "text": [
      "c:\\Users\\Xuan Le\\OneDrive - National University of Singapore\\Documents\\University\\y4s2\\DSE4101 Capstone Project in DSE I\\Mutual-Funds-Forecasting\\venv\\Lib\\site-packages\\sklearn\\neural_network\\_multilayer_perceptron.py:691: ConvergenceWarning: Stochastic Optimizer: Maximum iterations (200) reached and the optimization hasn't converged yet.\n",
      "  warnings.warn(\n"
     ]
    },
    {
     "name": "stdout",
     "output_type": "stream",
     "text": [
      "FFNN 3-Factor Fitted\n"
     ]
    },
    {
     "name": "stderr",
     "output_type": "stream",
     "text": [
      "c:\\Users\\Xuan Le\\OneDrive - National University of Singapore\\Documents\\University\\y4s2\\DSE4101 Capstone Project in DSE I\\Mutual-Funds-Forecasting\\venv\\Lib\\site-packages\\sklearn\\neural_network\\_multilayer_perceptron.py:691: ConvergenceWarning: Stochastic Optimizer: Maximum iterations (200) reached and the optimization hasn't converged yet.\n",
      "  warnings.warn(\n"
     ]
    },
    {
     "name": "stdout",
     "output_type": "stream",
     "text": [
      "FFNN 4-Factor Fitted\n"
     ]
    },
    {
     "name": "stderr",
     "output_type": "stream",
     "text": [
      "c:\\Users\\Xuan Le\\OneDrive - National University of Singapore\\Documents\\University\\y4s2\\DSE4101 Capstone Project in DSE I\\Mutual-Funds-Forecasting\\venv\\Lib\\site-packages\\sklearn\\neural_network\\_multilayer_perceptron.py:691: ConvergenceWarning: Stochastic Optimizer: Maximum iterations (200) reached and the optimization hasn't converged yet.\n",
      "  warnings.warn(\n"
     ]
    },
    {
     "name": "stdout",
     "output_type": "stream",
     "text": [
      "FFNN 5-Factor Fitted\n",
      "RF 3-Factor Fitted\n",
      "RF 4-Factor Fitted\n",
      "RF 5-Factor Fitted\n",
      "14 dates remaining\n",
      "Naive Fitted\n",
      "Linear Regression 3-Factor Fitted\n",
      "Linear Regression 4-Factor Fitted\n",
      "Linear Regression 5-Factor Fitted\n"
     ]
    },
    {
     "name": "stderr",
     "output_type": "stream",
     "text": [
      "c:\\Users\\Xuan Le\\OneDrive - National University of Singapore\\Documents\\University\\y4s2\\DSE4101 Capstone Project in DSE I\\Mutual-Funds-Forecasting\\venv\\Lib\\site-packages\\sklearn\\neural_network\\_multilayer_perceptron.py:691: ConvergenceWarning: Stochastic Optimizer: Maximum iterations (200) reached and the optimization hasn't converged yet.\n",
      "  warnings.warn(\n"
     ]
    },
    {
     "name": "stdout",
     "output_type": "stream",
     "text": [
      "FFNN 3-Factor Fitted\n"
     ]
    },
    {
     "name": "stderr",
     "output_type": "stream",
     "text": [
      "c:\\Users\\Xuan Le\\OneDrive - National University of Singapore\\Documents\\University\\y4s2\\DSE4101 Capstone Project in DSE I\\Mutual-Funds-Forecasting\\venv\\Lib\\site-packages\\sklearn\\neural_network\\_multilayer_perceptron.py:691: ConvergenceWarning: Stochastic Optimizer: Maximum iterations (200) reached and the optimization hasn't converged yet.\n",
      "  warnings.warn(\n"
     ]
    },
    {
     "name": "stdout",
     "output_type": "stream",
     "text": [
      "FFNN 4-Factor Fitted\n"
     ]
    },
    {
     "name": "stderr",
     "output_type": "stream",
     "text": [
      "c:\\Users\\Xuan Le\\OneDrive - National University of Singapore\\Documents\\University\\y4s2\\DSE4101 Capstone Project in DSE I\\Mutual-Funds-Forecasting\\venv\\Lib\\site-packages\\sklearn\\neural_network\\_multilayer_perceptron.py:691: ConvergenceWarning: Stochastic Optimizer: Maximum iterations (200) reached and the optimization hasn't converged yet.\n",
      "  warnings.warn(\n"
     ]
    },
    {
     "name": "stdout",
     "output_type": "stream",
     "text": [
      "FFNN 5-Factor Fitted\n",
      "RF 3-Factor Fitted\n",
      "RF 4-Factor Fitted\n",
      "RF 5-Factor Fitted\n",
      "13 dates remaining\n",
      "Naive Fitted\n",
      "Linear Regression 3-Factor Fitted\n",
      "Linear Regression 4-Factor Fitted\n",
      "Linear Regression 5-Factor Fitted\n"
     ]
    },
    {
     "name": "stderr",
     "output_type": "stream",
     "text": [
      "c:\\Users\\Xuan Le\\OneDrive - National University of Singapore\\Documents\\University\\y4s2\\DSE4101 Capstone Project in DSE I\\Mutual-Funds-Forecasting\\venv\\Lib\\site-packages\\sklearn\\neural_network\\_multilayer_perceptron.py:691: ConvergenceWarning: Stochastic Optimizer: Maximum iterations (200) reached and the optimization hasn't converged yet.\n",
      "  warnings.warn(\n"
     ]
    },
    {
     "name": "stdout",
     "output_type": "stream",
     "text": [
      "FFNN 3-Factor Fitted\n"
     ]
    },
    {
     "name": "stderr",
     "output_type": "stream",
     "text": [
      "c:\\Users\\Xuan Le\\OneDrive - National University of Singapore\\Documents\\University\\y4s2\\DSE4101 Capstone Project in DSE I\\Mutual-Funds-Forecasting\\venv\\Lib\\site-packages\\sklearn\\neural_network\\_multilayer_perceptron.py:691: ConvergenceWarning: Stochastic Optimizer: Maximum iterations (200) reached and the optimization hasn't converged yet.\n",
      "  warnings.warn(\n"
     ]
    },
    {
     "name": "stdout",
     "output_type": "stream",
     "text": [
      "FFNN 4-Factor Fitted\n"
     ]
    },
    {
     "name": "stderr",
     "output_type": "stream",
     "text": [
      "c:\\Users\\Xuan Le\\OneDrive - National University of Singapore\\Documents\\University\\y4s2\\DSE4101 Capstone Project in DSE I\\Mutual-Funds-Forecasting\\venv\\Lib\\site-packages\\sklearn\\neural_network\\_multilayer_perceptron.py:691: ConvergenceWarning: Stochastic Optimizer: Maximum iterations (200) reached and the optimization hasn't converged yet.\n",
      "  warnings.warn(\n"
     ]
    },
    {
     "name": "stdout",
     "output_type": "stream",
     "text": [
      "FFNN 5-Factor Fitted\n",
      "RF 3-Factor Fitted\n",
      "RF 4-Factor Fitted\n",
      "RF 5-Factor Fitted\n",
      "12 dates remaining\n",
      "Naive Fitted\n",
      "Linear Regression 3-Factor Fitted\n",
      "Linear Regression 4-Factor Fitted\n",
      "Linear Regression 5-Factor Fitted\n"
     ]
    },
    {
     "name": "stderr",
     "output_type": "stream",
     "text": [
      "c:\\Users\\Xuan Le\\OneDrive - National University of Singapore\\Documents\\University\\y4s2\\DSE4101 Capstone Project in DSE I\\Mutual-Funds-Forecasting\\venv\\Lib\\site-packages\\sklearn\\neural_network\\_multilayer_perceptron.py:691: ConvergenceWarning: Stochastic Optimizer: Maximum iterations (200) reached and the optimization hasn't converged yet.\n",
      "  warnings.warn(\n"
     ]
    },
    {
     "name": "stdout",
     "output_type": "stream",
     "text": [
      "FFNN 3-Factor Fitted\n"
     ]
    },
    {
     "name": "stderr",
     "output_type": "stream",
     "text": [
      "c:\\Users\\Xuan Le\\OneDrive - National University of Singapore\\Documents\\University\\y4s2\\DSE4101 Capstone Project in DSE I\\Mutual-Funds-Forecasting\\venv\\Lib\\site-packages\\sklearn\\neural_network\\_multilayer_perceptron.py:691: ConvergenceWarning: Stochastic Optimizer: Maximum iterations (200) reached and the optimization hasn't converged yet.\n",
      "  warnings.warn(\n"
     ]
    },
    {
     "name": "stdout",
     "output_type": "stream",
     "text": [
      "FFNN 4-Factor Fitted\n"
     ]
    },
    {
     "name": "stderr",
     "output_type": "stream",
     "text": [
      "c:\\Users\\Xuan Le\\OneDrive - National University of Singapore\\Documents\\University\\y4s2\\DSE4101 Capstone Project in DSE I\\Mutual-Funds-Forecasting\\venv\\Lib\\site-packages\\sklearn\\neural_network\\_multilayer_perceptron.py:691: ConvergenceWarning: Stochastic Optimizer: Maximum iterations (200) reached and the optimization hasn't converged yet.\n",
      "  warnings.warn(\n"
     ]
    },
    {
     "name": "stdout",
     "output_type": "stream",
     "text": [
      "FFNN 5-Factor Fitted\n",
      "RF 3-Factor Fitted\n",
      "RF 4-Factor Fitted\n",
      "RF 5-Factor Fitted\n",
      "11 dates remaining\n",
      "Naive Fitted\n",
      "Linear Regression 3-Factor Fitted\n",
      "Linear Regression 4-Factor Fitted\n",
      "Linear Regression 5-Factor Fitted\n"
     ]
    },
    {
     "name": "stderr",
     "output_type": "stream",
     "text": [
      "c:\\Users\\Xuan Le\\OneDrive - National University of Singapore\\Documents\\University\\y4s2\\DSE4101 Capstone Project in DSE I\\Mutual-Funds-Forecasting\\venv\\Lib\\site-packages\\sklearn\\neural_network\\_multilayer_perceptron.py:691: ConvergenceWarning: Stochastic Optimizer: Maximum iterations (200) reached and the optimization hasn't converged yet.\n",
      "  warnings.warn(\n"
     ]
    },
    {
     "name": "stdout",
     "output_type": "stream",
     "text": [
      "FFNN 3-Factor Fitted\n"
     ]
    },
    {
     "name": "stderr",
     "output_type": "stream",
     "text": [
      "c:\\Users\\Xuan Le\\OneDrive - National University of Singapore\\Documents\\University\\y4s2\\DSE4101 Capstone Project in DSE I\\Mutual-Funds-Forecasting\\venv\\Lib\\site-packages\\sklearn\\neural_network\\_multilayer_perceptron.py:691: ConvergenceWarning: Stochastic Optimizer: Maximum iterations (200) reached and the optimization hasn't converged yet.\n",
      "  warnings.warn(\n"
     ]
    },
    {
     "name": "stdout",
     "output_type": "stream",
     "text": [
      "FFNN 4-Factor Fitted\n"
     ]
    },
    {
     "name": "stderr",
     "output_type": "stream",
     "text": [
      "c:\\Users\\Xuan Le\\OneDrive - National University of Singapore\\Documents\\University\\y4s2\\DSE4101 Capstone Project in DSE I\\Mutual-Funds-Forecasting\\venv\\Lib\\site-packages\\sklearn\\neural_network\\_multilayer_perceptron.py:691: ConvergenceWarning: Stochastic Optimizer: Maximum iterations (200) reached and the optimization hasn't converged yet.\n",
      "  warnings.warn(\n"
     ]
    },
    {
     "name": "stdout",
     "output_type": "stream",
     "text": [
      "FFNN 5-Factor Fitted\n",
      "RF 3-Factor Fitted\n",
      "RF 4-Factor Fitted\n",
      "RF 5-Factor Fitted\n",
      "10 dates remaining\n",
      "Naive Fitted\n",
      "Linear Regression 3-Factor Fitted\n",
      "Linear Regression 4-Factor Fitted\n",
      "Linear Regression 5-Factor Fitted\n"
     ]
    },
    {
     "name": "stderr",
     "output_type": "stream",
     "text": [
      "c:\\Users\\Xuan Le\\OneDrive - National University of Singapore\\Documents\\University\\y4s2\\DSE4101 Capstone Project in DSE I\\Mutual-Funds-Forecasting\\venv\\Lib\\site-packages\\sklearn\\neural_network\\_multilayer_perceptron.py:691: ConvergenceWarning: Stochastic Optimizer: Maximum iterations (200) reached and the optimization hasn't converged yet.\n",
      "  warnings.warn(\n"
     ]
    },
    {
     "name": "stdout",
     "output_type": "stream",
     "text": [
      "FFNN 3-Factor Fitted\n"
     ]
    },
    {
     "name": "stderr",
     "output_type": "stream",
     "text": [
      "c:\\Users\\Xuan Le\\OneDrive - National University of Singapore\\Documents\\University\\y4s2\\DSE4101 Capstone Project in DSE I\\Mutual-Funds-Forecasting\\venv\\Lib\\site-packages\\sklearn\\neural_network\\_multilayer_perceptron.py:691: ConvergenceWarning: Stochastic Optimizer: Maximum iterations (200) reached and the optimization hasn't converged yet.\n",
      "  warnings.warn(\n"
     ]
    },
    {
     "name": "stdout",
     "output_type": "stream",
     "text": [
      "FFNN 4-Factor Fitted\n"
     ]
    },
    {
     "name": "stderr",
     "output_type": "stream",
     "text": [
      "c:\\Users\\Xuan Le\\OneDrive - National University of Singapore\\Documents\\University\\y4s2\\DSE4101 Capstone Project in DSE I\\Mutual-Funds-Forecasting\\venv\\Lib\\site-packages\\sklearn\\neural_network\\_multilayer_perceptron.py:691: ConvergenceWarning: Stochastic Optimizer: Maximum iterations (200) reached and the optimization hasn't converged yet.\n",
      "  warnings.warn(\n"
     ]
    },
    {
     "name": "stdout",
     "output_type": "stream",
     "text": [
      "FFNN 5-Factor Fitted\n",
      "RF 3-Factor Fitted\n",
      "RF 4-Factor Fitted\n",
      "RF 5-Factor Fitted\n",
      "9 dates remaining\n",
      "Naive Fitted\n",
      "Linear Regression 3-Factor Fitted\n",
      "Linear Regression 4-Factor Fitted\n",
      "Linear Regression 5-Factor Fitted\n"
     ]
    },
    {
     "name": "stderr",
     "output_type": "stream",
     "text": [
      "c:\\Users\\Xuan Le\\OneDrive - National University of Singapore\\Documents\\University\\y4s2\\DSE4101 Capstone Project in DSE I\\Mutual-Funds-Forecasting\\venv\\Lib\\site-packages\\sklearn\\neural_network\\_multilayer_perceptron.py:691: ConvergenceWarning: Stochastic Optimizer: Maximum iterations (200) reached and the optimization hasn't converged yet.\n",
      "  warnings.warn(\n"
     ]
    },
    {
     "name": "stdout",
     "output_type": "stream",
     "text": [
      "FFNN 3-Factor Fitted\n"
     ]
    },
    {
     "name": "stderr",
     "output_type": "stream",
     "text": [
      "c:\\Users\\Xuan Le\\OneDrive - National University of Singapore\\Documents\\University\\y4s2\\DSE4101 Capstone Project in DSE I\\Mutual-Funds-Forecasting\\venv\\Lib\\site-packages\\sklearn\\neural_network\\_multilayer_perceptron.py:691: ConvergenceWarning: Stochastic Optimizer: Maximum iterations (200) reached and the optimization hasn't converged yet.\n",
      "  warnings.warn(\n"
     ]
    },
    {
     "name": "stdout",
     "output_type": "stream",
     "text": [
      "FFNN 4-Factor Fitted\n"
     ]
    },
    {
     "name": "stderr",
     "output_type": "stream",
     "text": [
      "c:\\Users\\Xuan Le\\OneDrive - National University of Singapore\\Documents\\University\\y4s2\\DSE4101 Capstone Project in DSE I\\Mutual-Funds-Forecasting\\venv\\Lib\\site-packages\\sklearn\\neural_network\\_multilayer_perceptron.py:691: ConvergenceWarning: Stochastic Optimizer: Maximum iterations (200) reached and the optimization hasn't converged yet.\n",
      "  warnings.warn(\n"
     ]
    },
    {
     "name": "stdout",
     "output_type": "stream",
     "text": [
      "FFNN 5-Factor Fitted\n",
      "RF 3-Factor Fitted\n",
      "RF 4-Factor Fitted\n",
      "RF 5-Factor Fitted\n",
      "8 dates remaining\n",
      "Naive Fitted\n",
      "Linear Regression 3-Factor Fitted\n",
      "Linear Regression 4-Factor Fitted\n",
      "Linear Regression 5-Factor Fitted\n"
     ]
    },
    {
     "name": "stderr",
     "output_type": "stream",
     "text": [
      "c:\\Users\\Xuan Le\\OneDrive - National University of Singapore\\Documents\\University\\y4s2\\DSE4101 Capstone Project in DSE I\\Mutual-Funds-Forecasting\\venv\\Lib\\site-packages\\sklearn\\neural_network\\_multilayer_perceptron.py:691: ConvergenceWarning: Stochastic Optimizer: Maximum iterations (200) reached and the optimization hasn't converged yet.\n",
      "  warnings.warn(\n"
     ]
    },
    {
     "name": "stdout",
     "output_type": "stream",
     "text": [
      "FFNN 3-Factor Fitted\n"
     ]
    },
    {
     "name": "stderr",
     "output_type": "stream",
     "text": [
      "c:\\Users\\Xuan Le\\OneDrive - National University of Singapore\\Documents\\University\\y4s2\\DSE4101 Capstone Project in DSE I\\Mutual-Funds-Forecasting\\venv\\Lib\\site-packages\\sklearn\\neural_network\\_multilayer_perceptron.py:691: ConvergenceWarning: Stochastic Optimizer: Maximum iterations (200) reached and the optimization hasn't converged yet.\n",
      "  warnings.warn(\n"
     ]
    },
    {
     "name": "stdout",
     "output_type": "stream",
     "text": [
      "FFNN 4-Factor Fitted\n"
     ]
    },
    {
     "name": "stderr",
     "output_type": "stream",
     "text": [
      "c:\\Users\\Xuan Le\\OneDrive - National University of Singapore\\Documents\\University\\y4s2\\DSE4101 Capstone Project in DSE I\\Mutual-Funds-Forecasting\\venv\\Lib\\site-packages\\sklearn\\neural_network\\_multilayer_perceptron.py:691: ConvergenceWarning: Stochastic Optimizer: Maximum iterations (200) reached and the optimization hasn't converged yet.\n",
      "  warnings.warn(\n"
     ]
    },
    {
     "name": "stdout",
     "output_type": "stream",
     "text": [
      "FFNN 5-Factor Fitted\n",
      "RF 3-Factor Fitted\n",
      "RF 4-Factor Fitted\n",
      "RF 5-Factor Fitted\n",
      "7 dates remaining\n",
      "Naive Fitted\n",
      "Linear Regression 3-Factor Fitted\n",
      "Linear Regression 4-Factor Fitted\n",
      "Linear Regression 5-Factor Fitted\n"
     ]
    },
    {
     "name": "stderr",
     "output_type": "stream",
     "text": [
      "c:\\Users\\Xuan Le\\OneDrive - National University of Singapore\\Documents\\University\\y4s2\\DSE4101 Capstone Project in DSE I\\Mutual-Funds-Forecasting\\venv\\Lib\\site-packages\\sklearn\\neural_network\\_multilayer_perceptron.py:691: ConvergenceWarning: Stochastic Optimizer: Maximum iterations (200) reached and the optimization hasn't converged yet.\n",
      "  warnings.warn(\n"
     ]
    },
    {
     "name": "stdout",
     "output_type": "stream",
     "text": [
      "FFNN 3-Factor Fitted\n"
     ]
    },
    {
     "name": "stderr",
     "output_type": "stream",
     "text": [
      "c:\\Users\\Xuan Le\\OneDrive - National University of Singapore\\Documents\\University\\y4s2\\DSE4101 Capstone Project in DSE I\\Mutual-Funds-Forecasting\\venv\\Lib\\site-packages\\sklearn\\neural_network\\_multilayer_perceptron.py:691: ConvergenceWarning: Stochastic Optimizer: Maximum iterations (200) reached and the optimization hasn't converged yet.\n",
      "  warnings.warn(\n"
     ]
    },
    {
     "name": "stdout",
     "output_type": "stream",
     "text": [
      "FFNN 4-Factor Fitted\n"
     ]
    },
    {
     "name": "stderr",
     "output_type": "stream",
     "text": [
      "c:\\Users\\Xuan Le\\OneDrive - National University of Singapore\\Documents\\University\\y4s2\\DSE4101 Capstone Project in DSE I\\Mutual-Funds-Forecasting\\venv\\Lib\\site-packages\\sklearn\\neural_network\\_multilayer_perceptron.py:691: ConvergenceWarning: Stochastic Optimizer: Maximum iterations (200) reached and the optimization hasn't converged yet.\n",
      "  warnings.warn(\n"
     ]
    },
    {
     "name": "stdout",
     "output_type": "stream",
     "text": [
      "FFNN 5-Factor Fitted\n",
      "RF 3-Factor Fitted\n",
      "RF 4-Factor Fitted\n",
      "RF 5-Factor Fitted\n",
      "6 dates remaining\n",
      "Naive Fitted\n",
      "Linear Regression 3-Factor Fitted\n",
      "Linear Regression 4-Factor Fitted\n",
      "Linear Regression 5-Factor Fitted\n"
     ]
    },
    {
     "name": "stderr",
     "output_type": "stream",
     "text": [
      "c:\\Users\\Xuan Le\\OneDrive - National University of Singapore\\Documents\\University\\y4s2\\DSE4101 Capstone Project in DSE I\\Mutual-Funds-Forecasting\\venv\\Lib\\site-packages\\sklearn\\neural_network\\_multilayer_perceptron.py:691: ConvergenceWarning: Stochastic Optimizer: Maximum iterations (200) reached and the optimization hasn't converged yet.\n",
      "  warnings.warn(\n"
     ]
    },
    {
     "name": "stdout",
     "output_type": "stream",
     "text": [
      "FFNN 3-Factor Fitted\n"
     ]
    },
    {
     "name": "stderr",
     "output_type": "stream",
     "text": [
      "c:\\Users\\Xuan Le\\OneDrive - National University of Singapore\\Documents\\University\\y4s2\\DSE4101 Capstone Project in DSE I\\Mutual-Funds-Forecasting\\venv\\Lib\\site-packages\\sklearn\\neural_network\\_multilayer_perceptron.py:691: ConvergenceWarning: Stochastic Optimizer: Maximum iterations (200) reached and the optimization hasn't converged yet.\n",
      "  warnings.warn(\n"
     ]
    },
    {
     "name": "stdout",
     "output_type": "stream",
     "text": [
      "FFNN 4-Factor Fitted\n"
     ]
    },
    {
     "name": "stderr",
     "output_type": "stream",
     "text": [
      "c:\\Users\\Xuan Le\\OneDrive - National University of Singapore\\Documents\\University\\y4s2\\DSE4101 Capstone Project in DSE I\\Mutual-Funds-Forecasting\\venv\\Lib\\site-packages\\sklearn\\neural_network\\_multilayer_perceptron.py:691: ConvergenceWarning: Stochastic Optimizer: Maximum iterations (200) reached and the optimization hasn't converged yet.\n",
      "  warnings.warn(\n"
     ]
    },
    {
     "name": "stdout",
     "output_type": "stream",
     "text": [
      "FFNN 5-Factor Fitted\n",
      "RF 3-Factor Fitted\n",
      "RF 4-Factor Fitted\n",
      "RF 5-Factor Fitted\n",
      "5 dates remaining\n",
      "Naive Fitted\n",
      "Linear Regression 3-Factor Fitted\n",
      "Linear Regression 4-Factor Fitted\n",
      "Linear Regression 5-Factor Fitted\n"
     ]
    },
    {
     "name": "stderr",
     "output_type": "stream",
     "text": [
      "c:\\Users\\Xuan Le\\OneDrive - National University of Singapore\\Documents\\University\\y4s2\\DSE4101 Capstone Project in DSE I\\Mutual-Funds-Forecasting\\venv\\Lib\\site-packages\\sklearn\\neural_network\\_multilayer_perceptron.py:691: ConvergenceWarning: Stochastic Optimizer: Maximum iterations (200) reached and the optimization hasn't converged yet.\n",
      "  warnings.warn(\n"
     ]
    },
    {
     "name": "stdout",
     "output_type": "stream",
     "text": [
      "FFNN 3-Factor Fitted\n"
     ]
    },
    {
     "name": "stderr",
     "output_type": "stream",
     "text": [
      "c:\\Users\\Xuan Le\\OneDrive - National University of Singapore\\Documents\\University\\y4s2\\DSE4101 Capstone Project in DSE I\\Mutual-Funds-Forecasting\\venv\\Lib\\site-packages\\sklearn\\neural_network\\_multilayer_perceptron.py:691: ConvergenceWarning: Stochastic Optimizer: Maximum iterations (200) reached and the optimization hasn't converged yet.\n",
      "  warnings.warn(\n"
     ]
    },
    {
     "name": "stdout",
     "output_type": "stream",
     "text": [
      "FFNN 4-Factor Fitted\n"
     ]
    },
    {
     "name": "stderr",
     "output_type": "stream",
     "text": [
      "c:\\Users\\Xuan Le\\OneDrive - National University of Singapore\\Documents\\University\\y4s2\\DSE4101 Capstone Project in DSE I\\Mutual-Funds-Forecasting\\venv\\Lib\\site-packages\\sklearn\\neural_network\\_multilayer_perceptron.py:691: ConvergenceWarning: Stochastic Optimizer: Maximum iterations (200) reached and the optimization hasn't converged yet.\n",
      "  warnings.warn(\n"
     ]
    },
    {
     "name": "stdout",
     "output_type": "stream",
     "text": [
      "FFNN 5-Factor Fitted\n",
      "RF 3-Factor Fitted\n",
      "RF 4-Factor Fitted\n",
      "RF 5-Factor Fitted\n",
      "4 dates remaining\n",
      "Naive Fitted\n",
      "Linear Regression 3-Factor Fitted\n",
      "Linear Regression 4-Factor Fitted\n",
      "Linear Regression 5-Factor Fitted\n"
     ]
    },
    {
     "name": "stderr",
     "output_type": "stream",
     "text": [
      "c:\\Users\\Xuan Le\\OneDrive - National University of Singapore\\Documents\\University\\y4s2\\DSE4101 Capstone Project in DSE I\\Mutual-Funds-Forecasting\\venv\\Lib\\site-packages\\sklearn\\neural_network\\_multilayer_perceptron.py:691: ConvergenceWarning: Stochastic Optimizer: Maximum iterations (200) reached and the optimization hasn't converged yet.\n",
      "  warnings.warn(\n"
     ]
    },
    {
     "name": "stdout",
     "output_type": "stream",
     "text": [
      "FFNN 3-Factor Fitted\n"
     ]
    },
    {
     "name": "stderr",
     "output_type": "stream",
     "text": [
      "c:\\Users\\Xuan Le\\OneDrive - National University of Singapore\\Documents\\University\\y4s2\\DSE4101 Capstone Project in DSE I\\Mutual-Funds-Forecasting\\venv\\Lib\\site-packages\\sklearn\\neural_network\\_multilayer_perceptron.py:691: ConvergenceWarning: Stochastic Optimizer: Maximum iterations (200) reached and the optimization hasn't converged yet.\n",
      "  warnings.warn(\n"
     ]
    },
    {
     "name": "stdout",
     "output_type": "stream",
     "text": [
      "FFNN 4-Factor Fitted\n"
     ]
    },
    {
     "name": "stderr",
     "output_type": "stream",
     "text": [
      "c:\\Users\\Xuan Le\\OneDrive - National University of Singapore\\Documents\\University\\y4s2\\DSE4101 Capstone Project in DSE I\\Mutual-Funds-Forecasting\\venv\\Lib\\site-packages\\sklearn\\neural_network\\_multilayer_perceptron.py:691: ConvergenceWarning: Stochastic Optimizer: Maximum iterations (200) reached and the optimization hasn't converged yet.\n",
      "  warnings.warn(\n"
     ]
    },
    {
     "name": "stdout",
     "output_type": "stream",
     "text": [
      "FFNN 5-Factor Fitted\n",
      "RF 3-Factor Fitted\n",
      "RF 4-Factor Fitted\n",
      "RF 5-Factor Fitted\n",
      "3 dates remaining\n",
      "Naive Fitted\n",
      "Linear Regression 3-Factor Fitted\n",
      "Linear Regression 4-Factor Fitted\n",
      "Linear Regression 5-Factor Fitted\n"
     ]
    },
    {
     "name": "stderr",
     "output_type": "stream",
     "text": [
      "c:\\Users\\Xuan Le\\OneDrive - National University of Singapore\\Documents\\University\\y4s2\\DSE4101 Capstone Project in DSE I\\Mutual-Funds-Forecasting\\venv\\Lib\\site-packages\\sklearn\\neural_network\\_multilayer_perceptron.py:691: ConvergenceWarning: Stochastic Optimizer: Maximum iterations (200) reached and the optimization hasn't converged yet.\n",
      "  warnings.warn(\n"
     ]
    },
    {
     "name": "stdout",
     "output_type": "stream",
     "text": [
      "FFNN 3-Factor Fitted\n"
     ]
    },
    {
     "name": "stderr",
     "output_type": "stream",
     "text": [
      "c:\\Users\\Xuan Le\\OneDrive - National University of Singapore\\Documents\\University\\y4s2\\DSE4101 Capstone Project in DSE I\\Mutual-Funds-Forecasting\\venv\\Lib\\site-packages\\sklearn\\neural_network\\_multilayer_perceptron.py:691: ConvergenceWarning: Stochastic Optimizer: Maximum iterations (200) reached and the optimization hasn't converged yet.\n",
      "  warnings.warn(\n"
     ]
    },
    {
     "name": "stdout",
     "output_type": "stream",
     "text": [
      "FFNN 4-Factor Fitted\n"
     ]
    },
    {
     "name": "stderr",
     "output_type": "stream",
     "text": [
      "c:\\Users\\Xuan Le\\OneDrive - National University of Singapore\\Documents\\University\\y4s2\\DSE4101 Capstone Project in DSE I\\Mutual-Funds-Forecasting\\venv\\Lib\\site-packages\\sklearn\\neural_network\\_multilayer_perceptron.py:691: ConvergenceWarning: Stochastic Optimizer: Maximum iterations (200) reached and the optimization hasn't converged yet.\n",
      "  warnings.warn(\n"
     ]
    },
    {
     "name": "stdout",
     "output_type": "stream",
     "text": [
      "FFNN 5-Factor Fitted\n",
      "RF 3-Factor Fitted\n",
      "RF 4-Factor Fitted\n",
      "RF 5-Factor Fitted\n",
      "2 dates remaining\n",
      "Naive Fitted\n",
      "Linear Regression 3-Factor Fitted\n",
      "Linear Regression 4-Factor Fitted\n",
      "Linear Regression 5-Factor Fitted\n"
     ]
    },
    {
     "name": "stderr",
     "output_type": "stream",
     "text": [
      "c:\\Users\\Xuan Le\\OneDrive - National University of Singapore\\Documents\\University\\y4s2\\DSE4101 Capstone Project in DSE I\\Mutual-Funds-Forecasting\\venv\\Lib\\site-packages\\sklearn\\neural_network\\_multilayer_perceptron.py:691: ConvergenceWarning: Stochastic Optimizer: Maximum iterations (200) reached and the optimization hasn't converged yet.\n",
      "  warnings.warn(\n"
     ]
    },
    {
     "name": "stdout",
     "output_type": "stream",
     "text": [
      "FFNN 3-Factor Fitted\n"
     ]
    },
    {
     "name": "stderr",
     "output_type": "stream",
     "text": [
      "c:\\Users\\Xuan Le\\OneDrive - National University of Singapore\\Documents\\University\\y4s2\\DSE4101 Capstone Project in DSE I\\Mutual-Funds-Forecasting\\venv\\Lib\\site-packages\\sklearn\\neural_network\\_multilayer_perceptron.py:691: ConvergenceWarning: Stochastic Optimizer: Maximum iterations (200) reached and the optimization hasn't converged yet.\n",
      "  warnings.warn(\n"
     ]
    },
    {
     "name": "stdout",
     "output_type": "stream",
     "text": [
      "FFNN 4-Factor Fitted\n"
     ]
    },
    {
     "name": "stderr",
     "output_type": "stream",
     "text": [
      "c:\\Users\\Xuan Le\\OneDrive - National University of Singapore\\Documents\\University\\y4s2\\DSE4101 Capstone Project in DSE I\\Mutual-Funds-Forecasting\\venv\\Lib\\site-packages\\sklearn\\neural_network\\_multilayer_perceptron.py:691: ConvergenceWarning: Stochastic Optimizer: Maximum iterations (200) reached and the optimization hasn't converged yet.\n",
      "  warnings.warn(\n"
     ]
    },
    {
     "name": "stdout",
     "output_type": "stream",
     "text": [
      "FFNN 5-Factor Fitted\n",
      "RF 3-Factor Fitted\n",
      "RF 4-Factor Fitted\n",
      "RF 5-Factor Fitted\n",
      "1 dates remaining\n",
      "Naive Fitted\n",
      "Linear Regression 3-Factor Fitted\n",
      "Linear Regression 4-Factor Fitted\n",
      "Linear Regression 5-Factor Fitted\n"
     ]
    },
    {
     "name": "stderr",
     "output_type": "stream",
     "text": [
      "c:\\Users\\Xuan Le\\OneDrive - National University of Singapore\\Documents\\University\\y4s2\\DSE4101 Capstone Project in DSE I\\Mutual-Funds-Forecasting\\venv\\Lib\\site-packages\\sklearn\\neural_network\\_multilayer_perceptron.py:691: ConvergenceWarning: Stochastic Optimizer: Maximum iterations (200) reached and the optimization hasn't converged yet.\n",
      "  warnings.warn(\n"
     ]
    },
    {
     "name": "stdout",
     "output_type": "stream",
     "text": [
      "FFNN 3-Factor Fitted\n"
     ]
    },
    {
     "name": "stderr",
     "output_type": "stream",
     "text": [
      "c:\\Users\\Xuan Le\\OneDrive - National University of Singapore\\Documents\\University\\y4s2\\DSE4101 Capstone Project in DSE I\\Mutual-Funds-Forecasting\\venv\\Lib\\site-packages\\sklearn\\neural_network\\_multilayer_perceptron.py:691: ConvergenceWarning: Stochastic Optimizer: Maximum iterations (200) reached and the optimization hasn't converged yet.\n",
      "  warnings.warn(\n"
     ]
    },
    {
     "name": "stdout",
     "output_type": "stream",
     "text": [
      "FFNN 4-Factor Fitted\n"
     ]
    },
    {
     "name": "stderr",
     "output_type": "stream",
     "text": [
      "c:\\Users\\Xuan Le\\OneDrive - National University of Singapore\\Documents\\University\\y4s2\\DSE4101 Capstone Project in DSE I\\Mutual-Funds-Forecasting\\venv\\Lib\\site-packages\\sklearn\\neural_network\\_multilayer_perceptron.py:691: ConvergenceWarning: Stochastic Optimizer: Maximum iterations (200) reached and the optimization hasn't converged yet.\n",
      "  warnings.warn(\n"
     ]
    },
    {
     "name": "stdout",
     "output_type": "stream",
     "text": [
      "FFNN 5-Factor Fitted\n",
      "RF 3-Factor Fitted\n",
      "RF 4-Factor Fitted\n",
      "RF 5-Factor Fitted\n",
      "0 dates remaining\n"
     ]
    },
    {
     "data": {
      "text/html": [
       "<div>\n",
       "<style scoped>\n",
       "    .dataframe tbody tr th:only-of-type {\n",
       "        vertical-align: middle;\n",
       "    }\n",
       "\n",
       "    .dataframe tbody tr th {\n",
       "        vertical-align: top;\n",
       "    }\n",
       "\n",
       "    .dataframe thead th {\n",
       "        text-align: right;\n",
       "    }\n",
       "</style>\n",
       "<table border=\"1\" class=\"dataframe\">\n",
       "  <thead>\n",
       "    <tr style=\"text-align: right;\">\n",
       "      <th></th>\n",
       "      <th>rolling_sharpe</th>\n",
       "      <th>naive</th>\n",
       "      <th>linear_3f</th>\n",
       "      <th>linear_4f</th>\n",
       "      <th>linear_5f</th>\n",
       "      <th>ffnn_3f</th>\n",
       "      <th>ffnn_4f</th>\n",
       "      <th>ffnn_5f</th>\n",
       "      <th>rf_3f</th>\n",
       "      <th>rf_4f</th>\n",
       "      <th>rf_5f</th>\n",
       "    </tr>\n",
       "  </thead>\n",
       "  <tbody>\n",
       "    <tr>\n",
       "      <th>0</th>\n",
       "      <td>0.075880</td>\n",
       "      <td>-0.175525</td>\n",
       "      <td>1.107035</td>\n",
       "      <td>1.293003</td>\n",
       "      <td>1.362865</td>\n",
       "      <td>-0.573290</td>\n",
       "      <td>0.328114</td>\n",
       "      <td>-0.107512</td>\n",
       "      <td>-0.198595</td>\n",
       "      <td>-0.257246</td>\n",
       "      <td>0.065282</td>\n",
       "    </tr>\n",
       "    <tr>\n",
       "      <th>1</th>\n",
       "      <td>0.620161</td>\n",
       "      <td>0.355801</td>\n",
       "      <td>1.394467</td>\n",
       "      <td>1.410295</td>\n",
       "      <td>1.470482</td>\n",
       "      <td>0.166323</td>\n",
       "      <td>0.725197</td>\n",
       "      <td>0.340878</td>\n",
       "      <td>0.521055</td>\n",
       "      <td>0.392970</td>\n",
       "      <td>0.486536</td>\n",
       "    </tr>\n",
       "    <tr>\n",
       "      <th>2</th>\n",
       "      <td>-0.198237</td>\n",
       "      <td>-0.053156</td>\n",
       "      <td>1.307230</td>\n",
       "      <td>1.311123</td>\n",
       "      <td>1.353404</td>\n",
       "      <td>-0.100094</td>\n",
       "      <td>0.303508</td>\n",
       "      <td>-0.120042</td>\n",
       "      <td>-0.003408</td>\n",
       "      <td>-0.110633</td>\n",
       "      <td>0.059762</td>\n",
       "    </tr>\n",
       "    <tr>\n",
       "      <th>3</th>\n",
       "      <td>-0.721097</td>\n",
       "      <td>-0.824169</td>\n",
       "      <td>1.203771</td>\n",
       "      <td>1.176778</td>\n",
       "      <td>1.309823</td>\n",
       "      <td>-0.947176</td>\n",
       "      <td>-0.468088</td>\n",
       "      <td>-1.150902</td>\n",
       "      <td>-0.818876</td>\n",
       "      <td>-0.850210</td>\n",
       "      <td>-0.815150</td>\n",
       "    </tr>\n",
       "    <tr>\n",
       "      <th>4</th>\n",
       "      <td>0.541852</td>\n",
       "      <td>0.341311</td>\n",
       "      <td>1.319059</td>\n",
       "      <td>1.320656</td>\n",
       "      <td>1.415899</td>\n",
       "      <td>0.312471</td>\n",
       "      <td>0.617447</td>\n",
       "      <td>0.376172</td>\n",
       "      <td>0.458013</td>\n",
       "      <td>0.425351</td>\n",
       "      <td>0.466301</td>\n",
       "    </tr>\n",
       "    <tr>\n",
       "      <th>...</th>\n",
       "      <td>...</td>\n",
       "      <td>...</td>\n",
       "      <td>...</td>\n",
       "      <td>...</td>\n",
       "      <td>...</td>\n",
       "      <td>...</td>\n",
       "      <td>...</td>\n",
       "      <td>...</td>\n",
       "      <td>...</td>\n",
       "      <td>...</td>\n",
       "      <td>...</td>\n",
       "    </tr>\n",
       "    <tr>\n",
       "      <th>16200</th>\n",
       "      <td>0.622349</td>\n",
       "      <td>0.910776</td>\n",
       "      <td>0.599828</td>\n",
       "      <td>0.723024</td>\n",
       "      <td>0.646888</td>\n",
       "      <td>0.393691</td>\n",
       "      <td>1.012086</td>\n",
       "      <td>0.547661</td>\n",
       "      <td>0.757019</td>\n",
       "      <td>0.713474</td>\n",
       "      <td>0.714885</td>\n",
       "    </tr>\n",
       "    <tr>\n",
       "      <th>16201</th>\n",
       "      <td>0.676394</td>\n",
       "      <td>0.622349</td>\n",
       "      <td>0.560894</td>\n",
       "      <td>0.647742</td>\n",
       "      <td>0.591270</td>\n",
       "      <td>0.681270</td>\n",
       "      <td>0.627928</td>\n",
       "      <td>0.657690</td>\n",
       "      <td>0.632270</td>\n",
       "      <td>0.573459</td>\n",
       "      <td>0.667599</td>\n",
       "    </tr>\n",
       "    <tr>\n",
       "      <th>16202</th>\n",
       "      <td>0.691406</td>\n",
       "      <td>0.637319</td>\n",
       "      <td>0.567638</td>\n",
       "      <td>0.654383</td>\n",
       "      <td>0.597609</td>\n",
       "      <td>0.694414</td>\n",
       "      <td>0.641716</td>\n",
       "      <td>0.669445</td>\n",
       "      <td>0.667012</td>\n",
       "      <td>0.595375</td>\n",
       "      <td>0.712852</td>\n",
       "    </tr>\n",
       "    <tr>\n",
       "      <th>16203</th>\n",
       "      <td>0.691738</td>\n",
       "      <td>0.637960</td>\n",
       "      <td>0.565093</td>\n",
       "      <td>0.651797</td>\n",
       "      <td>0.595029</td>\n",
       "      <td>0.694673</td>\n",
       "      <td>0.641201</td>\n",
       "      <td>0.668733</td>\n",
       "      <td>0.668703</td>\n",
       "      <td>0.609311</td>\n",
       "      <td>0.718839</td>\n",
       "    </tr>\n",
       "    <tr>\n",
       "      <th>16204</th>\n",
       "      <td>0.631615</td>\n",
       "      <td>0.578175</td>\n",
       "      <td>0.540348</td>\n",
       "      <td>0.627570</td>\n",
       "      <td>0.571580</td>\n",
       "      <td>0.644965</td>\n",
       "      <td>0.587308</td>\n",
       "      <td>0.621936</td>\n",
       "      <td>0.558358</td>\n",
       "      <td>0.538807</td>\n",
       "      <td>0.654266</td>\n",
       "    </tr>\n",
       "  </tbody>\n",
       "</table>\n",
       "<p>16205 rows × 11 columns</p>\n",
       "</div>"
      ],
      "text/plain": [
       "       rolling_sharpe     naive  linear_3f  linear_4f  linear_5f   ffnn_3f  \\\n",
       "0            0.075880 -0.175525   1.107035   1.293003   1.362865 -0.573290   \n",
       "1            0.620161  0.355801   1.394467   1.410295   1.470482  0.166323   \n",
       "2           -0.198237 -0.053156   1.307230   1.311123   1.353404 -0.100094   \n",
       "3           -0.721097 -0.824169   1.203771   1.176778   1.309823 -0.947176   \n",
       "4            0.541852  0.341311   1.319059   1.320656   1.415899  0.312471   \n",
       "...               ...       ...        ...        ...        ...       ...   \n",
       "16200        0.622349  0.910776   0.599828   0.723024   0.646888  0.393691   \n",
       "16201        0.676394  0.622349   0.560894   0.647742   0.591270  0.681270   \n",
       "16202        0.691406  0.637319   0.567638   0.654383   0.597609  0.694414   \n",
       "16203        0.691738  0.637960   0.565093   0.651797   0.595029  0.694673   \n",
       "16204        0.631615  0.578175   0.540348   0.627570   0.571580  0.644965   \n",
       "\n",
       "        ffnn_4f   ffnn_5f     rf_3f     rf_4f     rf_5f  \n",
       "0      0.328114 -0.107512 -0.198595 -0.257246  0.065282  \n",
       "1      0.725197  0.340878  0.521055  0.392970  0.486536  \n",
       "2      0.303508 -0.120042 -0.003408 -0.110633  0.059762  \n",
       "3     -0.468088 -1.150902 -0.818876 -0.850210 -0.815150  \n",
       "4      0.617447  0.376172  0.458013  0.425351  0.466301  \n",
       "...         ...       ...       ...       ...       ...  \n",
       "16200  1.012086  0.547661  0.757019  0.713474  0.714885  \n",
       "16201  0.627928  0.657690  0.632270  0.573459  0.667599  \n",
       "16202  0.641716  0.669445  0.667012  0.595375  0.712852  \n",
       "16203  0.641201  0.668733  0.668703  0.609311  0.718839  \n",
       "16204  0.587308  0.621936  0.558358  0.538807  0.654266  \n",
       "\n",
       "[16205 rows x 11 columns]"
      ]
     },
     "execution_count": 14,
     "metadata": {},
     "output_type": "execute_result"
    }
   ],
   "source": [
    "y = overall_function(dataset = df, outcome = 'rolling_sharpe')\n",
    "y"
   ]
  },
  {
   "cell_type": "markdown",
   "metadata": {},
   "source": [
    "Evaluation"
   ]
  },
  {
   "cell_type": "code",
   "execution_count": 15,
   "metadata": {},
   "outputs": [],
   "source": [
    "from sklearn.metrics import mean_absolute_error, mean_squared_error, r2_score\n",
    "\n",
    "def mean_absolute_scaled_error(y_true, y_pred):\n",
    "    y_true = np.array(y_true)\n",
    "    y_pred = np.array(y_pred)\n",
    "    \n",
    "    naive_mae = np.mean(np.abs(y_true[1:] - y_true[:-1]))\n",
    "    mae = mean_absolute_error(y_true, y_pred)\n",
    "    mase = mae / naive_mae if naive_mae != 0 else np.nan\n",
    "\n",
    "    return mase \n",
    "\n",
    "def evaluate_model(y_true, y_pred, model_name):\n",
    "    mae = mean_absolute_error(y_true, y_pred)\n",
    "    mse = mean_squared_error(y_true, y_pred)\n",
    "    rmse = np.sqrt(mse)\n",
    "    r2 = r2_score(y_true, y_pred)\n",
    "    mase = mean_absolute_scaled_error(y_true, y_pred)\n",
    "\n",
    "    return {\"Model\": model_name, \"MAE\": mae, \"MSE\": mse, \"RMSE\": rmse, \"R2\": r2, \"MASE\": mase}\n",
    "\n",
    "def evaluate_all_models(results):\n",
    "    models = ['naive', 'linear_3f', 'linear_4f', 'linear_5f', \n",
    "              'ffnn_3f', 'ffnn_4f', 'ffnn_5f', 'rf_3f', 'rf_4f', 'rf_5f']\n",
    "\n",
    "    metrics = []\n",
    "\n",
    "    for model in models:\n",
    "        if model in results.columns:\n",
    "            metrics.append(evaluate_model(results['rolling_sharpe'], results[model], model))\n",
    "    \n",
    "    return pd.DataFrame(metrics)"
   ]
  },
  {
   "cell_type": "code",
   "execution_count": 16,
   "metadata": {},
   "outputs": [
    {
     "data": {
      "text/html": [
       "<div>\n",
       "<style scoped>\n",
       "    .dataframe tbody tr th:only-of-type {\n",
       "        vertical-align: middle;\n",
       "    }\n",
       "\n",
       "    .dataframe tbody tr th {\n",
       "        vertical-align: top;\n",
       "    }\n",
       "\n",
       "    .dataframe thead th {\n",
       "        text-align: right;\n",
       "    }\n",
       "</style>\n",
       "<table border=\"1\" class=\"dataframe\">\n",
       "  <thead>\n",
       "    <tr style=\"text-align: right;\">\n",
       "      <th></th>\n",
       "      <th>Model</th>\n",
       "      <th>MAE</th>\n",
       "      <th>MSE</th>\n",
       "      <th>RMSE</th>\n",
       "      <th>R2</th>\n",
       "      <th>MASE</th>\n",
       "    </tr>\n",
       "  </thead>\n",
       "  <tbody>\n",
       "    <tr>\n",
       "      <th>0</th>\n",
       "      <td>naive</td>\n",
       "      <td>0.423464</td>\n",
       "      <td>1.824658</td>\n",
       "      <td>1.350799</td>\n",
       "      <td>-0.051243</td>\n",
       "      <td>0.647748</td>\n",
       "    </tr>\n",
       "    <tr>\n",
       "      <th>1</th>\n",
       "      <td>linear_3f</td>\n",
       "      <td>0.651032</td>\n",
       "      <td>0.772964</td>\n",
       "      <td>0.879184</td>\n",
       "      <td>0.554671</td>\n",
       "      <td>0.995847</td>\n",
       "    </tr>\n",
       "    <tr>\n",
       "      <th>2</th>\n",
       "      <td>linear_4f</td>\n",
       "      <td>0.640803</td>\n",
       "      <td>0.759496</td>\n",
       "      <td>0.871491</td>\n",
       "      <td>0.562430</td>\n",
       "      <td>0.980199</td>\n",
       "    </tr>\n",
       "    <tr>\n",
       "      <th>3</th>\n",
       "      <td>linear_5f</td>\n",
       "      <td>0.666076</td>\n",
       "      <td>0.803326</td>\n",
       "      <td>0.896285</td>\n",
       "      <td>0.537178</td>\n",
       "      <td>1.018859</td>\n",
       "    </tr>\n",
       "    <tr>\n",
       "      <th>4</th>\n",
       "      <td>ffnn_3f</td>\n",
       "      <td>0.764517</td>\n",
       "      <td>1.040084</td>\n",
       "      <td>1.019845</td>\n",
       "      <td>0.400775</td>\n",
       "      <td>1.169438</td>\n",
       "    </tr>\n",
       "    <tr>\n",
       "      <th>5</th>\n",
       "      <td>ffnn_4f</td>\n",
       "      <td>0.823869</td>\n",
       "      <td>1.191638</td>\n",
       "      <td>1.091622</td>\n",
       "      <td>0.313459</td>\n",
       "      <td>1.260225</td>\n",
       "    </tr>\n",
       "    <tr>\n",
       "      <th>6</th>\n",
       "      <td>ffnn_5f</td>\n",
       "      <td>0.806309</td>\n",
       "      <td>1.400795</td>\n",
       "      <td>1.183552</td>\n",
       "      <td>0.192958</td>\n",
       "      <td>1.233365</td>\n",
       "    </tr>\n",
       "    <tr>\n",
       "      <th>7</th>\n",
       "      <td>rf_3f</td>\n",
       "      <td>0.443503</td>\n",
       "      <td>0.373461</td>\n",
       "      <td>0.611115</td>\n",
       "      <td>0.784837</td>\n",
       "      <td>0.678401</td>\n",
       "    </tr>\n",
       "    <tr>\n",
       "      <th>8</th>\n",
       "      <td>rf_4f</td>\n",
       "      <td>0.444921</td>\n",
       "      <td>0.379784</td>\n",
       "      <td>0.616266</td>\n",
       "      <td>0.781195</td>\n",
       "      <td>0.680570</td>\n",
       "    </tr>\n",
       "    <tr>\n",
       "      <th>9</th>\n",
       "      <td>rf_5f</td>\n",
       "      <td>0.447120</td>\n",
       "      <td>0.392387</td>\n",
       "      <td>0.626408</td>\n",
       "      <td>0.773933</td>\n",
       "      <td>0.683934</td>\n",
       "    </tr>\n",
       "  </tbody>\n",
       "</table>\n",
       "</div>"
      ],
      "text/plain": [
       "       Model       MAE       MSE      RMSE        R2      MASE\n",
       "0      naive  0.423464  1.824658  1.350799 -0.051243  0.647748\n",
       "1  linear_3f  0.651032  0.772964  0.879184  0.554671  0.995847\n",
       "2  linear_4f  0.640803  0.759496  0.871491  0.562430  0.980199\n",
       "3  linear_5f  0.666076  0.803326  0.896285  0.537178  1.018859\n",
       "4    ffnn_3f  0.764517  1.040084  1.019845  0.400775  1.169438\n",
       "5    ffnn_4f  0.823869  1.191638  1.091622  0.313459  1.260225\n",
       "6    ffnn_5f  0.806309  1.400795  1.183552  0.192958  1.233365\n",
       "7      rf_3f  0.443503  0.373461  0.611115  0.784837  0.678401\n",
       "8      rf_4f  0.444921  0.379784  0.616266  0.781195  0.680570\n",
       "9      rf_5f  0.447120  0.392387  0.626408  0.773933  0.683934"
      ]
     },
     "execution_count": 16,
     "metadata": {},
     "output_type": "execute_result"
    }
   ],
   "source": [
    "metrics_results = evaluate_all_models(y)\n",
    "metrics_results"
   ]
  },
  {
   "cell_type": "markdown",
   "metadata": {},
   "source": [
    "Random Test Codes"
   ]
  },
  {
   "cell_type": "code",
   "execution_count": 222,
   "metadata": {},
   "outputs": [
    {
     "name": "stderr",
     "output_type": "stream",
     "text": [
      "C:\\Users\\wjlwi\\AppData\\Local\\Packages\\PythonSoftwareFoundation.Python.3.10_qbz5n2kfra8p0\\LocalCache\\local-packages\\Python310\\site-packages\\sklearn\\neural_network\\_multilayer_perceptron.py:1631: DataConversionWarning: A column-vector y was passed when a 1d array was expected. Please change the shape of y to (n_samples, ), for example using ravel().\n",
      "  y = column_or_1d(y, warn=True)\n",
      "C:\\Users\\wjlwi\\AppData\\Local\\Packages\\PythonSoftwareFoundation.Python.3.10_qbz5n2kfra8p0\\LocalCache\\local-packages\\Python310\\site-packages\\sklearn\\linear_model\\_coordinate_descent.py:1656: DataConversionWarning: A column-vector y was passed when a 1d array was expected. Please change the shape of y to (n_samples, ), for example using ravel().\n",
      "  y = column_or_1d(y, warn=True)\n",
      "C:\\Users\\wjlwi\\AppData\\Local\\Packages\\PythonSoftwareFoundation.Python.3.10_qbz5n2kfra8p0\\LocalCache\\local-packages\\Python310\\site-packages\\sklearn\\linear_model\\_coordinate_descent.py:1656: DataConversionWarning: A column-vector y was passed when a 1d array was expected. Please change the shape of y to (n_samples, ), for example using ravel().\n",
      "  y = column_or_1d(y, warn=True)\n"
     ]
    },
    {
     "data": {
      "text/html": [
       "<div>\n",
       "<style scoped>\n",
       "    .dataframe tbody tr th:only-of-type {\n",
       "        vertical-align: middle;\n",
       "    }\n",
       "\n",
       "    .dataframe tbody tr th {\n",
       "        vertical-align: top;\n",
       "    }\n",
       "\n",
       "    .dataframe thead th {\n",
       "        text-align: right;\n",
       "    }\n",
       "</style>\n",
       "<table border=\"1\" class=\"dataframe\">\n",
       "  <thead>\n",
       "    <tr style=\"text-align: right;\">\n",
       "      <th></th>\n",
       "      <th>mth_return</th>\n",
       "      <th>linear</th>\n",
       "      <th>mlp</th>\n",
       "      <th>ridge</th>\n",
       "      <th>lasso</th>\n",
       "      <th>elasticnet</th>\n",
       "    </tr>\n",
       "  </thead>\n",
       "  <tbody>\n",
       "    <tr>\n",
       "      <th>10946</th>\n",
       "      <td>0.065153</td>\n",
       "      <td>0.021697</td>\n",
       "      <td>0.028095</td>\n",
       "      <td>0.021687</td>\n",
       "      <td>0.020224</td>\n",
       "      <td>0.020162</td>\n",
       "    </tr>\n",
       "    <tr>\n",
       "      <th>39688</th>\n",
       "      <td>0.061436</td>\n",
       "      <td>0.025942</td>\n",
       "      <td>0.028074</td>\n",
       "      <td>0.025939</td>\n",
       "      <td>0.025101</td>\n",
       "      <td>0.025072</td>\n",
       "    </tr>\n",
       "    <tr>\n",
       "      <th>5363</th>\n",
       "      <td>0.016949</td>\n",
       "      <td>0.016051</td>\n",
       "      <td>0.011053</td>\n",
       "      <td>0.016035</td>\n",
       "      <td>0.014860</td>\n",
       "      <td>0.014763</td>\n",
       "    </tr>\n",
       "    <tr>\n",
       "      <th>47379</th>\n",
       "      <td>0.060768</td>\n",
       "      <td>0.019023</td>\n",
       "      <td>0.010773</td>\n",
       "      <td>0.019012</td>\n",
       "      <td>0.018111</td>\n",
       "      <td>0.018036</td>\n",
       "    </tr>\n",
       "    <tr>\n",
       "      <th>28685</th>\n",
       "      <td>0.039707</td>\n",
       "      <td>0.019021</td>\n",
       "      <td>0.012601</td>\n",
       "      <td>0.019010</td>\n",
       "      <td>0.018229</td>\n",
       "      <td>0.018155</td>\n",
       "    </tr>\n",
       "    <tr>\n",
       "      <th>...</th>\n",
       "      <td>...</td>\n",
       "      <td>...</td>\n",
       "      <td>...</td>\n",
       "      <td>...</td>\n",
       "      <td>...</td>\n",
       "      <td>...</td>\n",
       "    </tr>\n",
       "    <tr>\n",
       "      <th>47060</th>\n",
       "      <td>0.062213</td>\n",
       "      <td>0.026357</td>\n",
       "      <td>0.028813</td>\n",
       "      <td>0.026354</td>\n",
       "      <td>0.025445</td>\n",
       "      <td>0.025418</td>\n",
       "    </tr>\n",
       "    <tr>\n",
       "      <th>35538</th>\n",
       "      <td>0.063594</td>\n",
       "      <td>0.018598</td>\n",
       "      <td>0.017622</td>\n",
       "      <td>0.018585</td>\n",
       "      <td>0.017400</td>\n",
       "      <td>0.017319</td>\n",
       "    </tr>\n",
       "    <tr>\n",
       "      <th>38224</th>\n",
       "      <td>0.060625</td>\n",
       "      <td>0.027637</td>\n",
       "      <td>0.031756</td>\n",
       "      <td>0.027635</td>\n",
       "      <td>0.026746</td>\n",
       "      <td>0.026727</td>\n",
       "    </tr>\n",
       "    <tr>\n",
       "      <th>16851</th>\n",
       "      <td>0.013965</td>\n",
       "      <td>0.025182</td>\n",
       "      <td>0.028781</td>\n",
       "      <td>0.025177</td>\n",
       "      <td>0.024109</td>\n",
       "      <td>0.024072</td>\n",
       "    </tr>\n",
       "    <tr>\n",
       "      <th>45566</th>\n",
       "      <td>0.016185</td>\n",
       "      <td>0.024201</td>\n",
       "      <td>0.065111</td>\n",
       "      <td>0.024194</td>\n",
       "      <td>0.022904</td>\n",
       "      <td>0.022860</td>\n",
       "    </tr>\n",
       "  </tbody>\n",
       "</table>\n",
       "<p>224 rows × 6 columns</p>\n",
       "</div>"
      ],
      "text/plain": [
       "       mth_return    linear       mlp     ridge     lasso  elasticnet\n",
       "10946    0.065153  0.021697  0.028095  0.021687  0.020224    0.020162\n",
       "39688    0.061436  0.025942  0.028074  0.025939  0.025101    0.025072\n",
       "5363     0.016949  0.016051  0.011053  0.016035  0.014860    0.014763\n",
       "47379    0.060768  0.019023  0.010773  0.019012  0.018111    0.018036\n",
       "28685    0.039707  0.019021  0.012601  0.019010  0.018229    0.018155\n",
       "...           ...       ...       ...       ...       ...         ...\n",
       "47060    0.062213  0.026357  0.028813  0.026354  0.025445    0.025418\n",
       "35538    0.063594  0.018598  0.017622  0.018585  0.017400    0.017319\n",
       "38224    0.060625  0.027637  0.031756  0.027635  0.026746    0.026727\n",
       "16851    0.013965  0.025182  0.028781  0.025177  0.024109    0.024072\n",
       "45566    0.016185  0.024201  0.065111  0.024194  0.022904    0.022860\n",
       "\n",
       "[224 rows x 6 columns]"
      ]
     },
     "execution_count": 222,
     "metadata": {},
     "output_type": "execute_result"
    }
   ],
   "source": [
    "# from sklearn.model_selection import TimeSeriesSplit, GridSearchCV\n",
    "# from sklearn.metrics import r2_score\n",
    "# X, y = create_stepped_dataset(create_lagged_dataset(df_3_factor, lag=1,target_var='mth_return'),step=1,target_var='mth_return')\n",
    "# X = X.replace(np.inf, 0)\n",
    "# X = X.replace(-np.inf, 0)\n",
    "# # X\n",
    "\n",
    "# list_of_dates = df['date'].unique()\n",
    "# list_of_dates = pd.to_datetime(df['date']) # Converting to date format\n",
    "\n",
    "# percentile_70 = list_of_dates.quantile(0.7)\n",
    "# med_date = list_of_dates.loc[(list_of_dates - percentile_70).abs().idxmin()]\n",
    "# next_date = list_of_dates[list_of_dates > med_date].min()\n",
    "\n",
    "# X['date_L1'] = pd.to_datetime(X['date_L1'])\n",
    "# X_train_3f = X[X['date_L1'] < med_date]\n",
    "# y_train_3f = y[:len(X_train_3f)]\n",
    "# X_test_3f = X[X['date_L1'] == next_date]\n",
    "# y_test_3f = y[len(X_train_3f):(len(X_train_3f)+len(X_test_3f))]\n",
    "# final = y_test_3f.copy()\n",
    "# X_train_3f = X_train_3f.drop(columns='date_L1')\n",
    "# X_test_3f = X_test_3f.drop(columns='date_L1')\n",
    "\n",
    "# scaler = StandardScaler()\n",
    "\n",
    "# X_train_3f = scaler.fit_transform(X_train_3f)\n",
    "# X_test_3f = scaler.transform(X_test_3f)\n",
    "\n",
    "# model = LinearRegression()\n",
    "# model.fit(X_train_3f, y_train_3f)\n",
    "\n",
    "# y_pred = model.predict(X_test_3f)\n",
    "\n",
    "# model2 = MLPRegressor(hidden_layer_sizes=(64, 32), activation='relu', solver='adam', max_iter=200)\n",
    "# model2.fit(X_train_3f, y_train_3f)\n",
    "\n",
    "# y_pred2 = model2.predict(X_test_3f)\n",
    "\n",
    "# tscv = TimeSeriesSplit(n_splits = 5)\n",
    "# ridge_cv = RidgeCV(cv = tscv)\n",
    "# ridge_cv.fit(X_train_3f, y_train_3f)\n",
    "\n",
    "# model3 = Ridge(alpha = ridge_cv.alpha_)\n",
    "# model3.fit(X_train_3f, y_train_3f)\n",
    "# y_pred3 = model3.predict(X_test_3f)\n",
    "\n",
    "# lasso_cv = LassoCV(cv = tscv, random_state = 18, max_iter = 100000)\n",
    "# lasso_cv.fit(X_train_3f, y_train_3f)\n",
    "\n",
    "# # Create the Lasso model with the optimal alpha value\n",
    "# lasso_model = Lasso(alpha = lasso_cv.alpha_)\n",
    "# lasso_model.fit(X_train_3f, y_train_3f)\n",
    "# y_pred4 = lasso_model.predict(X_test_3f)\n",
    "\n",
    "# elasticnet_cv = ElasticNetCV(cv = tscv, max_iter = 100000)\n",
    "# elasticnet_cv.fit(X_train_3f, y_train_3f)\n",
    "# elasticnet_model = ElasticNet(alpha = elasticnet_cv.alpha_, l1_ratio = elasticnet_cv.l1_ratio_)\n",
    "# elasticnet_model.fit(X_train_3f, y_train_3f)\n",
    "        \n",
    "# y_pred5 = elasticnet_cv.predict(X_test_3f)\n",
    "\n",
    "# final['linear'] = y_pred\n",
    "# final['mlp'] = y_pred2\n",
    "# # final['ridge'] = y_pred3\n",
    "# # final['lasso'] = y_pred4\n",
    "# # final['elasticnet'] = y_pred5\n",
    "\n",
    "# final\n",
    "# X_test_3f\n",
    "# y_pred - y_test_3f\n",
    "# sum(abs((y_pred-y_test_3f)/y_test_3f))/len(y_test_3f)"
   ]
  },
  {
   "cell_type": "code",
   "execution_count": 229,
   "metadata": {},
   "outputs": [
    {
     "data": {
      "text/plain": [
       "-1.672832028647084"
      ]
     },
     "execution_count": 229,
     "metadata": {},
     "output_type": "execute_result"
    }
   ],
   "source": [
    "from sklearn.metrics import r2_score\n",
    "r2_linear = r2_score(final['mth_return'], final['linear'])\n",
    "r2_mlp = r2_score(final['mth_return'], final['mlp'])\n",
    "# r2_ridge = r2_score(final['mth_return'], final['ridge'])\n",
    "# r2_lasso = r2_score(final['mth_return'], final['lasso'])\n",
    "# r2_elasticnet = r2_score(final['mth_return'], final['elasticnet'])\n",
    "r2_mlp"
   ]
  }
 ],
 "metadata": {
  "kernelspec": {
   "display_name": "Python 3",
   "language": "python",
   "name": "python3"
  },
  "language_info": {
   "codemirror_mode": {
    "name": "ipython",
    "version": 3
   },
   "file_extension": ".py",
   "mimetype": "text/x-python",
   "name": "python",
   "nbconvert_exporter": "python",
   "pygments_lexer": "ipython3",
   "version": "3.10.11"
  }
 },
 "nbformat": 4,
 "nbformat_minor": 2
}
